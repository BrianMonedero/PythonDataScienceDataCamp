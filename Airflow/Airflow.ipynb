{
 "cells": [
  {
   "cell_type": "markdown",
   "metadata": {},
   "source": [
    "# Data engineering\n",
    "Taking any action involving data and turning it into a reliable, repeatable, and maintainable\n",
    "process."
   ]
  },
  {
   "cell_type": "markdown",
   "metadata": {},
   "source": [
    "# Workflow\n",
    "- A set of steps to accomplish a given data engineering task\n",
    "- Such as: downloading files, copying data, filtering information, writing to a database, etc"
   ]
  },
  {
   "cell_type": "markdown",
   "metadata": {},
   "source": [
    "# Airflow\n",
    "\n",
    "- Creation\n",
    "- Scheduling\n",
    "- Monitoring\n",
    "- Can implement any language, but written in Python\n",
    "- Workflows known as DAGs (Directed Acylic Graphs)\n",
    "  - Set of tasks that make up workflow\n",
    "  - Consists of the tasks and the dependencies\n",
    "  - Created with various details about the DAG, including the name, start date, owner\n",
    "- DAG\n",
    "  - Directed - inherent flow representing dependencies\n",
    "  - Acylic - no looping or repeating\n",
    "  - Graph - the set of compnents (work items, tasks)\n",
    "- airflow -h to view all commands\n",
    "  "
   ]
  },
  {
   "cell_type": "markdown",
   "metadata": {},
   "source": [
    "# DAG Create and Run Basic Examples\n",
    "```\n",
    "etl_dag = DAG(\n",
    "dag_id='etl_pipeline',\n",
    "default_args={\"start_date\": \"2020-01-08\"}\n",
    ")\n",
    "```\n",
    "\n",
    "```\n",
    "airflow run <dag_id> <task_id> <start_date>\n",
    "airflow run example-etl download-file 2020-01-10\n",
    "```"
   ]
  },
  {
   "cell_type": "markdown",
   "metadata": {},
   "source": [
    "# Sample DAG\n",
    "\n",
    "```\n",
    "from airflow.models import DAG\n",
    "from datetime import datetime\n",
    "default_arguments = {\n",
    "'owner': 'jdoe',\n",
    "'email': 'jdoe@datacamp.com',\n",
    "'start_date': datetime(2020, 1, 20)\n",
    "}\n",
    "etl_dag = DAG( 'etl_workflow', default_args=default_arguments )\n",
    "```"
   ]
  },
  {
   "cell_type": "markdown",
   "metadata": {},
   "source": [
    "|Command Line | Airflow |\n",
    "|---|---|\n",
    "|Start airflow processes|Create DAGs|\n",
    "|Manually run DAGs/tasks|Edit properties of individual DAGs|\n",
    "|Get airflow logging info||"
   ]
  },
  {
   "cell_type": "markdown",
   "metadata": {},
   "source": [
    "# Defining a simple DAG\n",
    "You've spent some time reviewing the Airflow components and are interested in testing out your own workflows. To start you decide to define the default arguments and create a DAG object for your workflow.  \n",
    "  \n",
    "The DateTime object has been imported for you.\n",
    "\n",
    "Instructions 2/3  \n",
    "Define the default_args dictionary with a key owner and a value of 'dsmith'.  \n",
    "Add a start_date of January 14, 2020 to default_args using the value 1 for the month of January.  \n",
    "Add a retries count of 2 to default_args.  \n",
    "Instantiate the DAG object to a variable called etl_dag with a DAG named example_etl.  \n",
    "Add the default_args dictionary to the appropriate argument.  "
   ]
  },
  {
   "cell_type": "code",
   "execution_count": 1,
   "metadata": {},
   "outputs": [
    {
     "name": "stderr",
     "output_type": "stream",
     "text": [
      "/home/brian/.local/lib/python3.8/site-packages/airflow/configuration.py:276: DeprecationWarning: distutils Version classes are deprecated. Use packaging.version instead.\n",
      "  if StrictVersion(sqlite3.sqlite_version) < StrictVersion(min_sqlite_version):\n"
     ]
    }
   ],
   "source": [
    "# Import the DAG object\n",
    "from airflow.models import DAG\n",
    "from datetime import datetime\n",
    "\n",
    "# Define the default_args dictionary\n",
    "default_args = {\n",
    "  'owner': 'dsmith',\n",
    "  'start_date': datetime(2020, 1, 14),\n",
    "  'retries': 2\n",
    "}\n",
    "\n",
    "# Instantiate the DAG object\n",
    "etl_dag = DAG('example_etl', default_args=default_args)"
   ]
  },
  {
   "cell_type": "markdown",
   "metadata": {},
   "source": [
    "# Airflow Web Interface\n",
    "- View DAGs\n",
    "- View DAGs schedules\n",
    "- View DAGs owners\n",
    "- View last run started\n",
    "- View last three runs started\n",
    "- View links\n",
    "\n",
    "- Detal View - view properties\n",
    "- Graph View - view DAG as a graph\n",
    "- Code View - view the underlying python\n",
    "- Logs\n",
    "- "
   ]
  },
  {
   "cell_type": "markdown",
   "metadata": {},
   "source": [
    "open cmd as admin\n",
    "access C:\\Program Files\\MySQL\\MySQL Server 8.0\\bin\n",
    "run mysql.exe -u admin -p\n",
    "enter password\n",
    "\n",
    "```\n",
    "SHOW DATABASES\n",
    "CREATE DATABASE airflowdb CHARACTER SET utf8 COLLATE utf8_unicode_ci;\n",
    "CREATE USER 'airflow'@'localhost' IDENTIFIED BY '<password>';\n",
    "GRANT ALL PRIVILEGES ON *.* TO 'airflow'@'localhost';\n",
    "FLUSH PRIVILEGES;\n",
    "OR GRANT ALL PRIVILEGES ON airflowdb.* To 'airflow'@'localhost';\n",
    "FLUSH PRIVILEGES;\n",
    "\n",
    "```\n",
    "airflow python2019"
   ]
  },
  {
   "cell_type": "code",
   "execution_count": 3,
   "metadata": {},
   "outputs": [
    {
     "ename": "IndentationError",
     "evalue": "unexpected indent (4266613977.py, line 4)",
     "output_type": "error",
     "traceback": [
      "\u001b[0;36m  File \u001b[0;32m\"/tmp/ipykernel_1601/4266613977.py\"\u001b[0;36m, line \u001b[0;32m4\u001b[0m\n\u001b[0;31m    user=\"airflow\",\u001b[0m\n\u001b[0m    ^\u001b[0m\n\u001b[0;31mIndentationError\u001b[0m\u001b[0;31m:\u001b[0m unexpected indent\n"
     ]
    }
   ],
   "source": [
    "import mysql.connector as mysql\n",
    "\n",
    "#dbconnect = mysql.connect(host=\"localhost\", \n",
    " #                         user=\"airflow\", \n",
    " #                         password=\"python2019\", \n",
    " #                         db=\"airflowdb\")\n",
    "\n",
    "#cursor = dbconnect.cursor()\n",
    "#cursor.execute(\"CREATE DATABASE airflowdb\")"
   ]
  },
  {
   "cell_type": "markdown",
   "metadata": {},
   "source": [
    "# Airflow Operators\n",
    "- Represent a single task in a worklow\n",
    "- Run independently\n",
    "- Generally do not share information\n",
    "- Various operators to perform different tasks  \n",
    "\n",
    "\n",
    " ```\n",
    "BashOperator(\n",
    "task_id='bash_example',\n",
    "bash_command='echo \"Example!\"',\n",
    "dag=ml_dag)\n",
    "```\n",
    "\n",
    "```\n",
    "BashOperator(\n",
    "task_id='bash_script_example',\n",
    "bash_command='runcleanup.sh',\n",
    "dag=ml_dag)\n",
    "```\n",
    "- Executes a given Bash command or script\n",
    "- Runs the command in a temporary directory\n",
    "- Can specify environment variables for the command.\n"
   ]
  },
  {
   "cell_type": "markdown",
   "metadata": {},
   "source": [
    "# Bach Operator Examples\n",
    "```\n",
    "from airflow.operators.bash_operator import BashOperator\n",
    "example_task = BashOperator(task_id='bash_ex',\n",
    "                            bash_command='echo 1',\n",
    "                            dag=dag)\n",
    "```\n",
    "\n",
    "```\n",
    "bash_task = BashOperator(task_id='clean_addresses',\n",
    "                        bash_command='cat addresses.txt | awk \"NF==10\" > cleaned.txt',\n",
    "                    dag=dag)\n",
    "```"
   ]
  },
  {
   "cell_type": "markdown",
   "metadata": {},
   "source": []
  }
 ],
 "metadata": {
  "interpreter": {
   "hash": "916dbcbb3f70747c44a77c7bcd40155683ae19c65e1c03b4aa3499c5328201f1"
  },
  "kernelspec": {
   "display_name": "Python 3.8.10 64-bit",
   "language": "python",
   "name": "python3"
  },
  "language_info": {
   "codemirror_mode": {
    "name": "ipython",
    "version": 3
   },
   "file_extension": ".py",
   "mimetype": "text/x-python",
   "name": "python",
   "nbconvert_exporter": "python",
   "pygments_lexer": "ipython3",
   "version": "3.8.10"
  },
  "orig_nbformat": 4
 },
 "nbformat": 4,
 "nbformat_minor": 2
}
