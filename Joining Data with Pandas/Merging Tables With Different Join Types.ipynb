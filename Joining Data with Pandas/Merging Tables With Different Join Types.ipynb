{
 "cells": [
  {
   "cell_type": "markdown",
   "metadata": {},
   "source": [
    "# Left Join\n",
    "\n",
    "Inner join returns only the rows of data with matching values in the key columns of both tables.\n",
    "\n",
    "Left Join returns all rows of data from the left table and only those rows from the right table where key columns match."
   ]
  },
  {
   "cell_type": "code",
   "execution_count": 16,
   "metadata": {},
   "outputs": [],
   "source": [
    "import pickle\n",
    "\n",
    "#Import movies data\n",
    "fileName = 'movies.p'\n",
    "infile = open(fileName, 'rb')\n",
    "movies = pickle.load(infile)\n",
    "infile.close()\n",
    "\n",
    "#Import casts data\n",
    "fileName = 'casts.p'\n",
    "infile = open(fileName, 'rb')\n",
    "casts = pickle.load(infile)\n",
    "infile.close()\n",
    "\n",
    "#Import movie_to_genres data\n",
    "fileName = 'movie_to_genres.p'\n",
    "infile = open(fileName, 'rb')\n",
    "movie_to_genres = pickle.load(infile)\n",
    "infile.close()\n",
    "\n",
    "#Import ratings data\n",
    "fileName = 'ratings.p'\n",
    "infile = open(fileName, 'rb')\n",
    "ratings = pickle.load(infile)\n",
    "infile.close()\n",
    "\n",
    "#Import sequels data\n",
    "fileName = 'sequels.p'\n",
    "infile = open(fileName, 'rb')\n",
    "sequels = pickle.load(infile)\n",
    "infile.close()\n",
    "\n",
    "#Import taglines data\n",
    "fileName = 'taglines.p'\n",
    "infile = open(fileName, 'rb')\n",
    "taglines = pickle.load(infile)\n",
    "infile.close()\n",
    "\n",
    "#Import financials data\n",
    "fileName = 'financials.p'\n",
    "infile = open(fileName, 'rb')\n",
    "financials = pickle.load(infile)\n",
    "infile.close()\n",
    "\n",
    "#Import crews data\n",
    "fileName = 'crews.p'\n",
    "infile = open(fileName, 'rb')\n",
    "crews = pickle.load(infile)\n",
    "infile.close()"
   ]
  },
  {
   "cell_type": "code",
   "execution_count": 17,
   "metadata": {},
   "outputs": [
    {
     "name": "stdout",
     "output_type": "stream",
     "text": [
      "      id                 title  popularity release_date  \\\n",
      "0    257          Oliver Twist   20.415572   2005-09-23   \n",
      "1  14290  Better Luck Tomorrow    3.877036   2002-01-12   \n",
      "2  38365             Grown Ups   38.864027   2010-06-24   \n",
      "3   9672              Infamous    3.680896   2006-11-16   \n",
      "4  12819       Alpha and Omega   12.300789   2010-09-17   \n",
      "\n",
      "                                           tagline  \n",
      "0                                              NaN  \n",
      "1             Never underestimate an overachiever.  \n",
      "2  Boys will be boys. . . some longer than others.  \n",
      "3          There's more to the story than you know  \n",
      "4                           A Pawsome 3D Adventure  \n",
      "(4803, 5)\n"
     ]
    }
   ],
   "source": [
    "movies_taglines = movies.merge(taglines, on='id', how='left')\n",
    "print(movies_taglines.head())\n",
    "print(movies_taglines.shape)"
   ]
  },
  {
   "cell_type": "markdown",
   "metadata": {},
   "source": [
    "## Counting missing rows with left join\n",
    "The Movie Database is supported by volunteers going out into the world, collecting data, and entering it into the database.  \n",
    " This includes financial data, such as movie budget and revenue.  \n",
    "  If you wanted to know which movies are still missing data, you could use a left join to identify them.  \n",
    "   Practice using a left join by merging the movies table and the financials table.  \n",
    "\n",
    "The movies and financials tables have been loaded for you.  \n",
    "\n",
    "What column is likely the best column to merge the two tables on? id\n",
    "\n",
    "Merge the movies table, as the left table, with the financials table using a left join, and save the result to movies_financials.  \n",
    "\n",
    "Count the number of rows in movies_financials with a null value in the budget column.  "
   ]
  },
  {
   "cell_type": "code",
   "execution_count": 18,
   "metadata": {},
   "outputs": [
    {
     "name": "stdout",
     "output_type": "stream",
     "text": [
      "id                int64\n",
      "title            object\n",
      "popularity      float64\n",
      "release_date     object\n",
      "dtype: object\n",
      "id           int64\n",
      "budget       int64\n",
      "revenue    float64\n",
      "dtype: object\n",
      "1574\n"
     ]
    }
   ],
   "source": [
    "print(movies.dtypes)\n",
    "print(financials.dtypes)\n",
    "\n",
    "# Merge the movies table with the financials table with a left join\n",
    "movies_financials = movies.merge(financials, on='id', how='left')\n",
    "\n",
    "# Count the number of rows in the budget column that are missing\n",
    "number_of_missing_fin = movies_financials['budget'].isnull().sum()\n",
    "\n",
    "# Print the number of movies missing financials\n",
    "print(number_of_missing_fin)"
   ]
  },
  {
   "cell_type": "markdown",
   "metadata": {},
   "source": [
    "## Enriching a dataset\n",
    "Setting how='left' with the .merge()method is a useful technique for enriching or enhancing a dataset with additional information from a different table.  \n",
    "In this exercise, you will start off with a sample of movie data from the movie series Toy Story.  \n",
    "Your goal is to enrich this data by adding the marketing tag line for each movie.  \n",
    "You will compare the results of a left join versus an inner join.  \n",
    "\n",
    "The toy_story DataFrame contains the Toy Story movies. The toy_story and taglines DataFrames have been loaded for you.  \n",
    "\n",
    "Merge toy_story and taglines on the id column with a left join, and save the result as toystory_tag.  \n",
    "\n",
    "With toy_story as the left table, merge to it taglines on the id column with an inner join, and save as toystory_tag  "
   ]
  },
  {
   "cell_type": "code",
   "execution_count": 19,
   "metadata": {},
   "outputs": [],
   "source": [
    "import pandas as pd\n",
    "\n",
    "toy_story = pd.read_csv(\"toy_story.txt\", sep = \"\\t\")"
   ]
  },
  {
   "cell_type": "code",
   "execution_count": 20,
   "metadata": {},
   "outputs": [
    {
     "name": "stdout",
     "output_type": "stream",
     "text": [
      "      id        title  popularity release_date                   tagline\n",
      "0  10193  Toy Story 3   59.995418    6/16/2010  No toy gets left behind.\n",
      "1    863  Toy Story 2   73.575118   10/30/1999        The toys are back!\n",
      "2    862    Toy Story   73.640445   10/30/1995                       NaN\n",
      "(3, 5)\n"
     ]
    }
   ],
   "source": [
    "toystory_tag = toy_story.merge(taglines, on = 'id', how = 'left')\n",
    "\n",
    "# Print the rows and shape of toystory_tag\n",
    "print(toystory_tag)\n",
    "print(toystory_tag.shape)"
   ]
  },
  {
   "cell_type": "code",
   "execution_count": 21,
   "metadata": {},
   "outputs": [
    {
     "name": "stdout",
     "output_type": "stream",
     "text": [
      "      id        title  popularity release_date                   tagline\n",
      "0  10193  Toy Story 3   59.995418    6/16/2010  No toy gets left behind.\n",
      "1    863  Toy Story 2   73.575118   10/30/1999        The toys are back!\n",
      "(2, 5)\n"
     ]
    }
   ],
   "source": [
    "toystory_tag = toy_story.merge(taglines, on = 'id', how = 'inner')\n",
    "\n",
    "# Print the rows and shape of toystory_tag\n",
    "print(toystory_tag)\n",
    "print(toystory_tag.shape)"
   ]
  },
  {
   "cell_type": "markdown",
   "metadata": {},
   "source": [
    "## How many rows with a left join?\n",
    "Select the true statement about left joins.  \n",
    "\n",
    "Try running the following code statements in the console.  \n",
    "\n",
    "left_table.merge(one_to_one, on='id', how='left').shape  \n",
    "left_table.merge(one_to_many, on='id', how='left').shape  \n",
    "Note that the left_table starts out with 4 rows.  \n"
   ]
  },
  {
   "cell_type": "markdown",
   "metadata": {},
   "source": [
    "# Right Join\n",
    "\n",
    "Right joins return all of the rows from the right table and includes only those rows from the left table that have matching values. It is the mirror opposite of the left join.  \n",
    "\n",
    "tv_movies = movies.merge(tv_genre, how='right',left_on='id', right_on='movie_id')  \n",
    "\n",
    "Set the **how** argument to right so that the merge performs a right join.  \n",
    "Additionally, set **left_on** and **right_on** which tell the merge which key columns from each table to merge the tables.  \n",
    "With movies as the left table, set left_on to id and right_on to movie_id.   \n",
    "Our returned table has movies that match our table of tv_genres.  "
   ]
  },
  {
   "cell_type": "markdown",
   "metadata": {},
   "source": [
    "## Right join to find unique movies\n",
    "Most of the recent big-budget science fiction movies can also be classified as action movies.  \n",
    "You are given a table of science fiction movies called scifi_movies and another table of action movies called action_movies.  \n",
    "Your goal is to find which movies are considered only science fiction movies.  \n",
    "Once you have this table, you can merge the movies table in to see the movie names.  \n",
    "Since this exercise is related to science fiction movies, use a right join as your superhero power to solve this problem.  \n",
    "\n",
    "The movies, scifi_movies, and action_movies tables have been loaded for you.  \n",
    "\n",
    "Merge action_movies and scifi_movies tables with a right join on movie_id. Save the result as action_scifi.  \n",
    "\n",
    "Update the merge to add suffixes, where '_act' and '_sci' are suffixes for the left and right tables, respectively.  \n",
    "\n",
    "From action_scifi, subset only the rows where the genre_act column is null.  \n",
    "\n",
    "Merge movies and scifi_only using the id column in the left table and the movie_id column in the right table with an inner join.  "
   ]
  },
  {
   "cell_type": "code",
   "execution_count": 22,
   "metadata": {},
   "outputs": [],
   "source": [
    "movies_with_genres = movies.merge(movie_to_genres, left_on = 'id', right_on = 'movie_id', how = 'left')\n",
    "scifi_movies = movies_with_genres[movies_with_genres['genre'] == 'Science Fiction']\n",
    "action_movies = movies_with_genres[movies_with_genres['genre'] == 'Action']"
   ]
  },
  {
   "cell_type": "code",
   "execution_count": 23,
   "metadata": {},
   "outputs": [
    {
     "name": "stdout",
     "output_type": "stream",
     "text": [
      "    id_act          title_act  popularity_act release_date_act  movie_id  \\\n",
      "0  49529.0        John Carter       43.926995       2012-03-07   49529.0   \n",
      "1      NaN                NaN             NaN              NaN   18841.0   \n",
      "2  76757.0  Jupiter Ascending       85.369080       2015-02-04   76757.0   \n",
      "3      NaN                NaN             NaN              NaN   26672.0   \n",
      "4      NaN                NaN             NaN              NaN   15301.0   \n",
      "\n",
      "  genre_act  id_sci                     title_sci  popularity_sci  \\\n",
      "0    Action   49529                   John Carter       43.926995   \n",
      "1       NaN   18841  The Lost Skeleton of Cadavra        1.680525   \n",
      "2    Action   76757             Jupiter Ascending       85.369080   \n",
      "3       NaN   26672     The Thief and the Cobbler        2.439184   \n",
      "4       NaN   15301      Twilight Zone: The Movie       12.902975   \n",
      "\n",
      "  release_date_sci        genre_sci  \n",
      "0       2012-03-07  Science Fiction  \n",
      "1       2001-09-12  Science Fiction  \n",
      "2       2015-02-04  Science Fiction  \n",
      "3       1993-09-23  Science Fiction  \n",
      "4       1983-06-24  Science Fiction  \n",
      "      id                         title  popularity release_date  id_act  \\\n",
      "0  18841  The Lost Skeleton of Cadavra    1.680525   2001-09-12     NaN   \n",
      "1  26672     The Thief and the Cobbler    2.439184   1993-09-23     NaN   \n",
      "2  15301      Twilight Zone: The Movie   12.902975   1983-06-24     NaN   \n",
      "3   8452                   The 6th Day   18.447479   2000-11-17     NaN   \n",
      "4   1649    Bill & Ted's Bogus Journey   11.349664   1991-07-19     NaN   \n",
      "\n",
      "  title_act  popularity_act release_date_act  movie_id genre_act  id_sci  \\\n",
      "0       NaN             NaN              NaN   18841.0       NaN   18841   \n",
      "1       NaN             NaN              NaN   26672.0       NaN   26672   \n",
      "2       NaN             NaN              NaN   15301.0       NaN   15301   \n",
      "3       NaN             NaN              NaN    8452.0       NaN    8452   \n",
      "4       NaN             NaN              NaN    1649.0       NaN    1649   \n",
      "\n",
      "                      title_sci  popularity_sci release_date_sci  \\\n",
      "0  The Lost Skeleton of Cadavra        1.680525       2001-09-12   \n",
      "1     The Thief and the Cobbler        2.439184       1993-09-23   \n",
      "2      Twilight Zone: The Movie       12.902975       1983-06-24   \n",
      "3                   The 6th Day       18.447479       2000-11-17   \n",
      "4    Bill & Ted's Bogus Journey       11.349664       1991-07-19   \n",
      "\n",
      "         genre_sci  \n",
      "0  Science Fiction  \n",
      "1  Science Fiction  \n",
      "2  Science Fiction  \n",
      "3  Science Fiction  \n",
      "4  Science Fiction  \n",
      "(258, 15)\n"
     ]
    }
   ],
   "source": [
    "# Merge action_movies to scifi_movies with right join\n",
    "action_scifi = action_movies.merge(scifi_movies, how = 'right', on = 'movie_id')\n",
    "\n",
    "# Merge action_movies to scifi_movies with right join\n",
    "action_scifi = action_movies.merge(scifi_movies, on='movie_id', how='right',\n",
    "                                   suffixes = ['_act','_sci'])\n",
    "\n",
    "# Print the first few rows of action_scifi to see the structure\n",
    "print(action_scifi.head())\n",
    "\n",
    "# From action_scifi, select only the rows where the genre_act column is null\n",
    "scifi_only = action_scifi[action_scifi['genre_act'].isnull()]\n",
    "\n",
    "# Merge the movies and scifi_only tables with an inner join\n",
    "movies_and_scifi_only = movies.merge(scifi_only, left_on = 'id',right_on = 'movie_id', how = 'inner')\n",
    "\n",
    "# Print the first few rows and shape of movies_and_scifi_only\n",
    "print(movies_and_scifi_only.head())\n",
    "print(movies_and_scifi_only.shape)"
   ]
  },
  {
   "cell_type": "markdown",
   "metadata": {},
   "source": [
    "## Popular genres with right join\n",
    "What are the genres of the most popular movies?  \n",
    "To answer this question, you need to merge data from the movies and movie_to_genres tables.  \n",
    "In a table called pop_movies, the top 10 most popular movies in the movies table have been selected.  \n",
    "To ensure that you are analyzing all of the popular movies, merge it with the movie_to_genres table using a right join.  \n",
    "To complete your analysis, count the number of different genres.  \n",
    "Also, the two tables can be merged by the movie ID.   \n",
    "However, in pop_movies that column is called id, and in movies_to_genres it's called movie_id.  \n",
    "  \n",
    "The pop_movies and movie_to_genres tables have been loaded for you.  \n",
    "\n",
    "Merge movie_to_genres and pop_movies using a right join. Save the results as genres_movies.  \n",
    "Group genres_movies by genre and count the number of id values.  "
   ]
  },
  {
   "cell_type": "code",
   "execution_count": 24,
   "metadata": {},
   "outputs": [
    {
     "name": "stdout",
     "output_type": "stream",
     "text": [
      "          id                                              title  popularity  \\\n",
      "4546  211672                                            Minions  875.581305   \n",
      "4343  157336                                       Interstellar  724.247784   \n",
      "1966  293660                                           Deadpool  514.569956   \n",
      "2423  118340                            Guardians of the Galaxy  481.098624   \n",
      "4220   76341                                 Mad Max: Fury Road  434.278564   \n",
      "1867  135397                                     Jurassic World  418.708552   \n",
      "4375      22  Pirates of the Caribbean: The Curse of the Bla...  271.972889   \n",
      "1106  119450                     Dawn of the Planet of the Apes  243.791743   \n",
      "4216  131631              The Hunger Games: Mockingjay - Part 1  206.227151   \n",
      "\n",
      "     release_date  \n",
      "4546   2015-06-17  \n",
      "4343   2014-11-05  \n",
      "1966   2016-02-09  \n",
      "2423   2014-07-30  \n",
      "4220   2015-05-13  \n",
      "1867   2015-06-09  \n",
      "4375   2003-07-09  \n",
      "1106   2014-06-26  \n",
      "4216   2014-11-18  \n",
      "   movie_id            genre\n",
      "0         5            Crime\n",
      "1         5           Comedy\n",
      "2        11  Science Fiction\n",
      "3        11           Action\n",
      "4        11        Adventure\n"
     ]
    }
   ],
   "source": [
    "movies_sort_popularity = movies.sort_values(by = 'popularity', ascending = False)\n",
    "pop_movies = movies_sort_popularity[:9]\n",
    "print(pop_movies)\n",
    "print(movie_to_genres[0:5])\n"
   ]
  },
  {
   "cell_type": "code",
   "execution_count": null,
   "metadata": {},
   "outputs": [],
   "source": []
  },
  {
   "cell_type": "code",
   "execution_count": 25,
   "metadata": {},
   "outputs": [
    {
     "data": {
      "image/png": "[encoded data removed]",
      "text/plain": [
       "<Figure size 432x288 with 1 Axes>"
      ]
     },
     "metadata": {
      "needs_background": "light"
     },
     "output_type": "display_data"
    }
   ],
   "source": [
    "from matplotlib import pyplot as plt\n",
    "# Use right join to merge the movie_to_genres and pop_movies tables\n",
    "genres_movies = movie_to_genres.merge(pop_movies, how = 'right', left_on = 'movie_id', right_on = 'id')\n",
    "\n",
    "# Count the number of genres\n",
    "genre_count = genres_movies.groupby('genre').agg({'id':'count'})\n",
    "\n",
    "# Plot a bar chart of the genre_count\n",
    "genre_count.plot(kind='bar')\n",
    "plt.show()"
   ]
  },
  {
   "cell_type": "markdown",
   "metadata": {},
   "source": [
    "# Outer Join\n",
    "\n",
    "Outer joins  return all of the rows from both tables regardless if there is a match between the tables.\n",
    "\n",
    "how='outer'"
   ]
  },
  {
   "cell_type": "markdown",
   "metadata": {},
   "source": [
    "## Using outer join to select actors\n",
    "One cool aspect of using an outer join is that, because it returns all rows from both merged tables and null where they do not match, you can use it to find rows that do not have a match in the other table.  \n",
    "To try for yourself, you have been given two tables with a list of actors from two popular movies: Iron Man 1 and Iron Man 2.  \n",
    "Most of the actors played in both movies. Use an outer join to find actors who did not act in both movies.  \n",
    "\n",
    "The Iron Man 1 table is called iron_1_actors, and Iron Man 2 table is called iron_2_actors. Both tables have been loaded for you and a few rows printed so you can see the structure. "
   ]
  },
  {
   "cell_type": "code",
   "execution_count": 26,
   "metadata": {},
   "outputs": [
    {
     "ename": "NameError",
     "evalue": "name 'iron_1_actors' is not defined",
     "output_type": "error",
     "traceback": [
      "\u001b[0;31m---------------------------------------------------------------------------\u001b[0m",
      "\u001b[0;31mNameError\u001b[0m                                 Traceback (most recent call last)",
      "\u001b[0;32m/tmp/ipykernel_1818/3626686847.py\u001b[0m in \u001b[0;36m<module>\u001b[0;34m\u001b[0m\n\u001b[1;32m      1\u001b[0m \u001b[0;31m#ONCE AGAIN DATACAMP FAILS TO SHARE THE DATA IN A USEFUIL WAY SO ALL OF THE BELOW CODE WILL FAIL UNLESS YOU FEEL LIKE PLAYING AROUND WITH THE IRON DATASETS I PULLED.\u001b[0m\u001b[0;34m\u001b[0m\u001b[0;34m\u001b[0m\u001b[0;34m\u001b[0m\u001b[0m\n\u001b[1;32m      2\u001b[0m \u001b[0;31m# Merge iron_1_actors to iron_2_actors on id with outer join using suffixes\u001b[0m\u001b[0;34m\u001b[0m\u001b[0;34m\u001b[0m\u001b[0;34m\u001b[0m\u001b[0m\n\u001b[0;32m----> 3\u001b[0;31m iron_1_and_2 = iron_1_actors.merge(iron_2_actors,\n\u001b[0m\u001b[1;32m      4\u001b[0m                                      \u001b[0mon\u001b[0m \u001b[0;34m=\u001b[0m \u001b[0;34m'id'\u001b[0m\u001b[0;34m,\u001b[0m\u001b[0;34m\u001b[0m\u001b[0;34m\u001b[0m\u001b[0m\n\u001b[1;32m      5\u001b[0m                                      \u001b[0mhow\u001b[0m \u001b[0;34m=\u001b[0m \u001b[0;34m'outer'\u001b[0m\u001b[0;34m,\u001b[0m\u001b[0;34m\u001b[0m\u001b[0;34m\u001b[0m\u001b[0m\n",
      "\u001b[0;31mNameError\u001b[0m: name 'iron_1_actors' is not defined"
     ]
    }
   ],
   "source": [
    "#ONCE AGAIN DATACAMP FAILS TO SHARE THE DATA IN A USEFUIL WAY SO ALL OF THE BELOW CODE WILL FAIL UNLESS YOU FEEL LIKE PLAYING AROUND WITH THE IRON DATASETS I PULLED.\n",
    "# Merge iron_1_actors to iron_2_actors on id with outer join using suffixes\n",
    "iron_1_and_2 = iron_1_actors.merge(iron_2_actors,\n",
    "                                     on = 'id',\n",
    "                                     how = 'outer',\n",
    "                                     suffixes=['_1', '_2'])\n",
    "\n",
    "# Create an index that returns true if name_1 or name_2 are null\n",
    "m = ((iron_1_and_2['name_1'].isnull()) | \n",
    "     (iron_1_and_2['name_2'].isnull()))\n",
    "\n",
    "# Print the first few rows of iron_1_and_2\n",
    "print(iron_1_and_2[m].head())"
   ]
  },
  {
   "cell_type": "markdown",
   "metadata": {},
   "source": [
    "# Self join\n",
    "Merging a table to itself can be useful when you want to compare values in a column to other values in the same column.  \n",
    "In this exercise, you will practice this by creating a table that for each movie will list the movie director and a member of the crew on one row.  \n",
    "You have been given a table called crews, which has columns id, job, and name.  \n",
    "First, merge the table to itself using the movie ID.  \n",
    "This merge will give you a larger table where for each movie, every job is matched against each other.  \n",
    "Then select only those rows with a director in the left table, and avoid having a row where the director's job is listed in both the left and right tables.  \n",
    "This filtering will remove job combinations that aren't with the director.\n",
    "\n",
    "The crews table has been loaded for you.\n",
    "\n",
    "To a variable called crews_self_merged, merge the crews table to itself on the id column using an inner join, setting the suffixes to '_dir' and '_crew' for the left and right tables respectively.  \n",
    "Create a Boolean index, named boolean_filter, that selects rows from the left table with the job of 'Director' and avoids rows with the job of 'Director' in the right table.\" \n",
    "Use the .head() method to print the first few rows of direct_crews. "
   ]
  },
  {
   "cell_type": "code",
   "execution_count": 27,
   "metadata": {},
   "outputs": [
    {
     "data": {
      "text/html": [
       "<div>\n",
       "<style scoped>\n",
       "    .dataframe tbody tr th:only-of-type {\n",
       "        vertical-align: middle;\n",
       "    }\n",
       "\n",
       "    .dataframe tbody tr th {\n",
       "        vertical-align: top;\n",
       "    }\n",
       "\n",
       "    .dataframe thead th {\n",
       "        text-align: right;\n",
       "    }\n",
       "</style>\n",
       "<table border=\"1\" class=\"dataframe\">\n",
       "  <thead>\n",
       "    <tr style=\"text-align: right;\">\n",
       "      <th></th>\n",
       "      <th>id</th>\n",
       "      <th>department_dir</th>\n",
       "      <th>job_dir</th>\n",
       "      <th>name_dir</th>\n",
       "      <th>department_crew</th>\n",
       "      <th>job_crew</th>\n",
       "      <th>name_crew</th>\n",
       "    </tr>\n",
       "  </thead>\n",
       "  <tbody>\n",
       "    <tr>\n",
       "      <th>156</th>\n",
       "      <td>19995</td>\n",
       "      <td>Directing</td>\n",
       "      <td>Director</td>\n",
       "      <td>James Cameron</td>\n",
       "      <td>Editing</td>\n",
       "      <td>Editor</td>\n",
       "      <td>Stephen E. Rivkin</td>\n",
       "    </tr>\n",
       "    <tr>\n",
       "      <th>157</th>\n",
       "      <td>19995</td>\n",
       "      <td>Directing</td>\n",
       "      <td>Director</td>\n",
       "      <td>James Cameron</td>\n",
       "      <td>Sound</td>\n",
       "      <td>Sound Designer</td>\n",
       "      <td>Christopher Boyes</td>\n",
       "    </tr>\n",
       "    <tr>\n",
       "      <th>158</th>\n",
       "      <td>19995</td>\n",
       "      <td>Directing</td>\n",
       "      <td>Director</td>\n",
       "      <td>James Cameron</td>\n",
       "      <td>Production</td>\n",
       "      <td>Casting</td>\n",
       "      <td>Mali Finn</td>\n",
       "    </tr>\n",
       "    <tr>\n",
       "      <th>160</th>\n",
       "      <td>19995</td>\n",
       "      <td>Directing</td>\n",
       "      <td>Director</td>\n",
       "      <td>James Cameron</td>\n",
       "      <td>Writing</td>\n",
       "      <td>Writer</td>\n",
       "      <td>James Cameron</td>\n",
       "    </tr>\n",
       "    <tr>\n",
       "      <th>161</th>\n",
       "      <td>19995</td>\n",
       "      <td>Directing</td>\n",
       "      <td>Director</td>\n",
       "      <td>James Cameron</td>\n",
       "      <td>Art</td>\n",
       "      <td>Set Designer</td>\n",
       "      <td>Richard F. Mays</td>\n",
       "    </tr>\n",
       "  </tbody>\n",
       "</table>\n",
       "</div>"
      ],
      "text/plain": [
       "        id department_dir   job_dir       name_dir department_crew  \\\n",
       "156  19995      Directing  Director  James Cameron         Editing   \n",
       "157  19995      Directing  Director  James Cameron           Sound   \n",
       "158  19995      Directing  Director  James Cameron      Production   \n",
       "160  19995      Directing  Director  James Cameron         Writing   \n",
       "161  19995      Directing  Director  James Cameron             Art   \n",
       "\n",
       "           job_crew          name_crew  \n",
       "156          Editor  Stephen E. Rivkin  \n",
       "157  Sound Designer  Christopher Boyes  \n",
       "158         Casting          Mali Finn  \n",
       "160          Writer      James Cameron  \n",
       "161    Set Designer    Richard F. Mays  "
      ]
     },
     "execution_count": 27,
     "metadata": {},
     "output_type": "execute_result"
    }
   ],
   "source": [
    "# Merge the crews table to itself\n",
    "crews_self_merged = crews.merge(crews, on='id', how='inner', suffixes=('_dir','_crew'))\n",
    "\n",
    "# Create a boolean index to select the appropriate rows\n",
    "boolean_filter = ((crews_self_merged['job_dir'] == 'Director') & (crews_self_merged['job_crew'] != 'Director'))  \n",
    "\n",
    "direct_crews = crews_self_merged[boolean_filter]  \n",
    "\n",
    "direct_crews.head()"
   ]
  },
  {
   "cell_type": "markdown",
   "metadata": {},
   "source": [
    "# Merging on Indexes\n",
    "\n",
    "DataFrame indexes are given a unique id that we can use when merging two tables together.  \n",
    "\n",
    "## MultiIndex merge\n",
    "In this merge, we pass in a list of index level names to the 'on' argument, just like we did when merging on multiple columns.  \n",
    "Since this is an inner join, both the movie_id and cast_id must match in each table to be returned in the result.  \n",
    "  \n",
    "If the index level names are different between the two tables that we want to merge, then we can use the left_on and right_on arguments of the merge method.   \n",
    "\n",
    "samuel_casts = samuel.merge(casts, on=['movie_id','cast_id'])"
   ]
  },
  {
   "cell_type": "markdown",
   "metadata": {},
   "source": [
    "## Index merge for movie ratings\n",
    "To practice merging on indexes, you will merge movies and a table called ratings that holds info about movie ratings.  \n",
    "Make sure your merge returns all of the rows from the movies table and not all the rows of ratings table need to be included in the result.  \n",
    "\n",
    "The movies and ratings tables have been loaded for you.  \n",
    "\n",
    "Merge movies and ratings on the index and save to a variable called movies_ratings, ensuring that all of the rows from the movies table are returned."
   ]
  },
  {
   "cell_type": "markdown",
   "metadata": {},
   "source": [
    "## Index Merge with left_on and right_on\n",
    "\n",
    "When merging on indexes, set left_index and right_index to True.  \n",
    "These arguments take only True or False.  \n",
    "Whenever the left_on or right_on arguments are used with an index, set the respective left_index and right_index arguments to True.  \n",
    "The left_index and right_index tell the merge method to use the separate indexes.\n",
    "\n",
    "movies_genres = movies.merge(movie_to_genres, left_on='id, left_index=True,right_on='movie_id', right_index=True)"
   ]
  },
  {
   "cell_type": "code",
   "execution_count": 28,
   "metadata": {},
   "outputs": [
    {
     "name": "stdout",
     "output_type": "stream",
     "text": [
      "      id                 title  popularity release_date  vote_average  \\\n",
      "0    257          Oliver Twist   20.415572   2005-09-23           6.7   \n",
      "1  14290  Better Luck Tomorrow    3.877036   2002-01-12           6.5   \n",
      "2  38365             Grown Ups   38.864027   2010-06-24           6.0   \n",
      "3   9672              Infamous    3.680896   2006-11-16           6.4   \n",
      "4  12819       Alpha and Omega   12.300789   2010-09-17           5.3   \n",
      "\n",
      "   vote_count  \n",
      "0       274.0  \n",
      "1        27.0  \n",
      "2      1705.0  \n",
      "3        60.0  \n",
      "4       124.0  \n"
     ]
    }
   ],
   "source": [
    "# Merge to the movies table the ratings table on the index\n",
    "movies_ratings = movies.merge(ratings, on = 'id', how = 'left')\n",
    "\n",
    "# Print the first few rows of movies_ratings\n",
    "print(movies_ratings.head())"
   ]
  },
  {
   "cell_type": "markdown",
   "metadata": {},
   "source": [
    "## Do sequels earn more?\n",
    "It is time to put together many of the aspects that you have learned in this chapter.  \n",
    "In this exercise, you'll find out which movie sequels earned the most compared to the original movie.  \n",
    "To answer this question, you will merge a modified version of the sequels and financials tables where their index is the movie ID.  \n",
    "You will need to choose a merge type that will return all of the rows from the sequels table and not all the rows of financials table need to be included in the result.  \n",
    "From there, you will join the resulting table to itself so that you can compare the revenue values of the original movie to the sequel.  \n",
    "Next, you will calculate the difference between the two revenues and sort the resulting dataset.  \n",
    "\n",
    "The sequels and financials tables have been provided.  \n",
    "\n",
    "With the sequels table on the left, merge to it the financials table on index named id, ensuring that all the rows from the sequels are returned and some rows from the other table may not be returned, Save the results to sequels_fin.  \n",
    "\n",
    "Merge the sequels_fin table to itself with an inner join, where the left and right tables merge on sequel and id respectively with suffixes equal to ('_org','_seq'), saving to orig_seq.  \n",
    "\n",
    "Select the title_org, title_seq, and diff columns of orig_seq and save this as titles_diff.  \n",
    "\n",
    "Sort by titles_diff by diff in descending order and print the first few rows.  "
   ]
  },
  {
   "cell_type": "code",
   "execution_count": 40,
   "metadata": {},
   "outputs": [
    {
     "ename": "TypeError",
     "evalue": "int() argument must be a string, a bytes-like object or a number, not 'NAType'",
     "output_type": "error",
     "traceback": [
      "\u001b[0;31m---------------------------------------------------------------------------\u001b[0m",
      "\u001b[0;31mTypeError\u001b[0m                                 Traceback (most recent call last)",
      "\u001b[0;32m/tmp/ipykernel_1818/3507459948.py\u001b[0m in \u001b[0;36m<module>\u001b[0;34m\u001b[0m\n\u001b[1;32m      3\u001b[0m \u001b[0;34m\u001b[0m\u001b[0m\n\u001b[1;32m      4\u001b[0m \u001b[0;31m# Self merge with suffixes as inner join with left on sequel and right on id\u001b[0m\u001b[0;34m\u001b[0m\u001b[0;34m\u001b[0m\u001b[0;34m\u001b[0m\u001b[0m\n\u001b[0;32m----> 5\u001b[0;31m orig_seq = sequels_fin.merge(sequels_fin, how='inner', \n\u001b[0m\u001b[1;32m      6\u001b[0m                              \u001b[0mleft_on\u001b[0m\u001b[0;34m=\u001b[0m\u001b[0;34m'sequel'\u001b[0m\u001b[0;34m,\u001b[0m\u001b[0;34m\u001b[0m\u001b[0;34m\u001b[0m\u001b[0m\n\u001b[1;32m      7\u001b[0m                              \u001b[0mright_on\u001b[0m\u001b[0;34m=\u001b[0m\u001b[0;34m'id'\u001b[0m\u001b[0;34m,\u001b[0m \u001b[0mright_index\u001b[0m\u001b[0;34m=\u001b[0m\u001b[0;32mTrue\u001b[0m\u001b[0;34m,\u001b[0m\u001b[0;34m\u001b[0m\u001b[0;34m\u001b[0m\u001b[0m\n",
      "\u001b[0;32m~/.local/lib/python3.8/site-packages/pandas/core/frame.py\u001b[0m in \u001b[0;36mmerge\u001b[0;34m(self, right, how, on, left_on, right_on, left_index, right_index, sort, suffixes, copy, indicator, validate)\u001b[0m\n\u001b[1;32m   9188\u001b[0m         \u001b[0;32mfrom\u001b[0m \u001b[0mpandas\u001b[0m\u001b[0;34m.\u001b[0m\u001b[0mcore\u001b[0m\u001b[0;34m.\u001b[0m\u001b[0mreshape\u001b[0m\u001b[0;34m.\u001b[0m\u001b[0mmerge\u001b[0m \u001b[0;32mimport\u001b[0m \u001b[0mmerge\u001b[0m\u001b[0;34m\u001b[0m\u001b[0;34m\u001b[0m\u001b[0m\n\u001b[1;32m   9189\u001b[0m \u001b[0;34m\u001b[0m\u001b[0m\n\u001b[0;32m-> 9190\u001b[0;31m         return merge(\n\u001b[0m\u001b[1;32m   9191\u001b[0m             \u001b[0mself\u001b[0m\u001b[0;34m,\u001b[0m\u001b[0;34m\u001b[0m\u001b[0;34m\u001b[0m\u001b[0m\n\u001b[1;32m   9192\u001b[0m             \u001b[0mright\u001b[0m\u001b[0;34m,\u001b[0m\u001b[0;34m\u001b[0m\u001b[0;34m\u001b[0m\u001b[0m\n",
      "\u001b[0;32m~/.local/lib/python3.8/site-packages/pandas/core/reshape/merge.py\u001b[0m in \u001b[0;36mmerge\u001b[0;34m(left, right, how, on, left_on, right_on, left_index, right_index, sort, suffixes, copy, indicator, validate)\u001b[0m\n\u001b[1;32m    119\u001b[0m         \u001b[0mvalidate\u001b[0m\u001b[0;34m=\u001b[0m\u001b[0mvalidate\u001b[0m\u001b[0;34m,\u001b[0m\u001b[0;34m\u001b[0m\u001b[0;34m\u001b[0m\u001b[0m\n\u001b[1;32m    120\u001b[0m     )\n\u001b[0;32m--> 121\u001b[0;31m     \u001b[0;32mreturn\u001b[0m \u001b[0mop\u001b[0m\u001b[0;34m.\u001b[0m\u001b[0mget_result\u001b[0m\u001b[0;34m(\u001b[0m\u001b[0;34m)\u001b[0m\u001b[0;34m\u001b[0m\u001b[0;34m\u001b[0m\u001b[0m\n\u001b[0m\u001b[1;32m    122\u001b[0m \u001b[0;34m\u001b[0m\u001b[0m\n\u001b[1;32m    123\u001b[0m \u001b[0;34m\u001b[0m\u001b[0m\n",
      "\u001b[0;32m~/.local/lib/python3.8/site-packages/pandas/core/reshape/merge.py\u001b[0m in \u001b[0;36mget_result\u001b[0;34m(self)\u001b[0m\n\u001b[1;32m    713\u001b[0m             \u001b[0mself\u001b[0m\u001b[0;34m.\u001b[0m\u001b[0mleft\u001b[0m\u001b[0;34m,\u001b[0m \u001b[0mself\u001b[0m\u001b[0;34m.\u001b[0m\u001b[0mright\u001b[0m \u001b[0;34m=\u001b[0m \u001b[0mself\u001b[0m\u001b[0;34m.\u001b[0m\u001b[0m_indicator_pre_merge\u001b[0m\u001b[0;34m(\u001b[0m\u001b[0mself\u001b[0m\u001b[0;34m.\u001b[0m\u001b[0mleft\u001b[0m\u001b[0;34m,\u001b[0m \u001b[0mself\u001b[0m\u001b[0;34m.\u001b[0m\u001b[0mright\u001b[0m\u001b[0;34m)\u001b[0m\u001b[0;34m\u001b[0m\u001b[0;34m\u001b[0m\u001b[0m\n\u001b[1;32m    714\u001b[0m \u001b[0;34m\u001b[0m\u001b[0m\n\u001b[0;32m--> 715\u001b[0;31m         \u001b[0mjoin_index\u001b[0m\u001b[0;34m,\u001b[0m \u001b[0mleft_indexer\u001b[0m\u001b[0;34m,\u001b[0m \u001b[0mright_indexer\u001b[0m \u001b[0;34m=\u001b[0m \u001b[0mself\u001b[0m\u001b[0;34m.\u001b[0m\u001b[0m_get_join_info\u001b[0m\u001b[0;34m(\u001b[0m\u001b[0;34m)\u001b[0m\u001b[0;34m\u001b[0m\u001b[0;34m\u001b[0m\u001b[0m\n\u001b[0m\u001b[1;32m    716\u001b[0m \u001b[0;34m\u001b[0m\u001b[0m\n\u001b[1;32m    717\u001b[0m         llabels, rlabels = _items_overlap_with_suffix(\n",
      "\u001b[0;32m~/.local/lib/python3.8/site-packages/pandas/core/reshape/merge.py\u001b[0m in \u001b[0;36m_get_join_info\u001b[0;34m(self)\u001b[0m\n\u001b[1;32m    964\u001b[0m             )\n\u001b[1;32m    965\u001b[0m         \u001b[0;32melse\u001b[0m\u001b[0;34m:\u001b[0m\u001b[0;34m\u001b[0m\u001b[0;34m\u001b[0m\u001b[0m\n\u001b[0;32m--> 966\u001b[0;31m             \u001b[0;34m(\u001b[0m\u001b[0mleft_indexer\u001b[0m\u001b[0;34m,\u001b[0m \u001b[0mright_indexer\u001b[0m\u001b[0;34m)\u001b[0m \u001b[0;34m=\u001b[0m \u001b[0mself\u001b[0m\u001b[0;34m.\u001b[0m\u001b[0m_get_join_indexers\u001b[0m\u001b[0;34m(\u001b[0m\u001b[0;34m)\u001b[0m\u001b[0;34m\u001b[0m\u001b[0;34m\u001b[0m\u001b[0m\n\u001b[0m\u001b[1;32m    967\u001b[0m \u001b[0;34m\u001b[0m\u001b[0m\n\u001b[1;32m    968\u001b[0m             \u001b[0;32mif\u001b[0m \u001b[0mself\u001b[0m\u001b[0;34m.\u001b[0m\u001b[0mright_index\u001b[0m\u001b[0;34m:\u001b[0m\u001b[0;34m\u001b[0m\u001b[0;34m\u001b[0m\u001b[0m\n",
      "\u001b[0;32m~/.local/lib/python3.8/site-packages/pandas/core/reshape/merge.py\u001b[0m in \u001b[0;36m_get_join_indexers\u001b[0;34m(self)\u001b[0m\n\u001b[1;32m    938\u001b[0m         \u001b[0;34m\"\"\"return the join indexers\"\"\"\u001b[0m\u001b[0;34m\u001b[0m\u001b[0;34m\u001b[0m\u001b[0m\n\u001b[1;32m    939\u001b[0m         \u001b[0;31m# Both returned ndarrays are np.intp\u001b[0m\u001b[0;34m\u001b[0m\u001b[0;34m\u001b[0m\u001b[0;34m\u001b[0m\u001b[0m\n\u001b[0;32m--> 940\u001b[0;31m         return get_join_indexers(\n\u001b[0m\u001b[1;32m    941\u001b[0m             \u001b[0mself\u001b[0m\u001b[0;34m.\u001b[0m\u001b[0mleft_join_keys\u001b[0m\u001b[0;34m,\u001b[0m \u001b[0mself\u001b[0m\u001b[0;34m.\u001b[0m\u001b[0mright_join_keys\u001b[0m\u001b[0;34m,\u001b[0m \u001b[0msort\u001b[0m\u001b[0;34m=\u001b[0m\u001b[0mself\u001b[0m\u001b[0;34m.\u001b[0m\u001b[0msort\u001b[0m\u001b[0;34m,\u001b[0m \u001b[0mhow\u001b[0m\u001b[0;34m=\u001b[0m\u001b[0mself\u001b[0m\u001b[0;34m.\u001b[0m\u001b[0mhow\u001b[0m\u001b[0;34m\u001b[0m\u001b[0;34m\u001b[0m\u001b[0m\n\u001b[1;32m    942\u001b[0m         )\n",
      "\u001b[0;32m~/.local/lib/python3.8/site-packages/pandas/core/reshape/merge.py\u001b[0m in \u001b[0;36mget_join_indexers\u001b[0;34m(left_keys, right_keys, sort, how, **kwargs)\u001b[0m\n\u001b[1;32m   1479\u001b[0m         \u001b[0;32mfor\u001b[0m \u001b[0mn\u001b[0m \u001b[0;32min\u001b[0m \u001b[0mrange\u001b[0m\u001b[0;34m(\u001b[0m\u001b[0mlen\u001b[0m\u001b[0;34m(\u001b[0m\u001b[0mleft_keys\u001b[0m\u001b[0;34m)\u001b[0m\u001b[0;34m)\u001b[0m\u001b[0;34m\u001b[0m\u001b[0;34m\u001b[0m\u001b[0m\n\u001b[1;32m   1480\u001b[0m     )\n\u001b[0;32m-> 1481\u001b[0;31m     \u001b[0mzipped\u001b[0m \u001b[0;34m=\u001b[0m \u001b[0mzip\u001b[0m\u001b[0;34m(\u001b[0m\u001b[0;34m*\u001b[0m\u001b[0mmapped\u001b[0m\u001b[0;34m)\u001b[0m\u001b[0;34m\u001b[0m\u001b[0;34m\u001b[0m\u001b[0m\n\u001b[0m\u001b[1;32m   1482\u001b[0m     \u001b[0mllab\u001b[0m\u001b[0;34m,\u001b[0m \u001b[0mrlab\u001b[0m\u001b[0;34m,\u001b[0m \u001b[0mshape\u001b[0m \u001b[0;34m=\u001b[0m \u001b[0;34m(\u001b[0m\u001b[0mlist\u001b[0m\u001b[0;34m(\u001b[0m\u001b[0mx\u001b[0m\u001b[0;34m)\u001b[0m \u001b[0;32mfor\u001b[0m \u001b[0mx\u001b[0m \u001b[0;32min\u001b[0m \u001b[0mzipped\u001b[0m\u001b[0;34m)\u001b[0m\u001b[0;34m\u001b[0m\u001b[0;34m\u001b[0m\u001b[0m\n\u001b[1;32m   1483\u001b[0m \u001b[0;34m\u001b[0m\u001b[0m\n",
      "\u001b[0;32m~/.local/lib/python3.8/site-packages/pandas/core/reshape/merge.py\u001b[0m in \u001b[0;36m<genexpr>\u001b[0;34m(.0)\u001b[0m\n\u001b[1;32m   1476\u001b[0m     \u001b[0;31m# get left & right join labels and num. of levels at each location\u001b[0m\u001b[0;34m\u001b[0m\u001b[0;34m\u001b[0m\u001b[0;34m\u001b[0m\u001b[0m\n\u001b[1;32m   1477\u001b[0m     mapped = (\n\u001b[0;32m-> 1478\u001b[0;31m         \u001b[0m_factorize_keys\u001b[0m\u001b[0;34m(\u001b[0m\u001b[0mleft_keys\u001b[0m\u001b[0;34m[\u001b[0m\u001b[0mn\u001b[0m\u001b[0;34m]\u001b[0m\u001b[0;34m,\u001b[0m \u001b[0mright_keys\u001b[0m\u001b[0;34m[\u001b[0m\u001b[0mn\u001b[0m\u001b[0;34m]\u001b[0m\u001b[0;34m,\u001b[0m \u001b[0msort\u001b[0m\u001b[0;34m=\u001b[0m\u001b[0msort\u001b[0m\u001b[0;34m,\u001b[0m \u001b[0mhow\u001b[0m\u001b[0;34m=\u001b[0m\u001b[0mhow\u001b[0m\u001b[0;34m)\u001b[0m\u001b[0;34m\u001b[0m\u001b[0;34m\u001b[0m\u001b[0m\n\u001b[0m\u001b[1;32m   1479\u001b[0m         \u001b[0;32mfor\u001b[0m \u001b[0mn\u001b[0m \u001b[0;32min\u001b[0m \u001b[0mrange\u001b[0m\u001b[0;34m(\u001b[0m\u001b[0mlen\u001b[0m\u001b[0;34m(\u001b[0m\u001b[0mleft_keys\u001b[0m\u001b[0;34m)\u001b[0m\u001b[0;34m)\u001b[0m\u001b[0;34m\u001b[0m\u001b[0;34m\u001b[0m\u001b[0m\n\u001b[1;32m   1480\u001b[0m     )\n",
      "\u001b[0;32m~/.local/lib/python3.8/site-packages/pandas/core/reshape/merge.py\u001b[0m in \u001b[0;36m_factorize_keys\u001b[0;34m(lk, rk, sort, how)\u001b[0m\n\u001b[1;32m   2162\u001b[0m         \u001b[0;31m#  and rk is datetime-dtype\u001b[0m\u001b[0;34m\u001b[0m\u001b[0;34m\u001b[0m\u001b[0;34m\u001b[0m\u001b[0m\n\u001b[1;32m   2163\u001b[0m         \u001b[0mklass\u001b[0m \u001b[0;34m=\u001b[0m \u001b[0mlibhashtable\u001b[0m\u001b[0;34m.\u001b[0m\u001b[0mInt64Factorizer\u001b[0m\u001b[0;34m\u001b[0m\u001b[0;34m\u001b[0m\u001b[0m\n\u001b[0;32m-> 2164\u001b[0;31m         \u001b[0mlk\u001b[0m \u001b[0;34m=\u001b[0m \u001b[0mensure_int64\u001b[0m\u001b[0;34m(\u001b[0m\u001b[0mnp\u001b[0m\u001b[0;34m.\u001b[0m\u001b[0masarray\u001b[0m\u001b[0;34m(\u001b[0m\u001b[0mlk\u001b[0m\u001b[0;34m)\u001b[0m\u001b[0;34m)\u001b[0m\u001b[0;34m\u001b[0m\u001b[0;34m\u001b[0m\u001b[0m\n\u001b[0m\u001b[1;32m   2165\u001b[0m         \u001b[0mrk\u001b[0m \u001b[0;34m=\u001b[0m \u001b[0mensure_int64\u001b[0m\u001b[0;34m(\u001b[0m\u001b[0mnp\u001b[0m\u001b[0;34m.\u001b[0m\u001b[0masarray\u001b[0m\u001b[0;34m(\u001b[0m\u001b[0mrk\u001b[0m\u001b[0;34m)\u001b[0m\u001b[0;34m)\u001b[0m\u001b[0;34m\u001b[0m\u001b[0;34m\u001b[0m\u001b[0m\n\u001b[1;32m   2166\u001b[0m \u001b[0;34m\u001b[0m\u001b[0m\n",
      "\u001b[0;32mpandas/_libs/algos_common_helper.pxi\u001b[0m in \u001b[0;36mpandas._libs.algos.ensure_int64\u001b[0;34m()\u001b[0m\n",
      "\u001b[0;31mTypeError\u001b[0m: int() argument must be a string, a bytes-like object or a number, not 'NAType'"
     ]
    }
   ],
   "source": [
    "# This works fine on Datacamp, so there must be something about the pickle file that\n",
    "# causes an issue. Feel free to troubleshoot if you want to and have extra time in your life.\n",
    "# Merge sequels and financials on index id\n",
    "sequels_fin = sequels.merge(financials, on='id', how='left')\n",
    "\n",
    "# Self merge with suffixes as inner join with left on sequel and right on id\n",
    "orig_seq = sequels_fin.merge(sequels_fin, how='inner', \n",
    "                             left_on='sequel',\n",
    "                             right_on='id', right_index=True,\n",
    "                             suffixes=('_org','_seq'))\n",
    "\n",
    "# Add calculation to subtract revenue_org from revenue_seq \n",
    "orig_seq['diff'] = orig_seq['revenue_seq'] - orig_seq['revenue_org']\n",
    "\n",
    "# Select the title_org, title_seq, and diff \n",
    "titles_diff = orig_seq[['title_org','title_seq','diff']]\n",
    "\n",
    "# Print the first rows of the sorted titles_diff\n",
    "print(titles_diff.sort_values('diff', ascending = False).head())"
   ]
  }
 ],
 "metadata": {
  "interpreter": {
   "hash": "916dbcbb3f70747c44a77c7bcd40155683ae19c65e1c03b4aa3499c5328201f1"
  },
  "kernelspec": {
   "display_name": "Python 3.8.10 64-bit",
   "language": "python",
   "name": "python3"
  },
  "language_info": {
   "codemirror_mode": {
    "name": "ipython",
    "version": 3
   },
   "file_extension": ".py",
   "mimetype": "text/x-python",
   "name": "python",
   "nbconvert_exporter": "python",
   "pygments_lexer": "ipython3",
   "version": "3.8.10"
  },
  "orig_nbformat": 4
 },
 "nbformat": 4,
 "nbformat_minor": 2
}
