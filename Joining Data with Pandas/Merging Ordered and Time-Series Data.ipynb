{
 "cells": [
  {
   "cell_type": "markdown",
   "metadata": {},
   "source": [
    "# Using merge_ordered()\n",
    "\n",
    "This method can merge time-series and other ordered data.\n",
    "\n",
    "|merge() method|merge_ordered() method|\n",
    "|:-|:-|\n",
    "|Column(s) to join: on, left_on, right_on| Column(s) to join: on, left_on, right_on|\n",
    "|Type of join: how(left, right, inner(default), outer){{@}}|Type of join: how(left, right, inner, outer(default))|\n",
    "|Overlapping column names: suffixes| Overlapping column names: suffixes|\n",
    "|Calling the method: df1.merge(df2)|Calling the method: d.merge_ordered(df1, df2)|  \n",
    "\n",
    "import pandas as pd\n",
    "pd.merge_ordered(appl, mcd, on='date', suffixes=('_aapl','_mcd')"
   ]
  },
  {
   "cell_type": "markdown",
   "metadata": {},
   "source": [
    "# Forward Filling\n",
    "If there isn't a value, use a technique called forward filling. It will interpolate missing data by filling the missing values with the previous value.\n",
    "\n",
    "pd.merge_ordered(appl, mcd, on='date',  \n",
    "                suffixes=('_aapl','_mcd'),  \n",
    "                fill_method='ffill')  \n",
    "\n",
    "Use the merge_ordered method instead of the regular merge method when you are working with order or time-series data."
   ]
  },
  {
   "cell_type": "markdown",
   "metadata": {},
   "source": [
    "# Correlation between GDP and S&P500\n",
    "In this exercise, you want to analyze stock returns from the S&P 500. You believe there may be a relationship between the returns of the S&P 500 and the GDP of the US. Merge the different datasets together to compute the correlation.\n",
    "\n",
    "Two tables have been provided for you, named sp500, and gdp. As always, pandas has been imported for you as pd.  \n",
    "\n",
    "Use merge_ordered() to merge gdp and sp500 using a left join on year and date. Save the results as gdp_sp500.\n",
    "Print gdp_sp500 and look at the returns for the year 2018.  \n",
    "\n",
    "Use merge_ordered(), again similar to before, to merge gdp and sp500 use the function's ability to interpolate missing data to forward fill the missing value for returns, assigning this table to the variable gdp_sp500.  \n",
    "\n",
    "Subset the gdp_sp500 table, select the gdp and returns columns, and save as gdp_returns.\n",
    "Print the correlation matrix of the gdp_returns table.  "
   ]
  },
  {
   "cell_type": "code",
   "execution_count": 53,
   "metadata": {},
   "outputs": [],
   "source": [
    "import pandas as pd\n",
    "sp500 = pd.read_csv('S&P500.csv')\n",
    "#print(sp500[:5])\n",
    "gdp = pd.read_csv('gdp.csv')\n",
    "#print(gdp[:5])"
   ]
  },
  {
   "cell_type": "code",
   "execution_count": 54,
   "metadata": {},
   "outputs": [
    {
     "name": "stdout",
     "output_type": "stream",
     "text": [
      "  country code  year           gdp    Date  Returns\n",
      "0          USA  2010  1.500000e+13  2010.0    12.78\n",
      "1          USA  2011  1.550000e+13  2011.0     0.00\n",
      "2          USA  2012  1.620000e+13  2012.0    13.41\n",
      "3          USA  2012  1.620000e+13  2012.0    13.41\n",
      "4          USA  2013  1.680000e+13  2013.0    29.60\n",
      "5          USA  2014  1.750000e+13  2014.0    11.39\n",
      "6          USA  2015  1.820000e+13  2015.0    -0.73\n",
      "7          USA  2016  1.870000e+13  2016.0     9.54\n",
      "8          USA  2017  1.950000e+13  2017.0    19.42\n",
      "9          USA  2018  2.050000e+13     NaN      NaN\n",
      "              gdp   Returns\n",
      "gdp      1.000000  0.220321\n",
      "Returns  0.220321  1.000000\n"
     ]
    }
   ],
   "source": [
    "# Use merge_ordered() to merge gdp and sp500 on year and date\n",
    "gdp_sp500 = pd.merge_ordered(gdp, sp500, left_on='year', right_on='Date', \n",
    "                             how='left')\n",
    "\n",
    "# Print gdp_sp500\n",
    "print(gdp_sp500)\n",
    "\n",
    "# Use merge_ordered() to merge gdp and sp500, interpolate missing value\n",
    "gdp_sp500 = pd.merge_ordered(gdp, sp500, left_on = 'year', right_on = 'Date', how = 'left', fill_method='ffill')\n",
    "\n",
    "# Subset the gdp and returns columns\n",
    "gdp_returns = gdp_sp500[[\"gdp\", \"Returns\"]]\n",
    "\n",
    "# Print gdp_returns correlation\n",
    "print (gdp_returns.corr())"
   ]
  },
  {
   "cell_type": "markdown",
   "metadata": {},
   "source": [
    "the correlation of 0.21 between the GDP and S&P500 is low to moderate at best. You may want to find another predictor if you plan to play in the stock market."
   ]
  },
  {
   "cell_type": "markdown",
   "metadata": {},
   "source": [
    "# Phillips curve using merge_ordered()\n",
    "There is an economic theory developed by A. W. Phillips which states that inflation and unemployment have an inverse relationship. The theory claims that with economic growth comes inflation, which in turn should lead to more jobs and less unemployment.  \n",
    "\n",
    "You will take two tables of data from the U.S. Bureau of Labor Statistics, containing unemployment and inflation data over different periods, and create a Phillips curve. The tables have different frequencies. One table has a data entry every six months, while the other has a data entry every month. You will need to use the entries where you have data within both tables.  \n",
    "\n",
    "The tables unemployment and inflation have been loaded for you.  "
   ]
  },
  {
   "cell_type": "code",
   "execution_count": 55,
   "metadata": {},
   "outputs": [
    {
     "name": "stdout",
     "output_type": "stream",
     "text": [
      "       date  unemployment_rate\n",
      "0  6/1/2013                7.5\n",
      "1  1/1/2014                6.7\n",
      "2  6/1/2014                6.1\n",
      "3  1/1/2015                5.6\n",
      "4  6/1/2015                5.3\n",
      "       date      cpi     seriesid                  data_type\n",
      "0  1/1/2014  235.288  CUSR0000SA0  SEASONALLY ADJUSTED INDEX\n",
      "1  2/1/2014  235.547  CUSR0000SA0  SEASONALLY ADJUSTED INDEX\n",
      "2  3/1/2014  236.028  CUSR0000SA0  SEASONALLY ADJUSTED INDEX\n",
      "3  4/1/2014  236.468  CUSR0000SA0  SEASONALLY ADJUSTED INDEX\n",
      "4  5/1/2014  236.918  CUSR0000SA0  SEASONALLY ADJUSTED INDEX\n",
      "date                  object\n",
      "unemployment_rate    float64\n",
      "dtype: object\n",
      "date          object\n",
      "cpi          float64\n",
      "seriesid      object\n",
      "data_type     object\n",
      "dtype: object\n"
     ]
    }
   ],
   "source": [
    "import pandas as pd\n",
    "unemployment = pd.read_csv('unemployment.csv')\n",
    "inflation = pd.read_csv('inflation.csv')\n",
    "print(unemployment[:5])\n",
    "print(inflation[:5])\n",
    "print(unemployment.dtypes)\n",
    "print(inflation.dtypes)\n"
   ]
  },
  {
   "cell_type": "code",
   "execution_count": 56,
   "metadata": {},
   "outputs": [
    {
     "name": "stdout",
     "output_type": "stream",
     "text": [
      "       date      cpi     seriesid                  data_type  \\\n",
      "0  1/1/2014  235.288  CUSR0000SA0  SEASONALLY ADJUSTED INDEX   \n",
      "1  1/1/2015  234.718  CUSR0000SA0  SEASONALLY ADJUSTED INDEX   \n",
      "2  1/1/2016  237.833  CUSR0000SA0  SEASONALLY ADJUSTED INDEX   \n",
      "3  1/1/2017  243.780  CUSR0000SA0  SEASONALLY ADJUSTED INDEX   \n",
      "4  1/1/2018  248.884  CUSR0000SA0  SEASONALLY ADJUSTED INDEX   \n",
      "5  6/1/2014  237.231  CUSR0000SA0  SEASONALLY ADJUSTED INDEX   \n",
      "6  6/1/2015  237.684  CUSR0000SA0  SEASONALLY ADJUSTED INDEX   \n",
      "7  6/1/2016  240.167  CUSR0000SA0  SEASONALLY ADJUSTED INDEX   \n",
      "8  6/1/2017  244.182  CUSR0000SA0  SEASONALLY ADJUSTED INDEX   \n",
      "9  6/1/2018  251.134  CUSR0000SA0  SEASONALLY ADJUSTED INDEX   \n",
      "\n",
      "   unemployment_rate  \n",
      "0                6.7  \n",
      "1                5.6  \n",
      "2                5.0  \n",
      "3                4.7  \n",
      "4                4.1  \n",
      "5                6.1  \n",
      "6                5.3  \n",
      "7                4.9  \n",
      "8                4.3  \n",
      "9                4.0  \n"
     ]
    },
    {
     "data": {
      "image/png": "[encoded data removed]",
      "text/plain": [
       "<Figure size 432x288 with 1 Axes>"
      ]
     },
     "metadata": {
      "needs_background": "light"
     },
     "output_type": "display_data"
    }
   ],
   "source": [
    "import matplotlib.pyplot as plt\n",
    "# Use merge_ordered() to merge inflation, unemployment with inner join\n",
    "inflation_unemploy = pd.merge_ordered(inflation, unemployment, left_on = 'date', right_on = 'date', how = 'inner')\n",
    "\n",
    "# Print inflation_unemploy \n",
    "print(inflation_unemploy)\n",
    "\n",
    "# Plot a scatter plot of unemployment_rate vs cpi of inflation_unemploy\n",
    "inflation_unemploy.plot(x = 'unemployment_rate', y = 'cpi', kind = 'scatter')\n",
    "plt.show()"
   ]
  },
  {
   "cell_type": "markdown",
   "metadata": {},
   "source": [
    "# merge_ordered() caution, multiple columns\n",
    "When using merge_ordered() to merge on multiple columns, the order is important when you combine it with the forward fill feature. The function sorts the merge on columns in the order provided. In this exercise, we will merge GDP and population data from the World Bank for the Australia and Sweden, reversing the order of the merge on columns. The frequency of the series are different, the GDP values are quarterly, and the population is yearly. Use the forward fill feature to fill in the missing data. Depending on the order provided, the fill forward will use unintended data to fill in the missing values.\n",
    "\n",
    "The tables gdp and pop have been loaded  \n",
    "Use merge_ordered() on gdp and pop, merging on columns date and country with the fill feature, save to ctry_date.  \n",
    "\n",
    "Perform the same merge of gdp and pop, but join on country and date (reverse of step 1) with the fill feature, saving this as date_ctry."
   ]
  },
  {
   "cell_type": "code",
   "execution_count": 57,
   "metadata": {},
   "outputs": [],
   "source": [
    "pop = pd.read_csv(\"pop.csv\")\n",
    "gdp2 = pd.read_csv(\"gdp2.csv\")"
   ]
  },
  {
   "cell_type": "code",
   "execution_count": 58,
   "metadata": {},
   "outputs": [
    {
     "name": "stdout",
     "output_type": "stream",
     "text": [
      "        date    country           gdp  series_code_x       pop series_code_y\n",
      "0   1/1/1990  Australia  158051.13240  NYGDPMKTPSAKD  17065100   SP.POP.TOTL\n",
      "1   1/1/1990     Sweden   79837.84599  NYGDPMKTPSAKD   8558835   SP.POP.TOTL\n",
      "2   1/1/1991  Australia  156195.95350  NYGDPMKTPSAKD  17284000   SP.POP.TOTL\n",
      "3   1/1/1991     Sweden   79524.24192  NYGDPMKTPSAKD   8617375   SP.POP.TOTL\n",
      "4   1/1/1992  Australia  157916.08110  NYGDPMKTPSAKD  17495000   SP.POP.TOTL\n",
      "5   1/1/1992     Sweden   79390.92175  NYGDPMKTPSAKD   8668067   SP.POP.TOTL\n",
      "6   1/1/1993  Australia  165097.49510  NYGDPMKTPSAKD  17667000   SP.POP.TOTL\n",
      "7   1/1/1993     Sweden   75783.58777  NYGDPMKTPSAKD   8718561   SP.POP.TOTL\n",
      "8   4/1/1990  Australia  158263.58160  NYGDPMKTPSAKD   8718561   SP.POP.TOTL\n",
      "9   4/1/1990     Sweden   80582.28597  NYGDPMKTPSAKD   8718561   SP.POP.TOTL\n",
      "10  4/1/1991  Australia  155989.03270  NYGDPMKTPSAKD   8718561   SP.POP.TOTL\n",
      "11  4/1/1991     Sweden   79073.05901  NYGDPMKTPSAKD   8718561   SP.POP.TOTL\n",
      "12  4/1/1992  Australia  159047.82710  NYGDPMKTPSAKD   8718561   SP.POP.TOTL\n",
      "13  4/1/1992     Sweden   79060.28298  NYGDPMKTPSAKD   8718561   SP.POP.TOTL\n",
      "14  4/1/1993  Australia  166027.05900  NYGDPMKTPSAKD   8718561   SP.POP.TOTL\n",
      "15  4/1/1993     Sweden   76708.54823  NYGDPMKTPSAKD   8718561   SP.POP.TOTL\n",
      "16  7/1/1990  Australia  157329.27900  NYGDPMKTPSAKD   8718561   SP.POP.TOTL\n",
      "17  7/1/1990     Sweden   79974.36017  NYGDPMKTPSAKD   8718561   SP.POP.TOTL\n",
      "18  7/1/1991  Australia  156635.85760  NYGDPMKTPSAKD   8718561   SP.POP.TOTL\n",
      "19  7/1/1991     Sweden   79084.77036  NYGDPMKTPSAKD   8718561   SP.POP.TOTL\n",
      "20  7/1/1992  Australia  160658.17600  NYGDPMKTPSAKD   8718561   SP.POP.TOTL\n",
      "21  7/1/1992     Sweden   78904.60477  NYGDPMKTPSAKD   8718561   SP.POP.TOTL\n",
      "22  7/1/1993  Australia  166203.17860  NYGDPMKTPSAKD   8718561   SP.POP.TOTL\n",
      "23  7/1/1993     Sweden   77662.01816  NYGDPMKTPSAKD   8718561   SP.POP.TOTL\n",
      "24  9/1/1990  Australia  158240.67810  NYGDPMKTPSAKD   8718561   SP.POP.TOTL\n",
      "25  9/1/1990     Sweden   80106.49738  NYGDPMKTPSAKD   8718561   SP.POP.TOTL\n",
      "26  9/1/1991  Australia  156744.05660  NYGDPMKTPSAKD   8718561   SP.POP.TOTL\n",
      "27  9/1/1991     Sweden   79740.60625  NYGDPMKTPSAKD   8718561   SP.POP.TOTL\n",
      "28  9/1/1992  Australia  163960.22070  NYGDPMKTPSAKD   8718561   SP.POP.TOTL\n",
      "29  9/1/1992     Sweden   76996.83684  NYGDPMKTPSAKD   8718561   SP.POP.TOTL\n",
      "30  9/1/1993  Australia  169279.34790  NYGDPMKTPSAKD   8718561   SP.POP.TOTL\n",
      "31  9/1/1993     Sweden   77703.30364  NYGDPMKTPSAKD   8718561   SP.POP.TOTL\n",
      "        date    country           gdp  series_code_x       pop series_code_y\n",
      "0   1/1/1990  Australia  158051.13240  NYGDPMKTPSAKD  17065100   SP.POP.TOTL\n",
      "1   1/1/1991  Australia  156195.95350  NYGDPMKTPSAKD  17284000   SP.POP.TOTL\n",
      "2   1/1/1992  Australia  157916.08110  NYGDPMKTPSAKD  17495000   SP.POP.TOTL\n",
      "3   1/1/1993  Australia  165097.49510  NYGDPMKTPSAKD  17667000   SP.POP.TOTL\n",
      "4   4/1/1990  Australia  158263.58160  NYGDPMKTPSAKD  17667000   SP.POP.TOTL\n",
      "5   4/1/1991  Australia  155989.03270  NYGDPMKTPSAKD  17667000   SP.POP.TOTL\n",
      "6   4/1/1992  Australia  159047.82710  NYGDPMKTPSAKD  17667000   SP.POP.TOTL\n",
      "7   4/1/1993  Australia  166027.05900  NYGDPMKTPSAKD  17667000   SP.POP.TOTL\n",
      "8   7/1/1990  Australia  157329.27900  NYGDPMKTPSAKD  17667000   SP.POP.TOTL\n",
      "9   7/1/1991  Australia  156635.85760  NYGDPMKTPSAKD  17667000   SP.POP.TOTL\n",
      "10  7/1/1992  Australia  160658.17600  NYGDPMKTPSAKD  17667000   SP.POP.TOTL\n",
      "11  7/1/1993  Australia  166203.17860  NYGDPMKTPSAKD  17667000   SP.POP.TOTL\n",
      "12  9/1/1990  Australia  158240.67810  NYGDPMKTPSAKD  17667000   SP.POP.TOTL\n",
      "13  9/1/1991  Australia  156744.05660  NYGDPMKTPSAKD  17667000   SP.POP.TOTL\n",
      "14  9/1/1992  Australia  163960.22070  NYGDPMKTPSAKD  17667000   SP.POP.TOTL\n",
      "15  9/1/1993  Australia  169279.34790  NYGDPMKTPSAKD  17667000   SP.POP.TOTL\n",
      "16  1/1/1990     Sweden   79837.84599  NYGDPMKTPSAKD   8558835   SP.POP.TOTL\n",
      "17  1/1/1991     Sweden   79524.24192  NYGDPMKTPSAKD   8617375   SP.POP.TOTL\n",
      "18  1/1/1992     Sweden   79390.92175  NYGDPMKTPSAKD   8668067   SP.POP.TOTL\n",
      "19  1/1/1993     Sweden   75783.58777  NYGDPMKTPSAKD   8718561   SP.POP.TOTL\n",
      "20  4/1/1990     Sweden   80582.28597  NYGDPMKTPSAKD   8718561   SP.POP.TOTL\n",
      "21  4/1/1991     Sweden   79073.05901  NYGDPMKTPSAKD   8718561   SP.POP.TOTL\n",
      "22  4/1/1992     Sweden   79060.28298  NYGDPMKTPSAKD   8718561   SP.POP.TOTL\n",
      "23  4/1/1993     Sweden   76708.54823  NYGDPMKTPSAKD   8718561   SP.POP.TOTL\n",
      "24  7/1/1990     Sweden   79974.36017  NYGDPMKTPSAKD   8718561   SP.POP.TOTL\n",
      "25  7/1/1991     Sweden   79084.77036  NYGDPMKTPSAKD   8718561   SP.POP.TOTL\n",
      "26  7/1/1992     Sweden   78904.60477  NYGDPMKTPSAKD   8718561   SP.POP.TOTL\n",
      "27  7/1/1993     Sweden   77662.01816  NYGDPMKTPSAKD   8718561   SP.POP.TOTL\n",
      "28  9/1/1990     Sweden   80106.49738  NYGDPMKTPSAKD   8718561   SP.POP.TOTL\n",
      "29  9/1/1991     Sweden   79740.60625  NYGDPMKTPSAKD   8718561   SP.POP.TOTL\n",
      "30  9/1/1992     Sweden   76996.83684  NYGDPMKTPSAKD   8718561   SP.POP.TOTL\n",
      "31  9/1/1993     Sweden   77703.30364  NYGDPMKTPSAKD   8718561   SP.POP.TOTL\n"
     ]
    }
   ],
   "source": [
    "# Merge gdp and pop on date and country with fill and notice rows 2 and 3\n",
    "ctry_date = pd.merge_ordered(gdp2, pop, on = ('date','country'), \n",
    "                             fill_method='ffill')\n",
    "\n",
    "# Print ctry_date\n",
    "print(ctry_date)\n",
    "\n",
    "# Merge gdp and pop on country and date with fill\n",
    "date_ctry = pd.merge_ordered(gdp2, pop, on = ('country', 'date'), \n",
    "                             fill_method='ffill')\n",
    "\n",
    "# Print date_ctry\n",
    "print(date_ctry)"
   ]
  },
  {
   "cell_type": "markdown",
   "metadata": {},
   "source": [
    "# merge_asof()\n",
    "\n",
    "merge_asof() will match on the nearest value columns rather than equal values. This brings up an important point - whatever columns you merge on must be sorted.  \n",
    "\n",
    "pd.merge_asof(visa, ibm, on='date_time',suffixes=('_visa','_ibm'))  \n",
    "\n",
    "merge_asof() example with direction  \n",
    "pd.merge_asof(visa, ibm, on=['date_time'],suffixes=('_visa','_ibm'),direction='forward')\n",
    "\n",
    "**When to use merge_asof()**  \n",
    "Data sampled from a process  \n",
    "Developing a training set (no data leakage"
   ]
  },
  {
   "cell_type": "markdown",
   "metadata": {},
   "source": [
    "# Using merge_asof() to study stocks\n",
    "You have a feed of stock market prices that you record. You attempt to track the price every five minutes. Still, due to some network latency, the prices you record are roughly every 5 minutes. You pull your price logs for three banks, JP Morgan (JPM), Wells Fargo (WFC), and Bank Of America (BAC). You want to know how the price change of the two other banks compare to JP Morgan. Therefore, you will need to merge these three logs into one table. Afterward, you will use the pandas .diff() method to compute the price change over time. Finally, plot the price changes so you can review your analysis.\n",
    "\n",
    "The three log files have been loaded for you as tables named jpm, wells, and bac.  \n",
    "\n",
    "Use merge_asof() to merge jpm (left table) and wells together on the date_time column, where the rows with the nearest times are matched, and with suffixes=('', '_wells'). Save to jpm_wells.  \n",
    "Use merge_asof() to merge jpm_wells (left table) and bac together on the date_time column, where the rows with the closest times are matched, and with suffixes=('_jpm', '_bac'). Save to jpm_wells_bac.  \n",
    "Using price_diffs, create a line plot of the close price of JPM, WFC, and BAC only.  "
   ]
  },
  {
   "cell_type": "code",
   "execution_count": 59,
   "metadata": {},
   "outputs": [
    {
     "name": "stdout",
     "output_type": "stream",
     "text": [
      "date_time    datetime64[ns]\n",
      "close               float64\n",
      "dtype: object\n",
      "date_time    datetime64[ns]\n",
      "close               float64\n",
      "dtype: object\n",
      "date_time    datetime64[ns]\n",
      "close               float64\n",
      "dtype: object\n"
     ]
    }
   ],
   "source": [
    "import pandas as pd\n",
    "\n",
    "jpm = pd.read_csv(\"jpm.csv\")\n",
    "wells = pd.read_csv(\"wells.csv\")\n",
    "bac = pd.read_csv(\"bac.csv\")\n",
    "jpm['date_time'] = pd.to_datetime(jpm['date_time'])\n",
    "wells['date_time'] = pd.to_datetime(wells['date_time'])\n",
    "bac['date_time'] = pd.to_datetime(bac['date_time'])\n",
    "print(jpm.dtypes)\n",
    "print(wells.dtypes)\n",
    "print(bac.dtypes)"
   ]
  },
  {
   "cell_type": "code",
   "execution_count": 60,
   "metadata": {},
   "outputs": [
    {
     "data": {
      "image/png": "[encoded data removed]",
      "text/plain": [
       "<Figure size 432x288 with 1 Axes>"
      ]
     },
     "metadata": {
      "needs_background": "light"
     },
     "output_type": "display_data"
    }
   ],
   "source": [
    "# Use merge_asof() to merge jpm and wells\n",
    "jpm_wells = pd.merge_asof(jpm, wells, on='date_time', suffixes = ('', '_wells'), direction = 'nearest')\n",
    "\n",
    "\n",
    "# Use merge_asof() to merge jpm_wells and bac\n",
    "jpm_wells_bac = pd.merge_asof(jpm_wells, bac, on='date_time', suffixes = ('_jpm', '_bac'), direction = 'nearest')\n",
    "\n",
    "\n",
    "# Compute price diff\n",
    "price_diffs = jpm_wells_bac.diff()\n",
    "\n",
    "# Plot the price diff of the close of jpm, wells and bac only\n",
    "price_diffs.plot(y=['close_jpm', 'close_wells', 'close_bac'])\n",
    "plt.show()"
   ]
  },
  {
   "cell_type": "markdown",
   "metadata": {},
   "source": [
    "# Using merge_asof() to create dataset\n",
    "The merge_asof() function can be used to create datasets where you have a table of start and stop dates, and you want to use them to create a flag in another table. You have been given gdp, which is a table of quarterly GDP values of the US during the 1980s. Additionally, the table recession has been given to you. It holds the starting date of every US recession since 1980, and the date when the recession was declared to be over. Use merge_asof() to merge the tables and create a status flag if a quarter was during a recession. Finally, to check your work, plot the data in a bar chart.  \n",
    "\n",
    "The tables gdp and recession have been loaded for you.  \n",
    "\n",
    "Using merge_asof(), merge gdp and recession on date, with gdp as the left table. Save to the variable gdp_recession.  \n",
    "Create a list using a list comprehension and a conditional expression, named is_recession, where for each row if the gdp_recession['econ_status'] value is equal to 'recession' then enter 'r' else 'g'.  \n",
    "Using gdp_recession, plot a bar chart of gdp versus date, setting the color argument equal to is_recession.  "
   ]
  },
  {
   "cell_type": "code",
   "execution_count": 61,
   "metadata": {},
   "outputs": [],
   "source": [
    "gdp3 = pd.read_csv('gdp3.csv')\n",
    "recession = pd.read_csv('recession.csv')\n",
    "gdp3['date'] = pd.to_datetime(gdp3['date'])\n",
    "recession['date'] = pd.to_datetime(recession['date'])\n"
   ]
  },
  {
   "cell_type": "code",
   "execution_count": 62,
   "metadata": {},
   "outputs": [
    {
     "data": {
      "image/png": "[encoded data removed]",
      "text/plain": [
       "<Figure size 432x288 with 1 Axes>"
      ]
     },
     "metadata": {
      "needs_background": "light"
     },
     "output_type": "display_data"
    }
   ],
   "source": [
    "# Merge gdp and recession on date using merge_asof()\n",
    "gdp_recession = pd.merge_asof(gdp3, recession, on = 'date')\n",
    "\n",
    "# Create a list based on the row value of gdp_recession['econ_status']\n",
    "is_recession = ['r' if s=='recession' else 'g' for s in gdp_recession['econ_status']]\n",
    "\n",
    "\n",
    "# Plot a bar chart of gdp_recession\n",
    "gdp_recession.plot(kind='bar', y='gdp', x='date', color=is_recession, rot=90)\n",
    "plt.show()"
   ]
  },
  {
   "cell_type": "markdown",
   "metadata": {},
   "source": [
    "- merge_asof()\n",
    "  - used to do fuzzy matching of dates between tables\n",
    "  - can use function to select the first row in theright table whose key column is greater or equal to the left's\n",
    "  - after matching 2 tables, if there are missing values at the top of the table from the right table, this can fill them in\n",
    "- both\n",
    "  - set suffixes\n",
    "  - use on ordered or time series data\n",
    "- merge_ordered()\n",
    "  - allows for right merge\n",
    "  - it it cannot match rows exactly it can use forward fill to interpolate the data"
   ]
  },
  {
   "cell_type": "markdown",
   "metadata": {},
   "source": [
    "# Selecting data with .query()\n",
    "\n",
    "The query() method accepts an input string that it will use to select rows to return from the table.  \n",
    "\n",
    "## using and, or\n",
    "stocks.query('nike >= 90')  \n",
    "stocks.query('nike > 90 and disney < 140')  \n",
    "stocks.query('nike > 96 or disney < 98')  \n",
    "\n",
    "## using .query to select text\n",
    "stocks_long.query('stock==\"disney\" or (stock==\"nike\" and close < 90)')"
   ]
  },
  {
   "cell_type": "markdown",
   "metadata": {},
   "source": [
    "# Explore financials with .query()\n",
    "You have been given a table of financial data from some popular social network companies called social_fin. All of the values are in thousands of US dollars.  \n",
    "\n",
    "Use the .query() method and the console to explore social_fin and select the True statement.  "
   ]
  },
  {
   "cell_type": "code",
   "execution_count": 69,
   "metadata": {},
   "outputs": [
    {
     "name": "stdout",
     "output_type": "stream",
     "text": [
      "financial    object\n",
      "company      object\n",
      "year          int64\n",
      "value         int64\n",
      "dtype: object\n"
     ]
    }
   ],
   "source": [
    "social_fin = pd.read_csv('social_fin.csv')\n",
    "print(social_fin.dtypes)"
   ]
  },
  {
   "cell_type": "code",
   "execution_count": 70,
   "metadata": {},
   "outputs": [
    {
     "data": {
      "text/html": [
       "<div>\n",
       "<style scoped>\n",
       "    .dataframe tbody tr th:only-of-type {\n",
       "        vertical-align: middle;\n",
       "    }\n",
       "\n",
       "    .dataframe tbody tr th {\n",
       "        vertical-align: top;\n",
       "    }\n",
       "\n",
       "    .dataframe thead th {\n",
       "        text-align: right;\n",
       "    }\n",
       "</style>\n",
       "<table border=\"1\" class=\"dataframe\">\n",
       "  <thead>\n",
       "    <tr style=\"text-align: right;\">\n",
       "      <th></th>\n",
       "      <th>financial</th>\n",
       "      <th>company</th>\n",
       "      <th>year</th>\n",
       "      <th>value</th>\n",
       "    </tr>\n",
       "  </thead>\n",
       "  <tbody>\n",
       "    <tr>\n",
       "      <th>5</th>\n",
       "      <td>total_revenue</td>\n",
       "      <td>facebook</td>\n",
       "      <td>2019</td>\n",
       "      <td>70697000</td>\n",
       "    </tr>\n",
       "    <tr>\n",
       "      <th>7</th>\n",
       "      <td>gross_profit</td>\n",
       "      <td>facebook</td>\n",
       "      <td>2019</td>\n",
       "      <td>57927000</td>\n",
       "    </tr>\n",
       "    <tr>\n",
       "      <th>20</th>\n",
       "      <td>total_revenue</td>\n",
       "      <td>facebook</td>\n",
       "      <td>2018</td>\n",
       "      <td>55838000</td>\n",
       "    </tr>\n",
       "  </tbody>\n",
       "</table>\n",
       "</div>"
      ],
      "text/plain": [
       "        financial   company  year     value\n",
       "5   total_revenue  facebook  2019  70697000\n",
       "7    gross_profit  facebook  2019  57927000\n",
       "20  total_revenue  facebook  2018  55838000"
      ]
     },
     "execution_count": 70,
     "metadata": {},
     "output_type": "execute_result"
    }
   ],
   "source": [
    "social_fin.query('value > 50000000' )"
   ]
  },
  {
   "cell_type": "code",
   "execution_count": 72,
   "metadata": {},
   "outputs": [
    {
     "data": {
      "text/html": [
       "<div>\n",
       "<style scoped>\n",
       "    .dataframe tbody tr th:only-of-type {\n",
       "        vertical-align: middle;\n",
       "    }\n",
       "\n",
       "    .dataframe tbody tr th {\n",
       "        vertical-align: top;\n",
       "    }\n",
       "\n",
       "    .dataframe thead th {\n",
       "        text-align: right;\n",
       "    }\n",
       "</style>\n",
       "<table border=\"1\" class=\"dataframe\">\n",
       "  <thead>\n",
       "    <tr style=\"text-align: right;\">\n",
       "      <th></th>\n",
       "      <th>financial</th>\n",
       "      <th>company</th>\n",
       "      <th>year</th>\n",
       "      <th>value</th>\n",
       "    </tr>\n",
       "  </thead>\n",
       "  <tbody>\n",
       "    <tr>\n",
       "      <th>5</th>\n",
       "      <td>total_revenue</td>\n",
       "      <td>facebook</td>\n",
       "      <td>2019</td>\n",
       "      <td>70697000</td>\n",
       "    </tr>\n",
       "    <tr>\n",
       "      <th>6</th>\n",
       "      <td>cost_of_revenue</td>\n",
       "      <td>facebook</td>\n",
       "      <td>2019</td>\n",
       "      <td>12770000</td>\n",
       "    </tr>\n",
       "    <tr>\n",
       "      <th>7</th>\n",
       "      <td>gross_profit</td>\n",
       "      <td>facebook</td>\n",
       "      <td>2019</td>\n",
       "      <td>57927000</td>\n",
       "    </tr>\n",
       "    <tr>\n",
       "      <th>8</th>\n",
       "      <td>operating_expenses</td>\n",
       "      <td>facebook</td>\n",
       "      <td>2019</td>\n",
       "      <td>33941000</td>\n",
       "    </tr>\n",
       "    <tr>\n",
       "      <th>9</th>\n",
       "      <td>net_income</td>\n",
       "      <td>facebook</td>\n",
       "      <td>2019</td>\n",
       "      <td>18485000</td>\n",
       "    </tr>\n",
       "    <tr>\n",
       "      <th>20</th>\n",
       "      <td>total_revenue</td>\n",
       "      <td>facebook</td>\n",
       "      <td>2018</td>\n",
       "      <td>55838000</td>\n",
       "    </tr>\n",
       "    <tr>\n",
       "      <th>21</th>\n",
       "      <td>cost_of_revenue</td>\n",
       "      <td>facebook</td>\n",
       "      <td>2018</td>\n",
       "      <td>9355000</td>\n",
       "    </tr>\n",
       "    <tr>\n",
       "      <th>22</th>\n",
       "      <td>gross_profit</td>\n",
       "      <td>facebook</td>\n",
       "      <td>2018</td>\n",
       "      <td>46483000</td>\n",
       "    </tr>\n",
       "    <tr>\n",
       "      <th>23</th>\n",
       "      <td>operating_expenses</td>\n",
       "      <td>facebook</td>\n",
       "      <td>2018</td>\n",
       "      <td>21570000</td>\n",
       "    </tr>\n",
       "    <tr>\n",
       "      <th>24</th>\n",
       "      <td>net_income</td>\n",
       "      <td>facebook</td>\n",
       "      <td>2018</td>\n",
       "      <td>22112000</td>\n",
       "    </tr>\n",
       "    <tr>\n",
       "      <th>35</th>\n",
       "      <td>total_revenue</td>\n",
       "      <td>facebook</td>\n",
       "      <td>2017</td>\n",
       "      <td>40653000</td>\n",
       "    </tr>\n",
       "    <tr>\n",
       "      <th>36</th>\n",
       "      <td>cost_of_revenue</td>\n",
       "      <td>facebook</td>\n",
       "      <td>2017</td>\n",
       "      <td>5454000</td>\n",
       "    </tr>\n",
       "    <tr>\n",
       "      <th>37</th>\n",
       "      <td>gross_profit</td>\n",
       "      <td>facebook</td>\n",
       "      <td>2017</td>\n",
       "      <td>35199000</td>\n",
       "    </tr>\n",
       "    <tr>\n",
       "      <th>38</th>\n",
       "      <td>operating_expenses</td>\n",
       "      <td>facebook</td>\n",
       "      <td>2017</td>\n",
       "      <td>14996000</td>\n",
       "    </tr>\n",
       "    <tr>\n",
       "      <th>39</th>\n",
       "      <td>net_income</td>\n",
       "      <td>facebook</td>\n",
       "      <td>2017</td>\n",
       "      <td>15934000</td>\n",
       "    </tr>\n",
       "    <tr>\n",
       "      <th>50</th>\n",
       "      <td>total_revenue</td>\n",
       "      <td>facebook</td>\n",
       "      <td>2016</td>\n",
       "      <td>27638000</td>\n",
       "    </tr>\n",
       "    <tr>\n",
       "      <th>51</th>\n",
       "      <td>cost_of_revenue</td>\n",
       "      <td>facebook</td>\n",
       "      <td>2016</td>\n",
       "      <td>3789000</td>\n",
       "    </tr>\n",
       "    <tr>\n",
       "      <th>52</th>\n",
       "      <td>gross_profit</td>\n",
       "      <td>facebook</td>\n",
       "      <td>2016</td>\n",
       "      <td>23849000</td>\n",
       "    </tr>\n",
       "    <tr>\n",
       "      <th>53</th>\n",
       "      <td>operating_expenses</td>\n",
       "      <td>facebook</td>\n",
       "      <td>2016</td>\n",
       "      <td>11422000</td>\n",
       "    </tr>\n",
       "    <tr>\n",
       "      <th>54</th>\n",
       "      <td>net_income</td>\n",
       "      <td>facebook</td>\n",
       "      <td>2016</td>\n",
       "      <td>10217000</td>\n",
       "    </tr>\n",
       "  </tbody>\n",
       "</table>\n",
       "</div>"
      ],
      "text/plain": [
       "             financial   company  year     value\n",
       "5        total_revenue  facebook  2019  70697000\n",
       "6      cost_of_revenue  facebook  2019  12770000\n",
       "7         gross_profit  facebook  2019  57927000\n",
       "8   operating_expenses  facebook  2019  33941000\n",
       "9           net_income  facebook  2019  18485000\n",
       "20       total_revenue  facebook  2018  55838000\n",
       "21     cost_of_revenue  facebook  2018   9355000\n",
       "22        gross_profit  facebook  2018  46483000\n",
       "23  operating_expenses  facebook  2018  21570000\n",
       "24          net_income  facebook  2018  22112000\n",
       "35       total_revenue  facebook  2017  40653000\n",
       "36     cost_of_revenue  facebook  2017   5454000\n",
       "37        gross_profit  facebook  2017  35199000\n",
       "38  operating_expenses  facebook  2017  14996000\n",
       "39          net_income  facebook  2017  15934000\n",
       "50       total_revenue  facebook  2016  27638000\n",
       "51     cost_of_revenue  facebook  2016   3789000\n",
       "52        gross_profit  facebook  2016  23849000\n",
       "53  operating_expenses  facebook  2016  11422000\n",
       "54          net_income  facebook  2016  10217000"
      ]
     },
     "execution_count": 72,
     "metadata": {},
     "output_type": "execute_result"
    }
   ],
   "source": [
    "social_fin.query('company == \"facebook\"')"
   ]
  },
  {
   "cell_type": "code",
   "execution_count": 74,
   "metadata": {},
   "outputs": [
    {
     "data": {
      "text/html": [
       "<div>\n",
       "<style scoped>\n",
       "    .dataframe tbody tr th:only-of-type {\n",
       "        vertical-align: middle;\n",
       "    }\n",
       "\n",
       "    .dataframe tbody tr th {\n",
       "        vertical-align: top;\n",
       "    }\n",
       "\n",
       "    .dataframe thead th {\n",
       "        text-align: right;\n",
       "    }\n",
       "</style>\n",
       "<table border=\"1\" class=\"dataframe\">\n",
       "  <thead>\n",
       "    <tr style=\"text-align: right;\">\n",
       "      <th></th>\n",
       "      <th>financial</th>\n",
       "      <th>company</th>\n",
       "      <th>year</th>\n",
       "      <th>value</th>\n",
       "    </tr>\n",
       "  </thead>\n",
       "  <tbody>\n",
       "    <tr>\n",
       "      <th>14</th>\n",
       "      <td>net_income</td>\n",
       "      <td>snap</td>\n",
       "      <td>2019</td>\n",
       "      <td>-1033660</td>\n",
       "    </tr>\n",
       "    <tr>\n",
       "      <th>29</th>\n",
       "      <td>net_income</td>\n",
       "      <td>snap</td>\n",
       "      <td>2018</td>\n",
       "      <td>-1255911</td>\n",
       "    </tr>\n",
       "    <tr>\n",
       "      <th>34</th>\n",
       "      <td>net_income</td>\n",
       "      <td>twitter</td>\n",
       "      <td>2017</td>\n",
       "      <td>-108063</td>\n",
       "    </tr>\n",
       "    <tr>\n",
       "      <th>44</th>\n",
       "      <td>net_income</td>\n",
       "      <td>snap</td>\n",
       "      <td>2017</td>\n",
       "      <td>-3445066</td>\n",
       "    </tr>\n",
       "    <tr>\n",
       "      <th>49</th>\n",
       "      <td>net_income</td>\n",
       "      <td>twitter</td>\n",
       "      <td>2016</td>\n",
       "      <td>-456873</td>\n",
       "    </tr>\n",
       "  </tbody>\n",
       "</table>\n",
       "</div>"
      ],
      "text/plain": [
       "     financial  company  year    value\n",
       "14  net_income     snap  2019 -1033660\n",
       "29  net_income     snap  2018 -1255911\n",
       "34  net_income  twitter  2017  -108063\n",
       "44  net_income     snap  2017 -3445066\n",
       "49  net_income  twitter  2016  -456873"
      ]
     },
     "execution_count": 74,
     "metadata": {},
     "output_type": "execute_result"
    }
   ],
   "source": [
    "social_fin.query('value < 0 and financial == \"net_income\"')"
   ]
  },
  {
   "cell_type": "code",
   "execution_count": 75,
   "metadata": {},
   "outputs": [
    {
     "data": {
      "text/html": [
       "<div>\n",
       "<style scoped>\n",
       "    .dataframe tbody tr th:only-of-type {\n",
       "        vertical-align: middle;\n",
       "    }\n",
       "\n",
       "    .dataframe tbody tr th {\n",
       "        vertical-align: top;\n",
       "    }\n",
       "\n",
       "    .dataframe thead th {\n",
       "        text-align: right;\n",
       "    }\n",
       "</style>\n",
       "<table border=\"1\" class=\"dataframe\">\n",
       "  <thead>\n",
       "    <tr style=\"text-align: right;\">\n",
       "      <th></th>\n",
       "      <th>financial</th>\n",
       "      <th>company</th>\n",
       "      <th>year</th>\n",
       "      <th>value</th>\n",
       "    </tr>\n",
       "  </thead>\n",
       "  <tbody>\n",
       "    <tr>\n",
       "      <th>2</th>\n",
       "      <td>gross_profit</td>\n",
       "      <td>twitter</td>\n",
       "      <td>2019</td>\n",
       "      <td>2322288</td>\n",
       "    </tr>\n",
       "    <tr>\n",
       "      <th>7</th>\n",
       "      <td>gross_profit</td>\n",
       "      <td>facebook</td>\n",
       "      <td>2019</td>\n",
       "      <td>57927000</td>\n",
       "    </tr>\n",
       "    <tr>\n",
       "      <th>12</th>\n",
       "      <td>gross_profit</td>\n",
       "      <td>snap</td>\n",
       "      <td>2019</td>\n",
       "      <td>819696</td>\n",
       "    </tr>\n",
       "    <tr>\n",
       "      <th>17</th>\n",
       "      <td>gross_profit</td>\n",
       "      <td>twitter</td>\n",
       "      <td>2018</td>\n",
       "      <td>2077362</td>\n",
       "    </tr>\n",
       "    <tr>\n",
       "      <th>22</th>\n",
       "      <td>gross_profit</td>\n",
       "      <td>facebook</td>\n",
       "      <td>2018</td>\n",
       "      <td>46483000</td>\n",
       "    </tr>\n",
       "    <tr>\n",
       "      <th>27</th>\n",
       "      <td>gross_profit</td>\n",
       "      <td>snap</td>\n",
       "      <td>2018</td>\n",
       "      <td>381581</td>\n",
       "    </tr>\n",
       "    <tr>\n",
       "      <th>32</th>\n",
       "      <td>gross_profit</td>\n",
       "      <td>twitter</td>\n",
       "      <td>2017</td>\n",
       "      <td>1582057</td>\n",
       "    </tr>\n",
       "    <tr>\n",
       "      <th>37</th>\n",
       "      <td>gross_profit</td>\n",
       "      <td>facebook</td>\n",
       "      <td>2017</td>\n",
       "      <td>35199000</td>\n",
       "    </tr>\n",
       "    <tr>\n",
       "      <th>42</th>\n",
       "      <td>gross_profit</td>\n",
       "      <td>snap</td>\n",
       "      <td>2017</td>\n",
       "      <td>107487</td>\n",
       "    </tr>\n",
       "    <tr>\n",
       "      <th>47</th>\n",
       "      <td>gross_profit</td>\n",
       "      <td>twitter</td>\n",
       "      <td>2016</td>\n",
       "      <td>1597379</td>\n",
       "    </tr>\n",
       "    <tr>\n",
       "      <th>52</th>\n",
       "      <td>gross_profit</td>\n",
       "      <td>facebook</td>\n",
       "      <td>2016</td>\n",
       "      <td>23849000</td>\n",
       "    </tr>\n",
       "  </tbody>\n",
       "</table>\n",
       "</div>"
      ],
      "text/plain": [
       "       financial   company  year     value\n",
       "2   gross_profit   twitter  2019   2322288\n",
       "7   gross_profit  facebook  2019  57927000\n",
       "12  gross_profit      snap  2019    819696\n",
       "17  gross_profit   twitter  2018   2077362\n",
       "22  gross_profit  facebook  2018  46483000\n",
       "27  gross_profit      snap  2018    381581\n",
       "32  gross_profit   twitter  2017   1582057\n",
       "37  gross_profit  facebook  2017  35199000\n",
       "42  gross_profit      snap  2017    107487\n",
       "47  gross_profit   twitter  2016   1597379\n",
       "52  gross_profit  facebook  2016  23849000"
      ]
     },
     "execution_count": 75,
     "metadata": {},
     "output_type": "execute_result"
    }
   ],
   "source": [
    "social_fin.query('financial == \"gross_profit\" and value > 100000')"
   ]
  },
  {
   "cell_type": "markdown",
   "metadata": {},
   "source": [
    "# Subsetting rows with .query()\n",
    "In this exercise, you will revisit GDP and population data for Australia and Sweden from the World Bank and expand on it using the .query() method. You'll merge the two tables and compute the GDP per capita. Afterwards, you'll use the .query() method to sub-select the rows and create a plot. Recall that you will need to merge on multiple columns in the proper order.  \n",
    "\n",
    "The tables gdp and pop have been loaded for you.  \n",
    "\n",
    "Use merge_ordered() on gdp and pop on columns country and date with the fill feature, save to gdp_pop and print.  \n",
    "\n",
    "Add a column named gdp_per_capita to gdp_pop that divides gdp by pop.  "
   ]
  },
  {
   "cell_type": "code",
   "execution_count": null,
   "metadata": {},
   "outputs": [],
   "source": []
  },
  {
   "cell_type": "code",
   "execution_count": 80,
   "metadata": {},
   "outputs": [
    {
     "name": "stdout",
     "output_type": "stream",
     "text": [
      "date              object\n",
      "country           object\n",
      "gdp              float64\n",
      "series_code_x     object\n",
      "pop                int64\n",
      "series_code_y     object\n",
      "dtype: object\n"
     ]
    }
   ],
   "source": [
    "# Merge gdp and pop on date and country with fill\n",
    "gdp_pop = pd.merge_ordered(gdp2, pop, on = ('country','date'), \n",
    "                             fill_method='ffill')\n",
    "\n",
    "print(gdp_pop.dtypes)\n",
    "\n"
   ]
  },
  {
   "cell_type": "code",
   "execution_count": 82,
   "metadata": {},
   "outputs": [],
   "source": [
    "# Add a column named gdp_per_capita to gdp_pop that divides the gdp by pop\n",
    "gdp_pop['gdp_per_capita'] = gdp_pop['gdp'] / gdp_pop['pop']"
   ]
  },
  {
   "cell_type": "markdown",
   "metadata": {},
   "source": [
    "Pivot gdp_pop so values='gdp_per_capita', index='date', and columns='country', save as gdp_pivot."
   ]
  },
  {
   "cell_type": "code",
   "execution_count": 87,
   "metadata": {},
   "outputs": [
    {
     "name": "stdout",
     "output_type": "stream",
     "text": [
      "country\n",
      "Australia    float64\n",
      "Sweden       float64\n",
      "dtype: object\n"
     ]
    }
   ],
   "source": [
    "# Pivot table of gdp_per_capita, where index is date and columns is country\n",
    "gdp_pivot = gdp_pop.pivot_table('gdp_per_capita', 'date', 'country')"
   ]
  },
  {
   "cell_type": "markdown",
   "metadata": {},
   "source": [
    "Use .query() to select rows from gdp_pivot where date is greater than equal to 1991-01-01\". Save as recent_gdp_pop."
   ]
  },
  {
   "cell_type": "code",
   "execution_count": 89,
   "metadata": {},
   "outputs": [
    {
     "data": {
      "image/png": "[encoded data removed]",
      "text/plain": [
       "<Figure size 432x288 with 1 Axes>"
      ]
     },
     "metadata": {
      "needs_background": "light"
     },
     "output_type": "display_data"
    }
   ],
   "source": [
    "# Select dates equal to or greater than 1991-01-01\n",
    "recent_gdp_pop = gdp_pivot.query('date >= \"1991-01-01\"')\n",
    "\n",
    "# Plot recent_gdp_pop\n",
    "recent_gdp_pop.plot(rot=90)\n",
    "plt.show()"
   ]
  },
  {
   "cell_type": "markdown",
   "metadata": {},
   "source": [
    "# Reshaping data with .melt()\n",
    "The melt method will allow us to unpivot our dataset - move from wide to long data\n",
    "social_fin_tall = social_fin.melt(id_vars=['financial','company'])\n"
   ]
  },
  {
   "cell_type": "markdown",
   "metadata": {},
   "source": [
    "# Melting with value_vars\n",
    "\n",
    "value_vars argument controls which columns are unpivoted.   \n",
    "social_fin_tall = social_fin.melt(id_vars=['financial','company'],value_vars=['2018','2017'])"
   ]
  },
  {
   "cell_type": "markdown",
   "metadata": {},
   "source": [
    "# Melting with column names\n",
    "\n",
    "The var_name argument will allow us to set the name of the year column in the output.  \n",
    "Similarly, the value_name argument will allow us to set the name of the value column in the output.  \n",
    "\n",
    "social_fin_tall = social_fin.melt(id_vars=['financial','company'],\n",
    "                                value_vars=['2018','2017'],\n",
    "                                var_name=['year'], \n",
    "                                value_name='dollars')"
   ]
  },
  {
   "cell_type": "code",
   "execution_count": 94,
   "metadata": {},
   "outputs": [
    {
     "name": "stdout",
     "output_type": "stream",
     "text": [
      "  country    indicator  2017  2018  2019\n",
      "0  Brazil  Inflation %  3.45  3.66  3.73\n",
      "1  Canada  Inflation %  1.60  2.27  1.95\n",
      "2  France  Inflation %  1.03  1.85  1.11\n",
      "3   India  Inflation %  2.49  4.86  7.66\n"
     ]
    }
   ],
   "source": [
    "inflation2 = pd.read_csv('inflation2.csv')\n",
    "print(inflation2[:5])"
   ]
  },
  {
   "cell_type": "code",
   "execution_count": 97,
   "metadata": {},
   "outputs": [
    {
     "data": {
      "text/html": [
       "<div>\n",
       "<style scoped>\n",
       "    .dataframe tbody tr th:only-of-type {\n",
       "        vertical-align: middle;\n",
       "    }\n",
       "\n",
       "    .dataframe tbody tr th {\n",
       "        vertical-align: top;\n",
       "    }\n",
       "\n",
       "    .dataframe thead th {\n",
       "        text-align: right;\n",
       "    }\n",
       "</style>\n",
       "<table border=\"1\" class=\"dataframe\">\n",
       "  <thead>\n",
       "    <tr style=\"text-align: right;\">\n",
       "      <th></th>\n",
       "      <th>country</th>\n",
       "      <th>indicator</th>\n",
       "      <th>year</th>\n",
       "      <th>annual</th>\n",
       "    </tr>\n",
       "  </thead>\n",
       "  <tbody>\n",
       "    <tr>\n",
       "      <th>0</th>\n",
       "      <td>Brazil</td>\n",
       "      <td>Inflation %</td>\n",
       "      <td>2017</td>\n",
       "      <td>3.45</td>\n",
       "    </tr>\n",
       "    <tr>\n",
       "      <th>1</th>\n",
       "      <td>Canada</td>\n",
       "      <td>Inflation %</td>\n",
       "      <td>2017</td>\n",
       "      <td>1.60</td>\n",
       "    </tr>\n",
       "    <tr>\n",
       "      <th>2</th>\n",
       "      <td>France</td>\n",
       "      <td>Inflation %</td>\n",
       "      <td>2017</td>\n",
       "      <td>1.03</td>\n",
       "    </tr>\n",
       "    <tr>\n",
       "      <th>3</th>\n",
       "      <td>India</td>\n",
       "      <td>Inflation %</td>\n",
       "      <td>2017</td>\n",
       "      <td>2.49</td>\n",
       "    </tr>\n",
       "    <tr>\n",
       "      <th>4</th>\n",
       "      <td>Brazil</td>\n",
       "      <td>Inflation %</td>\n",
       "      <td>2018</td>\n",
       "      <td>3.66</td>\n",
       "    </tr>\n",
       "    <tr>\n",
       "      <th>5</th>\n",
       "      <td>Canada</td>\n",
       "      <td>Inflation %</td>\n",
       "      <td>2018</td>\n",
       "      <td>2.27</td>\n",
       "    </tr>\n",
       "    <tr>\n",
       "      <th>6</th>\n",
       "      <td>France</td>\n",
       "      <td>Inflation %</td>\n",
       "      <td>2018</td>\n",
       "      <td>1.85</td>\n",
       "    </tr>\n",
       "    <tr>\n",
       "      <th>7</th>\n",
       "      <td>India</td>\n",
       "      <td>Inflation %</td>\n",
       "      <td>2018</td>\n",
       "      <td>4.86</td>\n",
       "    </tr>\n",
       "    <tr>\n",
       "      <th>8</th>\n",
       "      <td>Brazil</td>\n",
       "      <td>Inflation %</td>\n",
       "      <td>2019</td>\n",
       "      <td>3.73</td>\n",
       "    </tr>\n",
       "    <tr>\n",
       "      <th>9</th>\n",
       "      <td>Canada</td>\n",
       "      <td>Inflation %</td>\n",
       "      <td>2019</td>\n",
       "      <td>1.95</td>\n",
       "    </tr>\n",
       "    <tr>\n",
       "      <th>10</th>\n",
       "      <td>France</td>\n",
       "      <td>Inflation %</td>\n",
       "      <td>2019</td>\n",
       "      <td>1.11</td>\n",
       "    </tr>\n",
       "    <tr>\n",
       "      <th>11</th>\n",
       "      <td>India</td>\n",
       "      <td>Inflation %</td>\n",
       "      <td>2019</td>\n",
       "      <td>7.66</td>\n",
       "    </tr>\n",
       "  </tbody>\n",
       "</table>\n",
       "</div>"
      ],
      "text/plain": [
       "   country    indicator  year  annual\n",
       "0   Brazil  Inflation %  2017    3.45\n",
       "1   Canada  Inflation %  2017    1.60\n",
       "2   France  Inflation %  2017    1.03\n",
       "3    India  Inflation %  2017    2.49\n",
       "4   Brazil  Inflation %  2018    3.66\n",
       "5   Canada  Inflation %  2018    2.27\n",
       "6   France  Inflation %  2018    1.85\n",
       "7    India  Inflation %  2018    4.86\n",
       "8   Brazil  Inflation %  2019    3.73\n",
       "9   Canada  Inflation %  2019    1.95\n",
       "10  France  Inflation %  2019    1.11\n",
       "11   India  Inflation %  2019    7.66"
      ]
     },
     "execution_count": 97,
     "metadata": {},
     "output_type": "execute_result"
    }
   ],
   "source": [
    "inflation2.melt(id_vars = ['country', 'indicator'], var_name = 'year', value_name = 'annual')"
   ]
  },
  {
   "cell_type": "markdown",
   "metadata": {},
   "source": [
    "# Using .melt() to reshape government data\n",
    "The US Bureau of Labor Statistics (BLS) often provides data series in an easy-to-read format - it has a separate column for each month, and each year is a different row. Unfortunately, this wide format makes it difficult to plot this information over time. In this exercise, you will reshape a table of US unemployment rate data from the BLS into a form you can plot using .melt(). You will need to add a date column to the table and sort by it to plot the data correctly.  \n",
    "  \n",
    "The unemployment rate data has been loaded for you in a table called ur_wide. You are encouraged to view the table in the console before beginning the exercise.  \n",
    "\n",
    "Use .melt() to unpivot all of the columns of ur_wide except year and ensure that the columns with the months and values are named month and unempl_rate, respectively. Save the result as ur_tall.  \n",
    "Add a column to ur_tall named date which combines the year and month columns as year-month format into a larger string, and converts it to a date data type.  \n",
    "Sort ur_tall by date and save as ur_sorted.  \n",
    "Using ur_sorted, plot unempl_rate on the y-axis and date on the x-axis.  "
   ]
  },
  {
   "cell_type": "code",
   "execution_count": 98,
   "metadata": {},
   "outputs": [],
   "source": [
    "ur_wide = pd.read_csv('ur_wide.csv')"
   ]
  },
  {
   "cell_type": "code",
   "execution_count": 107,
   "metadata": {},
   "outputs": [
    {
     "data": {
      "image/png": "[encoded data removed]",
      "text/plain": [
       "<Figure size 432x288 with 1 Axes>"
      ]
     },
     "metadata": {
      "needs_background": "light"
     },
     "output_type": "display_data"
    }
   ],
   "source": [
    "# unpivot everything besides the year column\n",
    "ur_tall = ur_wide.melt(id_vars = ['year'], var_name = 'month', value_name = 'unempl_rate')\n",
    "\n",
    "\n",
    "# Create a date column using the month and year columns of ur_tall\n",
    "ur_tall['date'] = pd.to_datetime(ur_tall['year'].astype(str) + '-' + ur_tall['month'].astype(str))\n",
    "\n",
    "# Sort ur_tall by date in ascending order\n",
    "ur_sorted = ur_tall.sort_values('date')\n",
    "\n",
    "# Plot the unempl_rate by date\n",
    "ur_sorted.plot(x = 'date', y = 'unempl_rate')\n",
    "plt.show()"
   ]
  },
  {
   "cell_type": "markdown",
   "metadata": {},
   "source": [
    "# Using .melt() for stocks vs bond performance\n",
    "It is widespread knowledge that the price of bonds is inversely related to the price of stocks. In this last exercise, you'll review many of the topics in this chapter to confirm this. You have been given a table of percent change of the US 10-year treasury bond price. It is in a wide format where there is a separate column for each year. You will need to use the .melt() method to reshape this table.  \n",
    "\n",
    "Additionally, you will use the .query() method to filter out unneeded data. You will merge this table with a table of the percent change of the Dow Jones Industrial stock index price. Finally, you will plot data.  \n",
    "\n",
    "The tables ten_yr and dji have been loaded for you.  \n",
    "\n",
    "Use .melt() on ten_yr to unpivot everything except the metric column, setting var_name='date' and value_name='close'. Save the result to bond_perc.  \n",
    "Using the .query() method, select only those rows were metric equals 'close', and save to bond_perc_close.  \n",
    "Use merge_ordered() to merge dji (left table) and bond_perc_close on date with an inner join, and set suffixes equal to ('_dow', '_bond'). Save the result to dow_bond.  \n",
    "Using dow_bond, plot only the Dow and bond values.  "
   ]
  },
  {
   "cell_type": "code",
   "execution_count": 108,
   "metadata": {},
   "outputs": [],
   "source": [
    "ten_yr = pd.read_csv('ten_yr.csv')\n",
    "dji = pd.read_csv('dji.csv')"
   ]
  },
  {
   "cell_type": "code",
   "execution_count": 114,
   "metadata": {},
   "outputs": [
    {
     "data": {
      "image/png": "[encoded data removed]",
      "text/plain": [
       "<Figure size 432x288 with 1 Axes>"
      ]
     },
     "metadata": {
      "needs_background": "light"
     },
     "output_type": "display_data"
    }
   ],
   "source": [
    "# Use melt on ten_yr, unpivot everything besides the metric column\n",
    "bond_perc = ten_yr.melt(id_vars = ['metric'], var_name = ['date'], value_name = 'close')\n",
    "\n",
    "# Use query on bond_perc to select only the rows where metric=close\n",
    "bond_perc_close = bond_perc.query('metric == \"close\"')\n",
    "\n",
    "\n",
    "# Merge (ordered) dji and bond_perc_close on date with an inner join\n",
    "dow_bond = pd.merge_ordered(dji, bond_perc_close, on = 'date', how = 'inner', suffixes = ['_dow', '_bond'] )\n",
    "\n",
    "\n",
    "# Plot only the close_dow and close_bond columns\n",
    "dow_bond.plot(y = ['close_dow', 'close_bond'], x = 'date' , rot=90)\n",
    "plt.show()"
   ]
  },
  {
   "cell_type": "markdown",
   "metadata": {},
   "source": [
    "The plot confirms that the bond and stock prices are inversely correlated. Often as the price of stocks increases, the price for bonds decreases."
   ]
  }
 ],
 "metadata": {
  "interpreter": {
   "hash": "916dbcbb3f70747c44a77c7bcd40155683ae19c65e1c03b4aa3499c5328201f1"
  },
  "kernelspec": {
   "display_name": "Python 3.8.10 64-bit",
   "language": "python",
   "name": "python3"
  },
  "language_info": {
   "codemirror_mode": {
    "name": "ipython",
    "version": 3
   },
   "file_extension": ".py",
   "mimetype": "text/x-python",
   "name": "python",
   "nbconvert_exporter": "python",
   "pygments_lexer": "ipython3",
   "version": "3.8.10"
  },
  "orig_nbformat": 4
 },
 "nbformat": 4,
 "nbformat_minor": 2
}
