{
 "cells": [
  {
   "cell_type": "markdown",
   "metadata": {},
   "source": [
    "# Plot Style\n",
    "plt.style.use(\"ggplot\")  \n",
    "\n",
    "## Return to default\n",
    "plt.style.use(\"default\")  \n",
    "https://matplotlib.org/gallery/style_sheets/style_sheets_reference.html"
   ]
  },
  {
   "cell_type": "markdown",
   "metadata": {},
   "source": [
    "plt.style.use(\"bmh\")  \n",
    "plt.style.use(\"seaborn-colorblind\")  "
   ]
  },
  {
   "cell_type": "markdown",
   "metadata": {},
   "source": [
    "# Guidelines for choosing plotting style\n",
    "- Dark backgrounds are usually less visible\n",
    "- If color is important, consider choosing colorblind-friendly options\n",
    "- \"seaborn-colorblind\" or \"tableau-colorblind10\"\n",
    "- If you think that someone will want to print your figure, use less ink\n",
    "- If it will be printed in black-and-white, use the \"grayscale\" style\n"
   ]
  },
  {
   "cell_type": "markdown",
   "metadata": {},
   "source": [
    "# Exercise\n",
    "\n",
    "## Switching between styles\n",
    "Selecting a style to use affects all of the visualizations that are created after this style is selected.  \n",
    "\n",
    "Here, you will practice plotting data in two different styles. The data you will use is the same weather data we used in the first lesson: you will have available to you the DataFrame seattle_weather and the DataFrame austin_weather, both with records of the average temperature in every month.  \n",
    " \n",
    "Instructions 1/2  \n",
    "50 XP  \n",
    "1  \n",
    "Select the 'ggplot' style, create a new Figure called fig, and a new Axes object called ax with plt.subplots.\n",
    "Select the 'Solarize_Light2' style, create a new Figure called fig, and a new Axes object called ax with plt.subplots.    "
   ]
  },
  {
   "cell_type": "code",
   "execution_count": null,
   "metadata": {},
   "outputs": [],
   "source": [
    "# Use the \"ggplot\" style and create new Figure/Axes\n",
    "plt.style.use(\"ggplot\")\n",
    "fig, ax = plt.subplots()\n",
    "ax.plot(seattle_weather[\"MONTH\"], seattle_weather[\"MLY-TAVG-NORMAL\"])\n",
    "plt.show()"
   ]
  },
  {
   "cell_type": "code",
   "execution_count": null,
   "metadata": {},
   "outputs": [],
   "source": [
    "# Use the \"Solarize_Light2\" style and create new Figure/Axes\n",
    "plt.style.use(\"Solarize_Light2\")\n",
    "fig, ax = plt.subplots()\n",
    "ax.plot(austin_weather[\"MONTH\"], austin_weather[\"MLY-TAVG-NORMAL\"])\n",
    "plt.show()"
   ]
  },
  {
   "cell_type": "markdown",
   "metadata": {},
   "source": [
    "# Saving figures\n",
    "fig.savefig(\"gold_medals.png\")   \n",
    "fig.savefig(\"gold_medals.jpg\")  \n",
    "fig.savefig(\"gold_medals.jpg\", quality=50)  \n",
    "fig.savefig(\"gold_medals.svg\")  \n"
   ]
  },
  {
   "cell_type": "markdown",
   "metadata": {},
   "source": [
    "# Resolution\n",
    "fig.savefig(\"gold_medals.png\", dpi=300)\n"
   ]
  },
  {
   "cell_type": "markdown",
   "metadata": {},
   "source": [
    "# Size\n",
    "fig.set_size_inches([5, 3])\n"
   ]
  },
  {
   "cell_type": "markdown",
   "metadata": {},
   "source": [
    "## Bar-chart of heights for all sports\n",
    "fig, ax = plt.subplots()\n",
    "for sport in sports:\n",
    "sport_df = summer_2016_medals[summer_2016_medals[\"Sport\"] == sport]\n",
    "ax.bar(sport, sport_df[\"Height\"].mean(),yerr=sport_df[\"Height\"].std())"
   ]
  },
  {
   "cell_type": "markdown",
   "metadata": {},
   "source": [
    "# Getting unique values of a column\n",
    "sports = summer_2016_medals[\"Sport\"].unique()\n",
    "print(sports)"
   ]
  },
  {
   "cell_type": "markdown",
   "metadata": {},
   "source": [
    "# Exercise\n",
    "\n",
    "## Unique values of a column\n",
    "One of the main strengths of Matplotlib is that it can be automated to adapt to the data that it receives as input. For example, if you receive data that has an unknown number of categories, you can still create a bar plot that has bars for each category.  \n",
    "\n",
    "In this exercise and the next, you will be visualizing the weight of medals in the 2016 summer Olympic Games again, from a dataset that has some unknown number of branches of sports in it. This will be loaded into memory as a Pandas DataFrame object called summer_2016_medals, which has a column called \"Sport\" that tells you to which branch of sport each row corresponds. There is also a \"Weight\" column that tells you the weight of each athlete.  \n",
    "\n",
    "In this exercise, we will extract the unique values of the \"Sport\" column  \n",
    "\n",
    "Instructions  \n",
    "100 XP  \n",
    "Create a variable called sports_column that holds the data from the \"Sport\" column of the DataFrame object.  \n",
    "Use the unique method of this variable to find all the unique different sports that are present in this data, and assign these values into a new variable called sports.  \n",
    "Print the sports variable to the console.  "
   ]
  },
  {
   "cell_type": "code",
   "execution_count": null,
   "metadata": {},
   "outputs": [],
   "source": [
    "# Extract the \"Sport\" column\n",
    "sports_column = summer_2016_medals[\"Sport\"]\n",
    "\n",
    "# Find the unique values of the \"Sport\" column\n",
    "sports = sports_column.unique()\n",
    "\n",
    "# Print out the unique sports values\n",
    "print(sports)"
   ]
  },
  {
   "cell_type": "markdown",
   "metadata": {},
   "source": [
    "# Automate your visualization\n",
    "One of the main strengths of Matplotlib is that it can be automated to adapt to the data that it receives as input. For example, if you receive data that has an unknown number of categories, you can still create a bar plot that has bars for each category.  \n",
    "\n",
    "This is what you will do in this exercise. You will be visualizing data about medal winners in the 2016 summer Olympic Games again, but this time you will have a dataset that has some unknown number of branches of sports in it. This will be loaded into memory as a Pandas DataFrame object called summer_2016_medals, which has a column called \"Sport\" that tells you to which branch of sport each row corresponds. There is also a \"Weight\" column that tells you the weight of each athlete.  \n",
    "\n",
    "Instructions  \n",
    "100 XP  \n",
    "Iterate over the values of sports setting sport as your loop variable.  \n",
    "In each iteration, extract the rows where the \"Sport\" column is equal to sport.  \n",
    "Add a bar to the provided ax object, labeled with the sport name, with the mean of the \"Weight\" column as its height, and the standard deviation as a y-axis error bar.  \n",
    "Save the figure into the file \"sports_weights.png\".  "
   ]
  },
  {
   "cell_type": "code",
   "execution_count": null,
   "metadata": {},
   "outputs": [],
   "source": [
    "fig, ax = plt.subplots()\n",
    "\n",
    "# Loop over the different sports branches\n",
    "for sport in sports:\n",
    "  # Extract the rows only for this sport\n",
    "  sport_df = summer_2016_medals[summer_2016_medals[\"Sport\"] == sport]\n",
    "  # Add a bar for the \"Weight\" mean with std y error bar\n",
    "  ax.bar(sport, sport_df[\"Weight\"].mean(), yerr=sport_df[\"Weight\"].std())\n",
    "\n",
    "ax.set_ylabel(\"Weight\")\n",
    "ax.set_xticklabels(sports, rotation=90)\n",
    "\n",
    "# Save the figure to file\n",
    "fig.savefig(\"sports_weights.png\")"
   ]
  }
 ],
 "metadata": {
  "language_info": {
   "name": "python"
  },
  "orig_nbformat": 4
 },
 "nbformat": 4,
 "nbformat_minor": 2
}
