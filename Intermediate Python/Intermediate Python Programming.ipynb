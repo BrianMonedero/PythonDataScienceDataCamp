{
 "cells": [
  {
   "cell_type": "markdown",
   "metadata": {},
   "source": [
    "#  <center> __Datacamp Data Scientist with Python__</center>\n",
    "\n",
    "## <center>__Intermediate Python Programming__</center>\n",
    "\n",
    "### <center>__Authored by Brian Ricardo Monedero__</center>\n",
    "\n",
    "### <center>__Business Intelligence Manager, MBA, CSM, CSPO__</center>"
   ]
  }
 ],
 "metadata": {
  "interpreter": {
   "hash": "b3ba2566441a7c06988d0923437866b63cedc61552a5af99d1f4fb67d367b25f"
  },
  "kernelspec": {
   "display_name": "Python 3.8.8 64-bit ('base': conda)",
   "name": "python3"
  },
  "language_info": {
   "codemirror_mode": {
    "name": "ipython",
    "version": 3
   },
   "file_extension": ".py",
   "mimetype": "text/x-python",
   "name": "python",
   "nbconvert_exporter": "python",
   "pygments_lexer": "ipython3",
   "version": "3.8.8"
  },
  "orig_nbformat": 4
 },
 "nbformat": 4,
 "nbformat_minor": 2
}
