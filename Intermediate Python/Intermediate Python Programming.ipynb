{
 "cells": [
  {
   "cell_type": "markdown",
   "metadata": {},
   "source": [
    "#  <center> __Datacamp Data Scientist with Python__</center>\n",
    "\n",
    "## <center>__Intermediate Python Programming__</center>\n",
    "\n",
    "### <center>__Authored by Brian Ricardo Monedero__</center>\n",
    "\n",
    "### <center>__Business Intelligence Manager, MBA, CSM, CSPO__</center>"
   ]
  },
  {
   "cell_type": "markdown",
   "metadata": {},
   "source": [
    "# Matplotlib"
   ]
  },
  {
   "cell_type": "code",
   "execution_count": 19,
   "metadata": {},
   "outputs": [
    {
     "data": {
      "image/png": "[encoded data removed]",
      "text/plain": [
       "<Figure size 432x288 with 1 Axes>"
      ]
     },
     "metadata": {
      "needs_background": "light"
     },
     "output_type": "display_data"
    }
   ],
   "source": [
    "import matplotlib.pyplot as plt\n",
    "year = [1950, 1970, 1990, 2010]\n",
    "pop = [2.519, 3.692, 5.263, 6.972]\n",
    "plt.plot(year, pop)\n",
    "plt.show()\n"
   ]
  },
  {
   "cell_type": "code",
   "execution_count": 20,
   "metadata": {},
   "outputs": [
    {
     "data": {
      "image/png": "[encoded data removed]",
      "text/plain": [
       "<Figure size 432x288 with 1 Axes>"
      ]
     },
     "metadata": {
      "needs_background": "light"
     },
     "output_type": "display_data"
    }
   ],
   "source": [
    "plt.scatter(year, pop)\n",
    "plt.show()"
   ]
  },
  {
   "cell_type": "markdown",
   "metadata": {},
   "source": [
    "# Getting Started with Line Plots\n",
    "\n",
    "print() the last item from both the year and the pop list to see what the predicted population for the year 2100 is. Use two print() functions.\n",
    "Before you can start, you should import matplotlib.pyplot as plt. pyplot is a sub-package of matplotlib, hence the dot.\n",
    "Use plt.plot() to build a line plot. year should be mapped on the horizontal axis, pop on the vertical axis. Don't forget to finish off with the show() function to actually display the plot."
   ]
  },
  {
   "cell_type": "code",
   "execution_count": 21,
   "metadata": {},
   "outputs": [
    {
     "name": "stdout",
     "output_type": "stream",
     "text": [
      "2010\n",
      "6.972\n"
     ]
    },
    {
     "data": {
      "image/png": "[encoded data removed]",
      "text/plain": [
       "<Figure size 432x288 with 1 Axes>"
      ]
     },
     "metadata": {
      "needs_background": "light"
     },
     "output_type": "display_data"
    }
   ],
   "source": [
    "# Print the last item from year and pop\n",
    "print(year[-1])\n",
    "print(pop[-1])\n",
    "\n",
    "\n",
    "# Import matplotlib.pyplot as plt\n",
    "import matplotlib.pyplot as plt\n",
    "\n",
    "# Make a line plot: year on the x-axis, pop on the y-axis\n",
    "plt.plot(year, pop)\n",
    "\n",
    "# Display the plot with plt.show()\n",
    "plt.show()"
   ]
  },
  {
   "cell_type": "markdown",
   "metadata": {},
   "source": [
    "## Building the datasets\n",
    "\n",
    "Creating the list data"
   ]
  },
  {
   "cell_type": "code",
   "execution_count": 22,
   "metadata": {},
   "outputs": [],
   "source": [
    "gdp_cap = [974.5803384,\n",
    "    5937.029525999998,\n",
    "    6223.367465,\n",
    "    4797.231267,\n",
    "    12779.37964,\n",
    "    34435.367439999995,\n",
    "    36126.4927,\n",
    "    29796.04834,\n",
    "    1391.253792,\n",
    "    33692.60508,\n",
    "    1441.284873,\n",
    "    3822.137084,\n",
    "    7446.298803,\n",
    "    12569.85177,\n",
    "    9065.800825,\n",
    "    10680.79282,\n",
    "    1217.032994,\n",
    "    430.0706916,\n",
    "    1713.778686,\n",
    "    2042.09524,\n",
    "    36319.23501,\n",
    "    706.016537,\n",
    "    1704.063724,\n",
    "    13171.63885,\n",
    "    4959.114854,\n",
    "    7006.580419,\n",
    "    986.1478792,\n",
    "    277.5518587,\n",
    "    3632.557798,\n",
    "    9645.06142,\n",
    "    1544.750112,\n",
    "    14619.222719999998,\n",
    "    8948.102923,\n",
    "    22833.30851,\n",
    "    35278.41874,\n",
    "    2082.4815670000007,\n",
    "    6025.3747520000015,\n",
    "    6873.262326000001,\n",
    "    5581.180998,\n",
    "    5728.353514,\n",
    "    12154.08975,\n",
    "    641.3695236000002,\n",
    "    690.8055759,\n",
    "    33207.0844,\n",
    "    30470.0167,\n",
    "    13206.48452,\n",
    "    752.7497265,\n",
    "    32170.37442,\n",
    "    1327.60891,\n",
    "    27538.41188,\n",
    "    5186.050003,\n",
    "    942.6542111,\n",
    "    579.2317429999998,\n",
    "    1201.637154,\n",
    "    3548.3308460000007,\n",
    "    39724.97867,\n",
    "    18008.94444,\n",
    "    36180.78919,\n",
    "    2452.210407,\n",
    "    3540.651564,\n",
    "    11605.71449,\n",
    "    4471.061906,\n",
    "    40675.99635,\n",
    "    25523.2771,\n",
    "    28569.7197,\n",
    "    7320.8802620000015,\n",
    "    31656.06806,\n",
    "    4519.461171,\n",
    "    1463.249282,\n",
    "    1593.06548,\n",
    "    23348.139730000006,\n",
    "    47306.98978,\n",
    "    10461.05868,\n",
    "    1569.331442,\n",
    "    414.5073415,\n",
    "    12057.49928,\n",
    "    1044.770126,\n",
    "    759.3499101,\n",
    "    12451.6558,\n",
    "    1042.581557,\n",
    "    1803.151496,\n",
    "    10956.99112,\n",
    "    11977.57496,\n",
    "    3095.7722710000007,\n",
    "    9253.896111,\n",
    "    3820.17523,\n",
    "    823.6856205,\n",
    "    944.0,\n",
    "    4811.060429,\n",
    "    1091.359778,\n",
    "    36797.93332,\n",
    "    25185.00911,\n",
    "    2749.320965,\n",
    "    619.6768923999998,\n",
    "    2013.977305,\n",
    "    49357.19017,\n",
    "    22316.19287,\n",
    "    2605.94758,\n",
    "    9809.185636,\n",
    "    4172.838464,\n",
    "    7408.905561,\n",
    "    3190.481016,\n",
    "    15389.924680000002,\n",
    "    20509.64777,\n",
    "    19328.70901,\n",
    "    7670.122558,\n",
    "    10808.47561,\n",
    "    863.0884639000002,\n",
    "    1598.435089,\n",
    "    21654.83194,\n",
    "    1712.472136,\n",
    "    9786.534714,\n",
    "    862.5407561000002,\n",
    "    47143.17964,\n",
    "    18678.31435,\n",
    "    25768.25759,\n",
    "    926.1410683,\n",
    "    9269.657808,\n",
    "    28821.0637,\n",
    "    3970.095407,\n",
    "    2602.394995,\n",
    "    4513.480643,\n",
    "    33859.74835,\n",
    "    37506.41907,\n",
    "    4184.548089,\n",
    "    28718.27684,\n",
    "    1107.482182,\n",
    "    7458.396326999998,\n",
    "    882.9699437999999,\n",
    "    18008.50924,\n",
    "    7092.923025,\n",
    "    8458.276384,\n",
    "    1056.380121,\n",
    "    33203.26128,\n",
    "    42951.65309,\n",
    "    10611.46299,\n",
    "    11415.80569,\n",
    "    2441.576404,\n",
    "    3025.349798,\n",
    "    2280.769906,\n",
    "    1271.211593,\n",
    "    469.70929810000007]\n",
    "life_exp = [43.828,\n",
    "    76.423,\n",
    "    72.301,\n",
    "    42.731,\n",
    "    75.32,\n",
    "    81.235,\n",
    "    79.829,\n",
    "    75.635,\n",
    "    64.062,\n",
    "    79.441,\n",
    "    56.728,\n",
    "    65.554,\n",
    "    74.852,\n",
    "    50.728,\n",
    "    72.39,\n",
    "    73.005,\n",
    "    52.295,\n",
    "    49.58,\n",
    "    59.723,\n",
    "    50.43,\n",
    "    80.653,\n",
    "    44.74100000000001,\n",
    "    50.651,\n",
    "    78.553,\n",
    "    72.961,\n",
    "    72.889,\n",
    "    65.152,\n",
    "    46.462,\n",
    "    55.322,\n",
    "    78.782,\n",
    "    48.328,\n",
    "    75.748,\n",
    "    78.273,\n",
    "    76.486,\n",
    "    78.332,\n",
    "    54.791,\n",
    "    72.235,\n",
    "    74.994,\n",
    "    71.33800000000002,\n",
    "    71.878,\n",
    "    51.57899999999999,\n",
    "    58.04,\n",
    "    52.947,\n",
    "    79.313,\n",
    "    80.657,\n",
    "    56.735,\n",
    "    59.448,\n",
    "    79.406,\n",
    "    60.022,\n",
    "    79.483,\n",
    "    70.259,\n",
    "    56.007,\n",
    "    46.38800000000001,\n",
    "    60.916,\n",
    "    70.19800000000001,\n",
    "    82.208,\n",
    "    73.33800000000002,\n",
    "    81.757,\n",
    "    64.69800000000001,\n",
    "    70.65,\n",
    "    70.964,\n",
    "    59.545,\n",
    "    78.885,\n",
    "    80.745,\n",
    "    80.546,\n",
    "    72.567,\n",
    "    82.603,\n",
    "    72.535,\n",
    "    54.11,\n",
    "    67.297,\n",
    "    78.623,\n",
    "    77.58800000000002,\n",
    "    71.993,\n",
    "    42.592,\n",
    "    45.678,\n",
    "    73.952,\n",
    "    59.44300000000001,\n",
    "    48.303,\n",
    "    74.241,\n",
    "    54.467,\n",
    "    64.164,\n",
    "    72.801,\n",
    "    76.195,\n",
    "    66.803,\n",
    "    74.543,\n",
    "    71.164,\n",
    "    42.082,\n",
    "    62.069,\n",
    "    52.90600000000001,\n",
    "    63.785,\n",
    "    79.762,\n",
    "    80.204,\n",
    "    72.899,\n",
    "    56.867,\n",
    "    46.859,\n",
    "    80.196,\n",
    "    75.64,\n",
    "    65.483,\n",
    "    75.53699999999998,\n",
    "    71.752,\n",
    "    71.421,\n",
    "    71.688,\n",
    "    75.563,\n",
    "    78.098,\n",
    "    78.74600000000002,\n",
    "    76.442,\n",
    "    72.476,\n",
    "    46.242,\n",
    "    65.528,\n",
    "    72.777,\n",
    "    63.062,\n",
    "    74.002,\n",
    "    42.56800000000001,\n",
    "    79.972,\n",
    "    74.663,\n",
    "    77.926,\n",
    "    48.159,\n",
    "    49.339,\n",
    "    80.941,\n",
    "    72.396,\n",
    "    58.556,\n",
    "    39.613,\n",
    "    80.884,\n",
    "    81.70100000000002,\n",
    "    74.143,\n",
    "    78.4,\n",
    "    52.517,\n",
    "    70.616,\n",
    "    58.42,\n",
    "    69.819,\n",
    "    73.923,\n",
    "    71.777,\n",
    "    51.542,\n",
    "    79.425,\n",
    "    78.242,\n",
    "    76.384,\n",
    "    73.747,\n",
    "    74.249,\n",
    "    73.422,\n",
    "    62.698,\n",
    "    42.38399999999999,\n",
    "    43.487]\n",
    "\n",
    "pop = [31.889923,\n",
    "    3.600523,\n",
    "    33.333216,\n",
    "    12.420476,\n",
    "    40.301927,\n",
    "    20.434176,\n",
    "    8.199783,\n",
    "    0.708573,\n",
    "    150.448339,\n",
    "    10.392226,\n",
    "    8.078314,\n",
    "    9.119152,\n",
    "    4.552198,\n",
    "    1.639131,\n",
    "    190.010647,\n",
    "    7.322858,\n",
    "    14.326203,\n",
    "    8.390505,\n",
    "    14.131858,\n",
    "    17.696293,\n",
    "    33.390141,\n",
    "    4.369038,\n",
    "    10.238807,\n",
    "    16.284741,\n",
    "    1318.683096,\n",
    "    44.22755,\n",
    "    0.71096,\n",
    "    64.606759,\n",
    "    3.80061,\n",
    "    4.133884,\n",
    "    18.013409,\n",
    "    4.493312,\n",
    "    11.416987,\n",
    "    10.228744,\n",
    "    5.46812,\n",
    "    0.496374,\n",
    "    9.319622,\n",
    "    13.75568,\n",
    "    80.264543,\n",
    "    6.939688,\n",
    "    0.551201,\n",
    "    4.906585,\n",
    "    76.511887,\n",
    "    5.23846,\n",
    "    61.083916,\n",
    "    1.454867,\n",
    "    1.688359,\n",
    "    82.400996,\n",
    "    22.873338,\n",
    "    10.70629,\n",
    "    12.572928,\n",
    "    9.947814,\n",
    "    1.472041,\n",
    "    8.502814,\n",
    "    7.483763,\n",
    "    6.980412,\n",
    "    9.956108,\n",
    "    0.301931,\n",
    "    1110.396331,\n",
    "    223.547,\n",
    "    69.45357,\n",
    "    27.499638,\n",
    "    4.109086,\n",
    "    6.426679,\n",
    "    58.147733,\n",
    "    2.780132,\n",
    "    127.467972,\n",
    "    6.053193,\n",
    "    35.610177,\n",
    "    23.301725,\n",
    "    49.04479,\n",
    "    2.505559,\n",
    "    3.921278,\n",
    "    2.012649,\n",
    "    3.193942,\n",
    "    6.036914,\n",
    "    19.167654,\n",
    "    13.327079,\n",
    "    24.821286,\n",
    "    12.031795,\n",
    "    3.270065,\n",
    "    1.250882,\n",
    "    108.700891,\n",
    "    2.874127,\n",
    "    0.684736,\n",
    "    33.757175,\n",
    "    19.951656,\n",
    "    47.76198,\n",
    "    2.05508,\n",
    "    28.90179,\n",
    "    16.570613,\n",
    "    4.115771,\n",
    "    5.675356,\n",
    "    12.894865,\n",
    "    135.031164,\n",
    "    4.627926,\n",
    "    3.204897,\n",
    "    169.270617,\n",
    "    3.242173,\n",
    "    6.667147,\n",
    "    28.674757,\n",
    "    91.077287,\n",
    "    38.518241,\n",
    "    10.642836,\n",
    "    3.942491,\n",
    "    0.798094,\n",
    "    22.276056,\n",
    "    8.860588,\n",
    "    0.199579,\n",
    "    27.601038,\n",
    "    12.267493,\n",
    "    10.150265,\n",
    "    6.144562,\n",
    "    4.553009,\n",
    "    5.447502,\n",
    "    2.009245,\n",
    "    9.118773,\n",
    "    43.997828,\n",
    "    40.448191,\n",
    "    20.378239,\n",
    "    42.292929,\n",
    "    1.133066,\n",
    "    9.031088,\n",
    "    7.554661,\n",
    "    19.314747,\n",
    "    23.174294,\n",
    "    38.13964,\n",
    "    65.068149,\n",
    "    5.701579,\n",
    "    1.056608,\n",
    "    10.276158,\n",
    "    71.158647,\n",
    "    29.170398,\n",
    "    60.776238,\n",
    "    301.139947,\n",
    "    3.447496,\n",
    "    26.084662,\n",
    "    85.262356,\n",
    "    4.018332,\n",
    "    22.211743,\n",
    "    11.746035,\n",
    "    12.311143]\n",
    "\n",
    "life_exp1950 = [28.8,\n",
    "    55.23,\n",
    "    43.08,\n",
    "    30.02,\n",
    "    62.48,\n",
    "    69.12,\n",
    "    66.8,\n",
    "    50.94,\n",
    "    37.48,\n",
    "    68.0,\n",
    "    38.22,\n",
    "    40.41,\n",
    "    53.82,\n",
    "    47.62,\n",
    "    50.92,\n",
    "    59.6,\n",
    "    31.98,\n",
    "    39.03,\n",
    "    39.42,\n",
    "    38.52,\n",
    "    68.75,\n",
    "    35.46,\n",
    "    38.09,\n",
    "    54.74,\n",
    "    44.0,\n",
    "    50.64,\n",
    "    40.72,\n",
    "    39.14,\n",
    "    42.11,\n",
    "    57.21,\n",
    "    40.48,\n",
    "    61.21,\n",
    "    59.42,\n",
    "    66.87,\n",
    "    70.78,\n",
    "    34.81,\n",
    "    45.93,\n",
    "    48.36,\n",
    "    41.89,\n",
    "    45.26,\n",
    "    34.48,\n",
    "    35.93,\n",
    "    34.08,\n",
    "    66.55,\n",
    "    67.41,\n",
    "    37.0,\n",
    "    30.0,\n",
    "    67.5,\n",
    "    43.15,\n",
    "    65.86,\n",
    "    42.02,\n",
    "    33.61,\n",
    "    32.5,\n",
    "    37.58,\n",
    "    41.91,\n",
    "    60.96,\n",
    "    64.03,\n",
    "    72.49,\n",
    "    37.37,\n",
    "    37.47,\n",
    "    44.87,\n",
    "    45.32,\n",
    "    66.91,\n",
    "    65.39,\n",
    "    65.94,\n",
    "    58.53,\n",
    "    63.03,\n",
    "    43.16,\n",
    "    42.27,\n",
    "    50.06,\n",
    "    47.45,\n",
    "    55.56,\n",
    "    55.93,\n",
    "    42.14,\n",
    "    38.48,\n",
    "    42.72,\n",
    "    36.68,\n",
    "    36.26,\n",
    "    48.46,\n",
    "    33.68,\n",
    "    40.54,\n",
    "    50.99,\n",
    "    50.79,\n",
    "    42.24,\n",
    "    59.16,\n",
    "    42.87,\n",
    "    31.29,\n",
    "    36.32,\n",
    "    41.72,\n",
    "    36.16,\n",
    "    72.13,\n",
    "    69.39,\n",
    "    42.31,\n",
    "    37.44,\n",
    "    36.32,\n",
    "    72.67,\n",
    "    37.58,\n",
    "    43.44,\n",
    "    55.19,\n",
    "    62.65,\n",
    "    43.9,\n",
    "    47.75,\n",
    "    61.31,\n",
    "    59.82,\n",
    "    64.28,\n",
    "    52.72,\n",
    "    61.05,\n",
    "    40.0,\n",
    "    46.47,\n",
    "    39.88,\n",
    "    37.28,\n",
    "    58.0,\n",
    "    30.33,\n",
    "    60.4,\n",
    "    64.36,\n",
    "    65.57,\n",
    "    32.98,\n",
    "    45.01,\n",
    "    64.94,\n",
    "    57.59,\n",
    "    38.64,\n",
    "    41.41,\n",
    "    71.86,\n",
    "    69.62,\n",
    "    45.88,\n",
    "    58.5,\n",
    "    41.22,\n",
    "    50.85,\n",
    "    38.6,\n",
    "    59.1,\n",
    "    44.6,\n",
    "    43.58,\n",
    "    39.98,\n",
    "    69.18,\n",
    "    68.44,\n",
    "    66.07,\n",
    "    55.09,\n",
    "    40.41,\n",
    "    43.16,\n",
    "    32.55,\n",
    "    42.04,\n",
    "    48.45]\n",
    "\n",
    "col = ['red',\n",
    "    'green',\n",
    "    'blue',\n",
    "    'blue',\n",
    "    'yellow',\n",
    "    'black',\n",
    "    'green',\n",
    "    'red',\n",
    "    'red',\n",
    "    'green',\n",
    "    'blue',\n",
    "    'yellow',\n",
    "    'green',\n",
    "    'blue',\n",
    "    'yellow',\n",
    "    'green',\n",
    "    'blue',\n",
    "    'blue',\n",
    "    'red',\n",
    "    'blue',\n",
    "    'yellow',\n",
    "    'blue',\n",
    "    'blue',\n",
    "    'yellow',\n",
    "    'red',\n",
    "    'yellow',\n",
    "    'blue',\n",
    "    'blue',\n",
    "    'blue',\n",
    "    'yellow',\n",
    "    'blue',\n",
    "    'green',\n",
    "    'yellow',\n",
    "    'green',\n",
    "    'green',\n",
    "    'blue',\n",
    "    'yellow',\n",
    "    'yellow',\n",
    "    'blue',\n",
    "    'yellow',\n",
    "    'blue',\n",
    "    'blue',\n",
    "    'blue',\n",
    "    'green',\n",
    "    'green',\n",
    "    'blue',\n",
    "    'blue',\n",
    "    'green',\n",
    "    'blue',\n",
    "    'green',\n",
    "    'yellow',\n",
    "    'blue',\n",
    "    'blue',\n",
    "    'yellow',\n",
    "    'yellow',\n",
    "    'red',\n",
    "    'green',\n",
    "    'green',\n",
    "    'red',\n",
    "    'red',\n",
    "    'red',\n",
    "    'red',\n",
    "    'green',\n",
    "    'red',\n",
    "    'green',\n",
    "    'yellow',\n",
    "    'red',\n",
    "    'red',\n",
    "    'blue',\n",
    "    'red',\n",
    "    'red',\n",
    "    'red',\n",
    "    'red',\n",
    "    'blue',\n",
    "    'blue',\n",
    "    'blue',\n",
    "    'blue',\n",
    "    'blue',\n",
    "    'red',\n",
    "    'blue',\n",
    "    'blue',\n",
    "    'blue',\n",
    "    'yellow',\n",
    "    'red',\n",
    "    'green',\n",
    "    'blue',\n",
    "    'blue',\n",
    "    'red',\n",
    "    'blue',\n",
    "    'red',\n",
    "    'green',\n",
    "    'black',\n",
    "    'yellow',\n",
    "    'blue',\n",
    "    'blue',\n",
    "    'green',\n",
    "    'red',\n",
    "    'red',\n",
    "    'yellow',\n",
    "    'yellow',\n",
    "    'yellow',\n",
    "    'red',\n",
    "    'green',\n",
    "    'green',\n",
    "    'yellow',\n",
    "    'blue',\n",
    "    'green',\n",
    "    'blue',\n",
    "    'blue',\n",
    "    'red',\n",
    "    'blue',\n",
    "    'green',\n",
    "    'blue',\n",
    "    'red',\n",
    "    'green',\n",
    "    'green',\n",
    "    'blue',\n",
    "    'blue',\n",
    "    'green',\n",
    "    'red',\n",
    "    'blue',\n",
    "    'blue',\n",
    "    'green',\n",
    "    'green',\n",
    "    'red',\n",
    "    'red',\n",
    "    'blue',\n",
    "    'red',\n",
    "    'blue',\n",
    "    'yellow',\n",
    "    'blue',\n",
    "    'green',\n",
    "    'blue',\n",
    "    'green',\n",
    "    'yellow',\n",
    "    'yellow',\n",
    "    'yellow',\n",
    "    'red',\n",
    "    'red',\n",
    "    'red',\n",
    "    'blue',\n",
    "    'blue']"
   ]
  },
  {
   "cell_type": "markdown",
   "metadata": {},
   "source": [
    "## Line Plots Continued\n",
    "\n",
    "Print the last item from both the list gdp_cap, and the list life_exp; it is information about Zimbabwe.\n",
    "Build a line chart, with gdp_cap on the x-axis, and life_exp on the y-axis. Does it make sense to plot this data on a line plot?\n",
    "Don't forget to finish off with a plt.show() command, to actually display the plot."
   ]
  },
  {
   "cell_type": "code",
   "execution_count": 23,
   "metadata": {},
   "outputs": [
    {
     "name": "stdout",
     "output_type": "stream",
     "text": [
      "469.70929810000007\n",
      "43.487\n"
     ]
    },
    {
     "data": {
      "image/png": "[encoded data removed]",
      "text/plain": [
       "<Figure size 432x288 with 1 Axes>"
      ]
     },
     "metadata": {
      "needs_background": "light"
     },
     "output_type": "display_data"
    }
   ],
   "source": [
    "# Print the last item of gdp_cap and life_exp\n",
    "print(gdp_cap[-1])\n",
    "print(life_exp[-1])\n",
    "\n",
    "# Make a line plot, gdp_cap on the x-axis, life_exp on the y-axis\n",
    "plt.plot(gdp_cap, life_exp)\n",
    "\n",
    "# Display the plot\n",
    "plt.show()"
   ]
  },
  {
   "cell_type": "markdown",
   "metadata": {},
   "source": [
    "# Scatter Plots\n",
    "when you're trying to assess if there's a correlation between two variables, for example, the scatter plot is the better choice. \n",
    "\n",
    "Change the line plot that's coded in the script to a scatter plot.\n",
    "A correlation will become clear when you display the GDP per capita on a logarithmic scale. Add the line plt.xscale('log').\n",
    "Finish off your script with plt.show() to display the plot."
   ]
  },
  {
   "cell_type": "code",
   "execution_count": 24,
   "metadata": {},
   "outputs": [
    {
     "data": {
      "image/png": "[encoded data removed]",
      "text/plain": [
       "<Figure size 432x288 with 1 Axes>"
      ]
     },
     "metadata": {
      "needs_background": "light"
     },
     "output_type": "display_data"
    }
   ],
   "source": [
    "# Change the line plot below to a scatter plot\n",
    "plt.scatter(gdp_cap, life_exp)\n",
    "\n",
    "# Put the x-axis on a logarithmic scale\n",
    "plt.xscale('log')\n",
    "\n",
    "# Show plot\n",
    "plt.show()"
   ]
  },
  {
   "cell_type": "markdown",
   "metadata": {},
   "source": [
    "## Scatter Plots Continued\n",
    "\n",
    "Start from scratch: import matplotlib.pyplot as plt.\n",
    "Build a scatter plot, where pop is mapped on the horizontal axis, and life_exp is mapped on the vertical axis.\n",
    "Finish the script with plt.show() to actually display the plot. Do you see a correlation?"
   ]
  },
  {
   "cell_type": "code",
   "execution_count": 25,
   "metadata": {},
   "outputs": [
    {
     "data": {
      "image/png": "[encoded data removed]",
      "text/plain": [
       "<Figure size 432x288 with 1 Axes>"
      ]
     },
     "metadata": {
      "needs_background": "light"
     },
     "output_type": "display_data"
    }
   ],
   "source": [
    "# Import package\n",
    "import matplotlib.pyplot as plt\n",
    "\n",
    "# Build Scatter plot\n",
    "plt.scatter(pop, life_exp)\n",
    "\n",
    "# Show plot\n",
    "plt.show()\n"
   ]
  },
  {
   "cell_type": "markdown",
   "metadata": {},
   "source": [
    "# Understanding Histograms\n",
    "\n",
    "- Explores dataset\n",
    "- Information about distribution of data in 'bins'"
   ]
  },
  {
   "cell_type": "code",
   "execution_count": 26,
   "metadata": {},
   "outputs": [
    {
     "data": {
      "image/png": "[encoded data removed]",
      "text/plain": [
       "<Figure size 432x288 with 1 Axes>"
      ]
     },
     "metadata": {
      "needs_background": "light"
     },
     "output_type": "display_data"
    }
   ],
   "source": [
    "values = [0,0.6,1.4,1.6,2.2,2.5,2.6,3.2,3.5,3.9,4.2,6]\n",
    "plt.hist(values, bins=3)\n",
    "plt.show()"
   ]
  },
  {
   "cell_type": "markdown",
   "metadata": {},
   "source": [
    "## Building a histogram\n",
    "\n",
    "Use plt.hist() to create a histogram of the values in life_exp. Do not specify the number of bins; Python will set the number of bins to 10 by default for you.\n",
    "Add plt.show() to actually display the histogram. Can you tell which bin contains the most observations?"
   ]
  },
  {
   "cell_type": "code",
   "execution_count": 27,
   "metadata": {},
   "outputs": [
    {
     "data": {
      "image/png": "[encoded data removed]",
      "text/plain": [
       "<Figure size 432x288 with 1 Axes>"
      ]
     },
     "metadata": {
      "needs_background": "light"
     },
     "output_type": "display_data"
    }
   ],
   "source": [
    "# Create histogram of life_exp data\n",
    "plt.hist(life_exp)\n",
    "\n",
    "# Display histogram\n",
    "plt.show()"
   ]
  },
  {
   "cell_type": "markdown",
   "metadata": {},
   "source": [
    "## Building More Histograms\n",
    "\n",
    "Build a histogram of life_exp, with 5 bins. Can you tell which bin contains the most observations?\n",
    "Build another histogram of life_exp, this time with 20 bins. Is this better?"
   ]
  },
  {
   "cell_type": "code",
   "execution_count": 28,
   "metadata": {},
   "outputs": [
    {
     "data": {
      "image/png": "[encoded data removed]",
      "text/plain": [
       "<Figure size 432x288 with 1 Axes>"
      ]
     },
     "metadata": {
      "needs_background": "light"
     },
     "output_type": "display_data"
    },
    {
     "data": {
      "image/png": "[encoded data removed]",
      "text/plain": [
       "<Figure size 432x288 with 1 Axes>"
      ]
     },
     "metadata": {
      "needs_background": "light"
     },
     "output_type": "display_data"
    },
    {
     "data": {
      "text/plain": [
       "<Figure size 432x288 with 0 Axes>"
      ]
     },
     "metadata": {},
     "output_type": "display_data"
    }
   ],
   "source": [
    "# Build histogram with 5 bins\n",
    "plt.hist(life_exp, bins = 5)\n",
    "\n",
    "# Show and clean up plot\n",
    "plt.show()\n",
    "plt.clf()\n",
    "\n",
    "# Build histogram with 20 bins\n",
    "plt.hist(life_exp, bins = 20)\n",
    "\n",
    "# Show and clean up again\n",
    "plt.show()\n",
    "plt.clf()"
   ]
  },
  {
   "cell_type": "markdown",
   "metadata": {},
   "source": [
    "## Comparing Histograms\n",
    "Build a histogram of life_exp with 15 bins.\n",
    "Build a histogram of life_exp1950, also with 15 bins. Is there a big difference with the histogram for the 2007 data?"
   ]
  },
  {
   "cell_type": "code",
   "execution_count": 29,
   "metadata": {},
   "outputs": [
    {
     "data": {
      "image/png": "[encoded data removed]",
      "text/plain": [
       "<Figure size 432x288 with 1 Axes>"
      ]
     },
     "metadata": {
      "needs_background": "light"
     },
     "output_type": "display_data"
    },
    {
     "data": {
      "image/png": "[encoded data removed]",
      "text/plain": [
       "<Figure size 432x288 with 1 Axes>"
      ]
     },
     "metadata": {
      "needs_background": "light"
     },
     "output_type": "display_data"
    },
    {
     "data": {
      "text/plain": [
       "<Figure size 432x288 with 0 Axes>"
      ]
     },
     "metadata": {},
     "output_type": "display_data"
    }
   ],
   "source": [
    "# Histogram of life_exp, 15 bins\n",
    "plt.hist(life_exp, bins = 15)\n",
    "\n",
    "# Show and clear plot\n",
    "plt.show()\n",
    "plt.clf()\n",
    "\n",
    "# Histogram of life_exp1950, 15 bins\n",
    "plt.hist(life_exp1950, bins = 15)\n",
    "\n",
    "# Show and clear plot again\n",
    "plt.show()\n",
    "plt.clf()"
   ]
  },
  {
   "cell_type": "markdown",
   "metadata": {},
   "source": [
    "# Customizing the Visuals\n",
    "\n",
    "- Different plot types offer different but many options to change\n",
    "  - Fonts, colors, sizes, etc.\n",
    "  - plt.xlabel('Year')\n",
    "  - plt.ylabel('Population')\n",
    "  - plt.title('World Population Projections')\n",
    "  - plt.yticks([0, 2, 4, 6, 8, 10],\n",
    "    ['0','2B','4B','6B','8B','10B'])\n",
    "\n",
    "The strings xlab and ylab are already set for you. Use these variables to set the label of the x- and y-axis.\n",
    "The string title is also coded for you. Use it to add a title to the plot.\n",
    "After these customizations, finish the script with plt.show() to actually display the plot."
   ]
  },
  {
   "cell_type": "code",
   "execution_count": 30,
   "metadata": {},
   "outputs": [
    {
     "data": {
      "image/png": "[encoded data removed]",
      "text/plain": [
       "<Figure size 432x288 with 1 Axes>"
      ]
     },
     "metadata": {
      "needs_background": "light"
     },
     "output_type": "display_data"
    }
   ],
   "source": [
    "# Basic scatter plot, log scale\n",
    "plt.scatter(gdp_cap, life_exp)\n",
    "plt.xscale('log') \n",
    "\n",
    "# Strings\n",
    "xlab = 'GDP per Capita [in USD]'\n",
    "ylab = 'Life Expectancy [in years]'\n",
    "title = 'World Development in 2007'\n",
    "\n",
    "# Add axis labels\n",
    "plt.xlabel(xlab)\n",
    "plt.ylabel(ylab)\n",
    "\n",
    "\n",
    "# Add title\n",
    "plt.title(title)\n",
    "\n",
    "# After customizing, display the plot\n",
    "plt.show()"
   ]
  },
  {
   "cell_type": "markdown",
   "metadata": {},
   "source": [
    "## Customizing the Tick Marks\n",
    "\n",
    "Use tick_val and tick_lab as inputs to the xticks() function to make the the plot more readable.\n",
    "As usual, display the plot with plt.show() after you've added the customizations."
   ]
  },
  {
   "cell_type": "code",
   "execution_count": 31,
   "metadata": {},
   "outputs": [
    {
     "data": {
      "image/png": "[encoded data removed]",
      "text/plain": [
       "<Figure size 432x288 with 1 Axes>"
      ]
     },
     "metadata": {
      "needs_background": "light"
     },
     "output_type": "display_data"
    }
   ],
   "source": [
    "# Scatter plot\n",
    "plt.scatter(gdp_cap, life_exp)\n",
    "\n",
    "# Previous customizations\n",
    "plt.xscale('log') \n",
    "plt.xlabel('GDP per Capita [in USD]')\n",
    "plt.ylabel('Life Expectancy [in years]')\n",
    "plt.title('World Development in 2007')\n",
    "\n",
    "# Definition of tick_val and tick_lab\n",
    "tick_val = [1000, 10000, 100000]\n",
    "tick_lab = ['1k', '10k', '100k']\n",
    "\n",
    "# Adapt the ticks on the x-axis\n",
    "plt.xticks(tick_val, tick_lab)\n",
    "\n",
    "# After customizing, display the plot\n",
    "plt.show()"
   ]
  },
  {
   "cell_type": "markdown",
   "metadata": {},
   "source": [
    "## Managing Sizes of Plot Points\n",
    "\n",
    "Run the script to see how the plot changes.\n",
    "Looks good, but increasing the size of the bubbles will make things stand out more.\n",
    "Import the numpy package as np.\n",
    "Use np.array() to create a numpy array from the list pop. Call this Numpy array np_pop.\n",
    "Double the values in np_pop setting the value of np_pop equal to np_pop * 2. Because np_pop is a Numpy array, each array element will be doubled.\n",
    "Change the s argument inside plt.scatter() to be np_pop instead of pop.\n",
    "\n",
    "s argument controls the size"
   ]
  },
  {
   "cell_type": "code",
   "execution_count": 32,
   "metadata": {},
   "outputs": [
    {
     "data": {
      "image/png": "[encoded data removed]",
      "text/plain": [
       "<Figure size 432x288 with 1 Axes>"
      ]
     },
     "metadata": {
      "needs_background": "light"
     },
     "output_type": "display_data"
    }
   ],
   "source": [
    "# Import numpy as np\n",
    "import numpy as np\n",
    "\n",
    "# Store pop as a numpy array: np_pop\n",
    "np_pop = np.array(pop)\n",
    "\n",
    "# Double np_pop\n",
    "np_pop = np_pop * 2\n",
    "\n",
    "# Update: set s argument to np_pop\n",
    "plt.scatter(gdp_cap, life_exp, s = np_pop)\n",
    "\n",
    "# Previous customizations\n",
    "plt.xscale('log') \n",
    "plt.xlabel('GDP per Capita [in USD]')\n",
    "plt.ylabel('Life Expectancy [in years]')\n",
    "plt.title('World Development in 2007')\n",
    "plt.xticks([1000, 10000, 100000],['1k', '10k', '100k'])\n",
    "\n",
    "# Display the plot\n",
    "plt.show()"
   ]
  },
  {
   "cell_type": "markdown",
   "metadata": {},
   "source": [
    "## Changing the Colors of Plot Points\n",
    "\n",
    "Add c = col to the arguments of the plt.scatter() function.\n",
    "Change the opacity of the bubbles by setting the alpha argument to 0.8 inside plt.scatter(). Alpha can be set from zero to one, where zero is totally transparent, and one is not at all transparent.\n",
    "\n",
    "c argument controls the color"
   ]
  },
  {
   "cell_type": "code",
   "execution_count": 33,
   "metadata": {},
   "outputs": [
    {
     "data": {
      "image/png": "[encoded data removed]",
      "text/plain": [
       "<Figure size 432x288 with 1 Axes>"
      ]
     },
     "metadata": {
      "needs_background": "light"
     },
     "output_type": "display_data"
    }
   ],
   "source": [
    "# Specify c and alpha inside plt.scatter()\n",
    "plt.scatter(x = gdp_cap, y = life_exp, s = np.array(pop) * 2, c = col, alpha = 0.8)\n",
    "\n",
    "# Previous customizations\n",
    "plt.xscale('log') \n",
    "plt.xlabel('GDP per Capita [in USD]')\n",
    "plt.ylabel('Life Expectancy [in years]')\n",
    "plt.title('World Development in 2007')\n",
    "plt.xticks([1000,10000,100000], ['1k','10k','100k'])\n",
    "\n",
    "# Show the plot\n",
    "plt.show()"
   ]
  },
  {
   "cell_type": "markdown",
   "metadata": {},
   "source": [
    "## More Customizations\n",
    "\n",
    "### Adding Gridlines\n",
    "Add plt.grid(True) after the plt.text() calls so that gridlines are drawn on the plot."
   ]
  },
  {
   "cell_type": "code",
   "execution_count": 34,
   "metadata": {},
   "outputs": [
    {
     "data": {
      "image/png": "[encoded data removed]",
      "text/plain": [
       "<Figure size 432x288 with 1 Axes>"
      ]
     },
     "metadata": {
      "needs_background": "light"
     },
     "output_type": "display_data"
    }
   ],
   "source": [
    "# Scatter plot\n",
    "# Scatter plot\n",
    "plt.scatter(x = gdp_cap, y = life_exp, s = np.array(pop) * 2, c = col, alpha = 0.8)\n",
    "\n",
    "# Previous customizations\n",
    "plt.xscale('log') \n",
    "plt.xlabel('GDP per Capita [in USD]')\n",
    "plt.ylabel('Life Expectancy [in years]')\n",
    "plt.title('World Development in 2007')\n",
    "plt.xticks([1000,10000,100000], ['1k','10k','100k'])\n",
    "\n",
    "# Additional customizations\n",
    "plt.text(1550, 71, 'India')\n",
    "plt.text(5700, 80, 'China')\n",
    "\n",
    "# Add grid() call\n",
    "plt.grid(True)\n",
    "\n",
    "# Show the plot\n",
    "plt.show()"
   ]
  },
  {
   "cell_type": "markdown",
   "metadata": {},
   "source": [
    "# Dictionaries\n",
    "\n",
    "Dictionaries stores values in key, value pairs"
   ]
  },
  {
   "cell_type": "code",
   "execution_count": 35,
   "metadata": {},
   "outputs": [
    {
     "data": {
      "text/plain": [
       "2.77"
      ]
     },
     "execution_count": 35,
     "metadata": {},
     "output_type": "execute_result"
    }
   ],
   "source": [
    "world = {\"afghanistan\":30.55,\n",
    "\"albania\":2.77,\n",
    "\"algeria\":39.21}\n",
    "world[\"albania\"]\n"
   ]
  },
  {
   "cell_type": "markdown",
   "metadata": {},
   "source": [
    "## The List Index Method versus"
   ]
  },
  {
   "cell_type": "code",
   "execution_count": 36,
   "metadata": {},
   "outputs": [
    {
     "name": "stdout",
     "output_type": "stream",
     "text": [
      "berlin\n"
     ]
    }
   ],
   "source": [
    "# Definition of countries and capital\n",
    "countries = ['spain', 'france', 'germany', 'norway']\n",
    "capitals = ['madrid', 'paris', 'berlin', 'oslo']\n",
    "\n",
    "# Get index of 'germany': ind_ger\n",
    "ind_ger = countries.index('germany')\n",
    "\n",
    "# Use ind_ger to print out capital of Germany\n",
    "print(capitals[ind_ger])"
   ]
  },
  {
   "cell_type": "markdown",
   "metadata": {},
   "source": [
    "## The Dictionary Method\n",
    "\n",
    "With the strings in countries and capitals, create a dictionary called europe with 4 key:value pairs. Beware of capitalization! Make sure you use lowercase characters everywhere.\n",
    "\n",
    "Print out europe to see if the result is what you expected."
   ]
  },
  {
   "cell_type": "code",
   "execution_count": 37,
   "metadata": {},
   "outputs": [
    {
     "name": "stdout",
     "output_type": "stream",
     "text": [
      "{'spain': 'madrid', 'france': 'paris', 'germany': 'berlin', 'norway': 'oslo'}\n"
     ]
    }
   ],
   "source": [
    "# Definition of countries and capital\n",
    "countries = ['spain', 'france', 'germany', 'norway']\n",
    "capitals = ['madrid', 'paris', 'berlin', 'oslo']\n",
    "\n",
    "# From string in countries and capitals, create dictionary europe\n",
    "europe = { 'spain':'madrid', 'france':'paris', 'germany':'berlin', 'norway': 'oslo' }\n",
    "\n",
    "# Print europe\n",
    "print(europe)"
   ]
  },
  {
   "cell_type": "markdown",
   "metadata": {},
   "source": [
    "## Accessing Dictionary Values\n",
    "Check out which keys are in europe by calling the keys() method on europe. Print out the result.\n",
    "\n",
    "Print out the value that belongs to the key 'norway'.\n"
   ]
  },
  {
   "cell_type": "code",
   "execution_count": 38,
   "metadata": {},
   "outputs": [
    {
     "name": "stdout",
     "output_type": "stream",
     "text": [
      "dict_keys(['spain', 'france', 'germany', 'norway'])\n",
      "oslo\n"
     ]
    }
   ],
   "source": [
    "# Definition of dictionary\n",
    "europe = {'spain':'madrid', 'france':'paris', 'germany':'berlin', 'norway':'oslo' }\n",
    "\n",
    "# Print out the keys in europe\n",
    "print(europe.keys())\n",
    "\n",
    "# Print out value that belongs to key 'norway'\n",
    "print(europe['norway'])"
   ]
  },
  {
   "cell_type": "code",
   "execution_count": 39,
   "metadata": {},
   "outputs": [
    {
     "name": "stdout",
     "output_type": "stream",
     "text": [
      "{'afghanistan': 30.55, 'albania': 2.77, 'algeria': 39.21, 'sealand': 2.7e-05}\n"
     ]
    },
    {
     "data": {
      "text/plain": [
       "True"
      ]
     },
     "execution_count": 39,
     "metadata": {},
     "output_type": "execute_result"
    }
   ],
   "source": [
    "world[\"sealand\"] = 0.000027\n",
    "print(world)\n",
    "\"sealand\" in world"
   ]
  },
  {
   "cell_type": "markdown",
   "metadata": {},
   "source": [
    "| Lists | Dictionaries |\n",
    "|:-:|:-:|\n",
    "| Select, udpate, and remove: [ ] | Select, update, and remove [ ] |\n",
    "| Indexed by range of numbers | Indexed by iunique keys |\n",
    "|Collections of values, order matters | Lookup table with unique keys|"
   ]
  },
  {
   "cell_type": "markdown",
   "metadata": {},
   "source": [
    "## Dictionary Manipulation - Add Values\n",
    "\n",
    "Add the key 'italy' with the value 'rome' to europe.\n",
    "To assert that 'italy' is now a key in europe, print out 'italy' in europe.\n",
    "Add another key:value pair to europe: 'poland' is the key, 'warsaw' is the corresponding value.\n",
    "Print out europe."
   ]
  },
  {
   "cell_type": "code",
   "execution_count": 40,
   "metadata": {},
   "outputs": [
    {
     "name": "stdout",
     "output_type": "stream",
     "text": [
      "True\n",
      "{'spain': 'madrid', 'france': 'paris', 'germany': 'berlin', 'norway': 'oslo', 'italy': 'rome', 'poland': 'warsaw'}\n"
     ]
    }
   ],
   "source": [
    "# Definition of dictionary\n",
    "europe = {'spain':'madrid', 'france':'paris', 'germany':'berlin', 'norway':'oslo' }\n",
    "\n",
    "# Add italy to europe\n",
    "europe['italy'] = 'rome'\n",
    "\n",
    "# Print out italy in europe\n",
    "print('italy' in europe)\n",
    "\n",
    "# Add poland to europe\n",
    "europe['poland'] = 'warsaw'\n",
    "\n",
    "# Print europe\n",
    "print(europe)"
   ]
  },
  {
   "cell_type": "markdown",
   "metadata": {},
   "source": [
    "## Further Dictionary Manipulation - Update Values\n",
    "\n",
    "The capital of Germany is not 'bonn'; it's 'berlin'. Update its value.\n",
    "\n",
    "Australia is not in Europe, Austria is! Remove the key 'australia' from europe.\n",
    "\n",
    "Print out europe to see if your cleaning work paid off.\n"
   ]
  },
  {
   "cell_type": "code",
   "execution_count": 41,
   "metadata": {},
   "outputs": [
    {
     "name": "stdout",
     "output_type": "stream",
     "text": [
      "{'spain': 'madrid', 'france': 'paris', 'germany': 'berlin', 'norway': 'oslo', 'italy': 'rome', 'poland': 'warsaw'}\n"
     ]
    }
   ],
   "source": [
    "# Definition of dictionary\n",
    "europe = {'spain':'madrid', 'france':'paris', 'germany':'bonn',\n",
    "          'norway':'oslo', 'italy':'rome', 'poland':'warsaw',\n",
    "          'australia':'vienna' }\n",
    "\n",
    "# Update capital of germany\n",
    "europe['germany'] = 'berlin'\n",
    "\n",
    "# Remove australia\n",
    "del(europe['australia'])\n",
    "\n",
    "# Print europe\n",
    "print(europe)"
   ]
  },
  {
   "cell_type": "markdown",
   "metadata": {},
   "source": [
    "## Dictionaries of Dictionaries\n",
    "\n",
    "Dictionaries can contain key:value pairs where the values are again dictionaries.\n",
    "\n",
    "Use chained square brackets to select and print out the capital of France.\n",
    "\n",
    "Create a dictionary, named data, with the keys 'capital' and 'population'. Set them to 'rome' and 59.83, respectively.\n",
    "\n",
    "Add a new key-value pair to europe; the key is 'italy' and the value is data, the dictionary you just built."
   ]
  },
  {
   "cell_type": "code",
   "execution_count": 42,
   "metadata": {},
   "outputs": [
    {
     "name": "stdout",
     "output_type": "stream",
     "text": [
      "paris\n",
      "{'spain': {'capital': 'madrid', 'population': 46.77}, 'france': {'capital': 'paris', 'population': 66.03}, 'germany': {'capital': 'berlin', 'population': 80.62}, 'norway': {'capital': 'oslo', 'population': 5.084}, 'italy': {'capital': 'rome', 'population': 59.83}}\n"
     ]
    }
   ],
   "source": [
    "# Dictionary of dictionaries\n",
    "europe = { 'spain': { 'capital':'madrid', 'population':46.77 },\n",
    "           'france': { 'capital':'paris', 'population':66.03 },\n",
    "           'germany': { 'capital':'berlin', 'population':80.62 },\n",
    "           'norway': { 'capital':'oslo', 'population':5.084 } }\n",
    "\n",
    "\n",
    "# Print out the capital of France\n",
    "print(europe['france']['capital'])\n",
    "\n",
    "# Create sub-dictionary data\n",
    "data = { 'capital':'rome', 'population':59.83}\n",
    "\n",
    "# Add data to europe under key 'italy'\n",
    "europe['italy'] = data\n",
    "\n",
    "# Print europe\n",
    "print(europe)"
   ]
  },
  {
   "cell_type": "markdown",
   "metadata": {},
   "source": [
    "# Pandas - Dictionary to DataFrame\n",
    "Pandas is an open source library, providing high-performance, easy-to-use data structures and data analysis tools for Python.\n",
    "- Used to create data frames\n",
    "- Based on numpy\n",
    "- High level data automation tool\n",
    "\n",
    "- row = observation \n",
    "- column = variable\n",
    "\n",
    "Import pandas as pd.\n",
    "\n",
    "Use the pre-defined lists to create a dictionary called my_dict. There should be three key value pairs:\n",
    "key 'country' and value names.\n",
    "key 'drives_right' and value dr.\n",
    "key 'cars_per_cap' and value cpc.\n",
    "\n",
    "Use pd.DataFrame() to turn your dict into a DataFrame called cars.\n",
    "\n",
    "Print out cars and see how beautiful it is."
   ]
  },
  {
   "cell_type": "code",
   "execution_count": 43,
   "metadata": {},
   "outputs": [
    {
     "name": "stdout",
     "output_type": "stream",
     "text": [
      "         country  drives_right  cars_per_cap\n",
      "0  United States          True           809\n",
      "1      Australia         False           731\n",
      "2          Japan         False           588\n",
      "3          India         False            18\n",
      "4         Russia          True           200\n",
      "5        Morocco          True            70\n",
      "6          Egypt          True            45\n"
     ]
    }
   ],
   "source": [
    "# Pre-defined lists\n",
    "names = ['United States', 'Australia', 'Japan', 'India', 'Russia', 'Morocco', 'Egypt']\n",
    "dr =  [True, False, False, False, True, True, True]\n",
    "cpc = [809, 731, 588, 18, 200, 70, 45]\n",
    "\n",
    "# Import pandas as pd\n",
    "import pandas as pd\n",
    "\n",
    "# Create dictionary my_dict with three key:value pairs: my_dict\n",
    "my_dict = {\n",
    "    'country':names,\n",
    "    'drives_right':dr,\n",
    "    'cars_per_cap':cpc\n",
    "}\n",
    "\n",
    "# Build a DataFrame cars from my_dict: cars\n",
    "cars = pd.DataFrame(my_dict)\n",
    "\n",
    "# Print cars\n",
    "print(cars)"
   ]
  },
  {
   "cell_type": "markdown",
   "metadata": {},
   "source": [
    "## Dictionary to DataFrame 2\n",
    "\n",
    "Hit Run Code to see that, indeed, the row labels are not correctly set.\n",
    "\n",
    "Specify the row labels by setting cars.index equal to row_labels.\n",
    "\n",
    "Print out cars again and check if the row labels are correct this time.\n",
    "\n",
    "### Build cars DataFrame\n",
    "names = ['United States', 'Australia', 'Japan', 'India', 'Russia', 'Morocco', 'Egypt']\n",
    "dr =  [True, False, False, False, True, True, True]\n",
    "cpc = [809, 731, 588, 18, 200, 70, 45]\n",
    "cars_dict = { 'country':names, 'drives_right':dr, 'cars_per_cap':cpc }\n",
    "cars = pd.DataFrame(cars_dict)\n",
    "print(cars)"
   ]
  },
  {
   "cell_type": "code",
   "execution_count": 44,
   "metadata": {},
   "outputs": [
    {
     "name": "stdout",
     "output_type": "stream",
     "text": [
      "         country  drives_right  cars_per_cap\n",
      "0  United States          True           809\n",
      "1      Australia         False           731\n",
      "2          Japan         False           588\n",
      "3          India         False            18\n",
      "4         Russia          True           200\n",
      "5        Morocco          True            70\n",
      "6          Egypt          True            45\n",
      "           country  drives_right  cars_per_cap\n",
      "US   United States          True           809\n",
      "AUS      Australia         False           731\n",
      "JPN          Japan         False           588\n",
      "IN           India         False            18\n",
      "RU          Russia          True           200\n",
      "MOR        Morocco          True            70\n",
      "EG           Egypt          True            45\n"
     ]
    }
   ],
   "source": [
    "import pandas as pd\n",
    "\n",
    "# Build cars DataFrame\n",
    "names = ['United States', 'Australia', 'Japan', 'India', 'Russia', 'Morocco', 'Egypt']\n",
    "dr =  [True, False, False, False, True, True, True]\n",
    "cpc = [809, 731, 588, 18, 200, 70, 45]\n",
    "cars_dict = { 'country':names, 'drives_right':dr, 'cars_per_cap':cpc }\n",
    "cars = pd.DataFrame(cars_dict)\n",
    "print(cars)\n",
    "\n",
    "# Definition of row_labels\n",
    "row_labels = ['US', 'AUS', 'JPN', 'IN', 'RU', 'MOR', 'EG']\n",
    "\n",
    "# Specify row labels of cars\n",
    "cars.index = row_labels\n",
    "\n",
    "# Print cars again\n",
    "print(cars)"
   ]
  },
  {
   "cell_type": "markdown",
   "metadata": {},
   "source": [
    "# CSV to DataFrame\n",
    "\n",
    "To import CSV data into Python as a Pandas DataFrame you can use read_csv().\n",
    "\n",
    "To import CSV files you still need the pandas package: import it as pd.\n",
    "\n",
    "Use pd.read_csv() to import cars.csv data as a DataFrame. Store this dataframe as cars.\n",
    "\n",
    "Print out cars. Does everything look OK?"
   ]
  },
  {
   "cell_type": "code",
   "execution_count": 45,
   "metadata": {},
   "outputs": [
    {
     "name": "stdout",
     "output_type": "stream",
     "text": [
      "  Unnamed: 0  cars_per_cap        country  drives_right\n",
      "0         US           809  United States          True\n",
      "1        AUS           731      Australia         False\n",
      "2        JAP           588          Japan         False\n",
      "3         IN            18          India         False\n",
      "4         RU           200         Russia          True\n",
      "5        MOR            70        Morocco          True\n",
      "6         EG            45          Egypt          True\n"
     ]
    }
   ],
   "source": [
    "# Import pandas as pd\n",
    "import pandas as pd\n",
    "\n",
    "# Import the cars.csv data: cars\n",
    "cars = pd.read_csv('D:/Repos/PythonDataScienceDataCamp/Intermediate Python/cars.csv')\n",
    "#cars = pd.read_csv('cars.csv')\n",
    "\n",
    "# Print out cars\n",
    "print(cars)"
   ]
  },
  {
   "cell_type": "markdown",
   "metadata": {},
   "source": [
    "## CSV to DataFrame 2 - Setting the Column Index\n",
    "\n",
    "Remember index_col, an argument of read_csv(), can  specify which column in the CSV file should be used as a row label.\n",
    "\n",
    "Run the code with Run Code and assert that the first column should actually be used as row labels.\n",
    "\n",
    "Specify the index_col argument inside pd.read_csv(): set it to 0, so that the first column is used as row labels.\n",
    "\n",
    "Has the printout of cars improved now?\n"
   ]
  },
  {
   "cell_type": "code",
   "execution_count": 46,
   "metadata": {},
   "outputs": [
    {
     "name": "stdout",
     "output_type": "stream",
     "text": [
      "     cars_per_cap        country  drives_right\n",
      "US            809  United States          True\n",
      "AUS           731      Australia         False\n",
      "JAP           588          Japan         False\n",
      "IN             18          India         False\n",
      "RU            200         Russia          True\n",
      "MOR            70        Morocco          True\n",
      "EG             45          Egypt          True\n"
     ]
    }
   ],
   "source": [
    "# Import pandas as pd\n",
    "import pandas as pd\n",
    "\n",
    "# Fix import by including index_col\n",
    "cars = pd.read_csv('cars.csv', index_col = 0)\n",
    "\n",
    "# Print out cars\n",
    "print(cars)"
   ]
  },
  {
   "cell_type": "markdown",
   "metadata": {},
   "source": [
    "# More Pandas - Row Access\n",
    "\n",
    "Using  square brackets [ ]\n",
    "\n",
    "brics[ \"country\" ]\n",
    "\n",
    "brics[ [ \"country\",\"capital\" ] ]\n",
    "\n",
    "- loc (label-based)\n",
    "  - brics.loc[\"RU\"] \n",
    "    - panda series\n",
    "  - brics.loc[ [\"RU] ] \n",
    "    - data frame\n",
    "  - brics.loc[ [\"RU\",\"IN\",\"CH\"] ]\n",
    "    - data frame with multiple rows, all columns \n",
    "  - brics.loc[ [\"RU\",\"IN\",\"CH\"], [\"country\", \"capital\"] ]\n",
    "    - data frame with multilpe rows, selected columns\n",
    "  - brics.loc[:,\"country\",\"capital\"]\n",
    "    - data frame with all rows and selected columns\n",
    "- iloc (integer position-based)\n",
    "\n",
    "- Square brackets\n",
    "  - Column access brics[[\"country\",\"capital\"]]\n",
    "  - Row access: only through slicing brics[1:4]\n",
    "- loc (label-based)\n",
    "  - Row access brics.loc[[\"RU\",\"IN\",\"CH\"]]\n",
    "  - Column access brics.loc[:, [\"country\",\"capital\"]]\n",
    "  - Row & Column access\n",
    "\n",
    "brics.loc[[\"RU\",\"IN\",\"CH\"],[\"country\",\"capital\"]]\n",
    "\n",
    "brics.iloc works the same but uses index values\n"
   ]
  },
  {
   "cell_type": "markdown",
   "metadata": {},
   "source": [
    "## Square Brackets\n",
    "\n",
    "Use single square brackets to print out the country column of cars as a Pandas Series.\n",
    "\n",
    "Use double square brackets to print out the country column of cars as a Pandas DataFrame.\n",
    "\n",
    "Use double square brackets to print out a DataFrame with both the country and drives_right columns of cars, in this order.\n"
   ]
  },
  {
   "cell_type": "code",
   "execution_count": 47,
   "metadata": {},
   "outputs": [
    {
     "name": "stdout",
     "output_type": "stream",
     "text": [
      "US     United States\n",
      "AUS        Australia\n",
      "JAP            Japan\n",
      "IN             India\n",
      "RU            Russia\n",
      "MOR          Morocco\n",
      "EG             Egypt\n",
      "Name: country, dtype: object\n",
      "           country\n",
      "US   United States\n",
      "AUS      Australia\n",
      "JAP          Japan\n",
      "IN           India\n",
      "RU          Russia\n",
      "MOR        Morocco\n",
      "EG           Egypt\n",
      "           country  drives_right\n",
      "US   United States          True\n",
      "AUS      Australia         False\n",
      "JAP          Japan         False\n",
      "IN           India         False\n",
      "RU          Russia          True\n",
      "MOR        Morocco          True\n",
      "EG           Egypt          True\n"
     ]
    }
   ],
   "source": [
    "# Import cars data\n",
    "import pandas as pd\n",
    "cars = pd.read_csv('cars.csv', index_col = 0)\n",
    "\n",
    "# Print out country column as Pandas Series\n",
    "print(cars['country'])\n",
    "\n",
    "# Print out country column as Pandas DataFrame\n",
    "print(cars[['country']])\n",
    "\n",
    "# Print out DataFrame with country and drives_right columns\n",
    "print(cars[['country','drives_right']])"
   ]
  },
  {
   "cell_type": "markdown",
   "metadata": {},
   "source": [
    "## More Square Brackets\n",
    "\n",
    "Square brackets can do more than just selecting columns. You can also use them to get rows, or observations, from a DataFrame. The following call selects the first five rows from the cars DataFrame:\n",
    "\n",
    "cars[0:5]\n",
    "The result is another DataFrame containing only the rows you specified.\n",
    "\n",
    "Select the first 3 observations from cars and print them out.\n",
    "\n",
    "Select the fourth, fifth and sixth observation, corresponding to row indexes 3, 4 and 5, and print them out."
   ]
  },
  {
   "cell_type": "code",
   "execution_count": 48,
   "metadata": {},
   "outputs": [
    {
     "name": "stdout",
     "output_type": "stream",
     "text": [
      "     cars_per_cap        country  drives_right\n",
      "US            809  United States          True\n",
      "AUS           731      Australia         False\n",
      "JAP           588          Japan         False\n",
      "     cars_per_cap  country  drives_right\n",
      "IN             18    India         False\n",
      "RU            200   Russia          True\n",
      "MOR            70  Morocco          True\n"
     ]
    }
   ],
   "source": [
    "# Import cars data\n",
    "import pandas as pd\n",
    "cars = pd.read_csv('cars.csv', index_col = 0)\n",
    "\n",
    "# Print out first 3 observations\n",
    "print(cars[0:3])\n",
    "\n",
    "# Print out fourth, fifth and sixth observation\n",
    "print(cars[3:6])"
   ]
  },
  {
   "cell_type": "markdown",
   "metadata": {},
   "source": [
    "## loc and iloc\n",
    "\n",
    "With loc and iloc you can do practically any data selection operation on DataFrames you can think of. loc is label-based, which means that you have to specify rows and columns based on their row and column labels. \n",
    "\n",
    "iloc is integer index based, so you have to specify rows and columns by their integer index like you did in the previous exercise.\n",
    "\n",
    "Use loc or iloc to select the observation corresponding to Japan as a Series. The label of this row is JPN, the index is 2. Make sure to print the resulting Series.\n",
    "\n",
    "Use loc or iloc to select the observations for Australia and Egypt as a DataFrame. You can find out about the labels/indexes of these rows by inspecting cars in the IPython Shell. Make sure to print the resulting DataFrame."
   ]
  },
  {
   "cell_type": "code",
   "execution_count": 49,
   "metadata": {},
   "outputs": [
    {
     "name": "stdout",
     "output_type": "stream",
     "text": [
      "cars_per_cap      588\n",
      "country         Japan\n",
      "drives_right    False\n",
      "Name: JAP, dtype: object\n",
      "     cars_per_cap    country  drives_right\n",
      "AUS           731  Australia         False\n",
      "EG             45      Egypt          True\n"
     ]
    }
   ],
   "source": [
    "# Import cars data\n",
    "import pandas as pd\n",
    "#cars = pd.read_csv('cars.csv', index_col = 0)\n",
    "\n",
    "# Print out observation for Japan\n",
    "print(cars.loc['JAP'])\n",
    "\n",
    "# Print out observations for Australia and Egypt\n",
    "print(cars.loc[['AUS', 'EG']])"
   ]
  },
  {
   "cell_type": "markdown",
   "metadata": {},
   "source": [
    "## loc and iloc 2\n",
    "loc and iloc also allow you to select both rows and columns from a DataFrame.\n",
    "\n",
    "Print out the drives_right value of the row corresponding to Morocco (its row label is MOR)\n",
    "\n",
    "Print out a sub-DataFrame, containing the observations for Russia and Morocco and the columns country and drives_right.\n",
    "\n"
   ]
  },
  {
   "cell_type": "code",
   "execution_count": 50,
   "metadata": {},
   "outputs": [
    {
     "name": "stdout",
     "output_type": "stream",
     "text": [
      "     drives_right\n",
      "MOR          True\n",
      "     country  drives_right\n",
      "RU    Russia          True\n",
      "MOR  Morocco          True\n"
     ]
    }
   ],
   "source": [
    "# Import cars data\n",
    "import pandas as pd\n",
    "cars = pd.read_csv('cars.csv', index_col = 0)\n",
    "\n",
    "# Print out drives_right value of Morocco\n",
    "print(cars.loc[['MOR'], ['drives_right']])\n",
    "\n",
    "# Print sub-DataFrame\n",
    "print(cars.loc[['RU', 'MOR'], ['country', 'drives_right']])"
   ]
  },
  {
   "cell_type": "markdown",
   "metadata": {},
   "source": [
    "## loc and iloc 3\n",
    "\n",
    "Print out the drives_right column as a Series using loc or iloc.\n",
    "\n",
    "Print out the drives_right column as a DataFrame using loc or iloc.\n",
    "\n",
    "Print out both the cars_per_cap and drives_right column as a DataFrame using loc or iloc."
   ]
  },
  {
   "cell_type": "code",
   "execution_count": 51,
   "metadata": {},
   "outputs": [
    {
     "name": "stdout",
     "output_type": "stream",
     "text": [
      "US      True\n",
      "AUS    False\n",
      "JAP    False\n",
      "IN     False\n",
      "RU      True\n",
      "MOR     True\n",
      "EG      True\n",
      "Name: drives_right, dtype: bool\n",
      "     drives_right\n",
      "US           True\n",
      "AUS         False\n",
      "JAP         False\n",
      "IN          False\n",
      "RU           True\n",
      "MOR          True\n",
      "EG           True\n",
      "     cars_per_cap  drives_right\n",
      "US            809          True\n",
      "AUS           731         False\n",
      "JAP           588         False\n",
      "IN             18         False\n",
      "RU            200          True\n",
      "MOR            70          True\n",
      "EG             45          True\n"
     ]
    }
   ],
   "source": [
    "# Import cars data\n",
    "import pandas as pd\n",
    "cars = pd.read_csv('cars.csv', index_col = 0)\n",
    "\n",
    "# Print out drives_right column as Series\n",
    "print(cars.loc[:, 'drives_right'])\n",
    "\n",
    "# Print out drives_right column as DataFrame\n",
    "print(cars.loc[:, ['drives_right']])\n",
    "\n",
    "# Print out cars_per_cap and drives_right as DataFrame\n",
    "print(cars.loc[:, ['cars_per_cap','drives_right']])\n"
   ]
  },
  {
   "cell_type": "markdown",
   "metadata": {},
   "source": [
    "# Comparison Operators\n",
    "\n",
    "Works with numeric and string types, but the types cannot be mixed\n",
    "\n",
    "|Comparator| Meaning|\n",
    "|:-:|:-:|\n",
    "|< |Strictly less than|\n",
    "|<= |Less than or equal|\n",
    "|> |Strictly greater than|\n",
    "|>= |Greater than or equal|\n",
    "|== |Equal|\n",
    "|!= |Not equal|\n"
   ]
  },
  {
   "cell_type": "code",
   "execution_count": 1,
   "metadata": {},
   "outputs": [
    {
     "data": {
      "text/plain": [
       "True"
      ]
     },
     "execution_count": 1,
     "metadata": {},
     "output_type": "execute_result"
    }
   ],
   "source": [
    "2 < 3"
   ]
  },
  {
   "cell_type": "code",
   "execution_count": 2,
   "metadata": {},
   "outputs": [
    {
     "data": {
      "text/plain": [
       "True"
      ]
     },
     "execution_count": 2,
     "metadata": {},
     "output_type": "execute_result"
    }
   ],
   "source": [
    "3 <= 3"
   ]
  },
  {
   "cell_type": "code",
   "execution_count": 3,
   "metadata": {},
   "outputs": [
    {
     "data": {
      "text/plain": [
       "False"
      ]
     },
     "execution_count": 3,
     "metadata": {},
     "output_type": "execute_result"
    }
   ],
   "source": [
    "2 == 3"
   ]
  },
  {
   "cell_type": "code",
   "execution_count": 4,
   "metadata": {},
   "outputs": [
    {
     "data": {
      "text/plain": [
       "True"
      ]
     },
     "execution_count": 4,
     "metadata": {},
     "output_type": "execute_result"
    }
   ],
   "source": [
    "2 <= 3"
   ]
  },
  {
   "cell_type": "code",
   "execution_count": 5,
   "metadata": {},
   "outputs": [
    {
     "data": {
      "text/plain": [
       "True"
      ]
     },
     "execution_count": 5,
     "metadata": {},
     "output_type": "execute_result"
    }
   ],
   "source": [
    "x = 2\n",
    "y = 3\n",
    "x < y"
   ]
  },
  {
   "cell_type": "code",
   "execution_count": 6,
   "metadata": {},
   "outputs": [
    {
     "data": {
      "text/plain": [
       "True"
      ]
     },
     "execution_count": 6,
     "metadata": {},
     "output_type": "execute_result"
    }
   ],
   "source": [
    "\"carl\" < \"chris\""
   ]
  },
  {
   "cell_type": "code",
   "execution_count": 7,
   "metadata": {},
   "outputs": [
    {
     "ename": "TypeError",
     "evalue": "'<' not supported between instances of 'int' and 'str'",
     "output_type": "error",
     "traceback": [
      "\u001b[1;31m---------------------------------------------------------------------------\u001b[0m",
      "\u001b[1;31mTypeError\u001b[0m                                 Traceback (most recent call last)",
      "\u001b[1;32m<ipython-input-7-8405ff8201d1>\u001b[0m in \u001b[0;36m<module>\u001b[1;34m\u001b[0m\n\u001b[1;32m----> 1\u001b[1;33m \u001b[1;36m3\u001b[0m \u001b[1;33m<\u001b[0m \u001b[1;34m\"chris\"\u001b[0m\u001b[1;33m\u001b[0m\u001b[1;33m\u001b[0m\u001b[0m\n\u001b[0m",
      "\u001b[1;31mTypeError\u001b[0m: '<' not supported between instances of 'int' and 'str'"
     ]
    }
   ],
   "source": [
    "3 < \"chris\""
   ]
  },
  {
   "cell_type": "code",
   "execution_count": 8,
   "metadata": {},
   "outputs": [
    {
     "data": {
      "text/plain": [
       "True"
      ]
     },
     "execution_count": 8,
     "metadata": {},
     "output_type": "execute_result"
    }
   ],
   "source": [
    "3 < 4.1"
   ]
  },
  {
   "cell_type": "markdown",
   "metadata": {},
   "source": [
    "## Comparison Operators - Equality\n",
    "\n",
    "To check if two Python values, or variables, are equal use ==. \n",
    "\n",
    "To check for inequality, use !=.\n",
    "\n",
    "In the editor on the right, write code to see if True equals False.\n",
    "\n",
    "Write Python code to check if -5 * 15 is not equal to 75.\n",
    "\n",
    "Ask Python whether the strings \"pyscript\" and \"PyScript\" are equal.\n",
    "\n",
    "What happens if you compare booleans and integers? Write code to see if True and 1 are equal.\n"
   ]
  },
  {
   "cell_type": "code",
   "execution_count": 9,
   "metadata": {},
   "outputs": [
    {
     "data": {
      "text/plain": [
       "True"
      ]
     },
     "execution_count": 9,
     "metadata": {},
     "output_type": "execute_result"
    }
   ],
   "source": [
    "# Comparison of booleans\n",
    "True == False"
   ]
  },
  {
   "cell_type": "code",
   "execution_count": 10,
   "metadata": {},
   "outputs": [
    {
     "data": {
      "text/plain": [
       "True"
      ]
     },
     "execution_count": 10,
     "metadata": {},
     "output_type": "execute_result"
    }
   ],
   "source": [
    "# Comparison of integers\n",
    "-5 * 15 != 75"
   ]
  },
  {
   "cell_type": "code",
   "execution_count": 11,
   "metadata": {},
   "outputs": [
    {
     "data": {
      "text/plain": [
       "False"
      ]
     },
     "execution_count": 11,
     "metadata": {},
     "output_type": "execute_result"
    }
   ],
   "source": [
    "# Comparison of strings\n",
    "\"pyscript\" == \"PyScript\""
   ]
  },
  {
   "cell_type": "code",
   "execution_count": 12,
   "metadata": {},
   "outputs": [
    {
     "data": {
      "text/plain": [
       "True"
      ]
     },
     "execution_count": 12,
     "metadata": {},
     "output_type": "execute_result"
    }
   ],
   "source": [
    "# Compare a boolean with an integer\n",
    "True == 1"
   ]
  },
  {
   "cell_type": "markdown",
   "metadata": {},
   "source": [
    "## Comparison Opertators - Greater Than Less Than\n",
    "\n",
    "Write Python expressions, wrapped in a print() function, to check whether:\n",
    "\n",
    "x is greater than or equal to -10. x has already been defined for you.\n",
    "\n",
    "\"test\" is less than or equal to y. y has already been defined for you.\n",
    "\n",
    "True is greater than False."
   ]
  },
  {
   "cell_type": "code",
   "execution_count": 13,
   "metadata": {},
   "outputs": [
    {
     "name": "stdout",
     "output_type": "stream",
     "text": [
      "False\n"
     ]
    },
    {
     "data": {
      "text/plain": [
       "True"
      ]
     },
     "execution_count": 13,
     "metadata": {},
     "output_type": "execute_result"
    }
   ],
   "source": [
    "# Comparison of integers\n",
    "x = -3 * 6\n",
    "print(x >= -10)\n",
    "\n",
    "\n",
    "# Comparison of strings\n",
    "y = \"test\"\n",
    "\"test\" <= y\n",
    "\n",
    "# Comparison of booleans\n",
    "True > False"
   ]
  },
  {
   "cell_type": "markdown",
   "metadata": {},
   "source": [
    "## Compare Arrays\n",
    "\n",
    "use comparison operators with Numpy arrays.\n",
    "\n",
    "Using comparison operators, generate boolean arrays that answer the following questions:\n",
    "\n",
    "Which areas in my_house are greater than or equal to 18?\n",
    "\n",
    "You can also compare two Numpy arrays element-wise. Which areas in my_house are smaller than the ones in your_house?\n",
    "\n",
    "Make sure to wrap both commands in a print() statement so that you can inspect the output!"
   ]
  },
  {
   "cell_type": "code",
   "execution_count": null,
   "metadata": {},
   "outputs": [],
   "source": [
    "# Create arrays\n",
    "import numpy as np\n",
    "my_house = np.array([18.0, 20.0, 10.75, 9.50])\n",
    "your_house = np.array([14.0, 24.0, 14.25, 9.0])\n",
    "\n",
    "# my_house greater than or equal to 18\n",
    "print(my_house >= 18)\n",
    "\n",
    "# my_house less than your_house\n",
    "print(my_house < your_house)"
   ]
  },
  {
   "cell_type": "markdown",
   "metadata": {},
   "source": [
    "# Boolean Operators\n",
    "\n",
    "And: TRUE and TRUE == TRUE\n",
    "\n",
    "Or: FALSE and FALSE == FALSE\n",
    "\n",
    "Not\n",
    "\n",
    "And does not work with Numpy arrays, must use logical_and(), logical_or(), and logical_not()\n",
    "\n",
    "## and, or, not\n",
    "\n",
    "Write Python expressions, wrapped in a print() function, to check whether:\n",
    "\n",
    "my_kitchen is bigger than 10 and smaller than 18.\n",
    "\n",
    "my_kitchen is smaller than 14 or bigger than 17.\n",
    "\n",
    "double the area of my_kitchen is smaller than triple the area of your_kitchen."
   ]
  },
  {
   "cell_type": "code",
   "execution_count": 14,
   "metadata": {},
   "outputs": [
    {
     "name": "stdout",
     "output_type": "stream",
     "text": [
      "False\n",
      "True\n",
      "True\n"
     ]
    }
   ],
   "source": [
    "# Define variables\n",
    "my_kitchen = 18.0\n",
    "your_kitchen = 14.0\n",
    "\n",
    "# my_kitchen bigger than 10 and smaller than 18?\n",
    "print(my_kitchen > 10 and my_kitchen < 18)\n",
    "\n",
    "# my_kitchen smaller than 14 or bigger than 17?\n",
    "print(my_kitchen < 14 or my_kitchen > 17)\n",
    "\n",
    "# Double my_kitchen smaller than triple your_kitchen?\n",
    "print(2 * my_kitchen < 3 * your_kitchen)"
   ]
  },
  {
   "cell_type": "markdown",
   "metadata": {},
   "source": [
    "## Boolean operators with Numpy\n",
    "\n",
    "Before, the operational operators like < and >= worked with Numpy arrays out of the box. Unfortunately, this is not true for the boolean operators and, or, and not.\n",
    "\n",
    "To use these operators with Numpy, use np.logical_and(), np.logical_or() and np.logical_not(). Here's an example on the my_house and your_house arrays:\n",
    "\n",
    "np.logical_and(my_house > 13, \n",
    "               your_house < 15)\n",
    "\n",
    "Generate boolean arrays that answer the following questions:\n",
    "\n",
    "Which areas in my_house are greater than 18.5 or smaller than 10?\n",
    "\n",
    "Which areas are smaller than 11 in both my_house and your_house? Make sure to wrap both commands in print() statement, so that you can inspect the output."
   ]
  },
  {
   "cell_type": "code",
   "execution_count": 15,
   "metadata": {},
   "outputs": [
    {
     "name": "stdout",
     "output_type": "stream",
     "text": [
      "[False  True False  True]\n",
      "[False False False  True]\n"
     ]
    }
   ],
   "source": [
    "# Create arrays\n",
    "import numpy as np\n",
    "my_house = np.array([18.0, 20.0, 10.75, 9.50])\n",
    "your_house = np.array([14.0, 24.0, 14.25, 9.0])\n",
    "\n",
    "# my_house greater than 18.5 or smaller than 10\n",
    "print(np.logical_or(my_house > 18.5, my_house < 10))\n",
    "\n",
    "# Both my_house and your_house smaller than 11\n",
    "print(np.logical_and(my_house < 11, your_house < 11))"
   ]
  },
  {
   "cell_type": "markdown",
   "metadata": {},
   "source": [
    "# Conditional Statement Overview\n",
    "\n",
    "- Comparison Operators\n",
    "    - < , > , >=, <=, ==, !=\n",
    "- Boolean Operators\n",
    "  - and , or , not\n",
    "- Conditional Statements\n",
    "-   if , else , elif\n",
    "\n",
    "\n",
    "if condition :\n",
    "expression\n",
    "elif :\n",
    "expression\n",
    "else:\n",
    "expression\n",
    "if condition succeeds execute expression,\n",
    "else if condition succeeds then execute elif expression,\n",
    "else if both conditions fail then execute else expression\n"
   ]
  },
  {
   "cell_type": "code",
   "execution_count": 17,
   "metadata": {},
   "outputs": [
    {
     "name": "stdout",
     "output_type": "stream",
     "text": [
      "z is divisible by 3\n"
     ]
    }
   ],
   "source": [
    "z = 3\n",
    "if z % 2 == 0 :\n",
    "    print(\"z is divisible by 2\") # False\n",
    "elif z % 3 == 0 :\n",
    "    print(\"z is divisible by 3\") # True\n",
    "else :\n",
    "    print(\"z is neither divisible by 2 nor by 3\")\n"
   ]
  },
  {
   "cell_type": "markdown",
   "metadata": {},
   "source": [
    "## Conditional Statements - if\n",
    "\n",
    "Examine the if statement that prints out \"Looking around in the kitchen.\" if room equals \"kit\".\n",
    "\n",
    "Write another if statement that prints out \"big place!\" if area is greater than 15."
   ]
  },
  {
   "cell_type": "code",
   "execution_count": 18,
   "metadata": {},
   "outputs": [
    {
     "name": "stdout",
     "output_type": "stream",
     "text": [
      "looking around in the kitchen.\n"
     ]
    }
   ],
   "source": [
    "# Define variables\n",
    "room = \"kit\"\n",
    "area = 14.0\n",
    "\n",
    "# if statement for room\n",
    "if room == \"kit\" :\n",
    "    print(\"looking around in the kitchen.\")\n",
    "\n",
    "# if statement for area\n",
    "if area > 15 :\n",
    "    print(\"big place!\")"
   ]
  },
  {
   "cell_type": "markdown",
   "metadata": {},
   "source": [
    "## Conditional Statements - else\n",
    "\n",
    "Add an else statement to the second control structure so that \"pretty small.\" is printed out if area > 15 evaluates to False."
   ]
  },
  {
   "cell_type": "code",
   "execution_count": 19,
   "metadata": {},
   "outputs": [
    {
     "name": "stdout",
     "output_type": "stream",
     "text": [
      "looking around in the kitchen.\n",
      "pretty small.\n"
     ]
    }
   ],
   "source": [
    "# Define variables\n",
    "room = \"kit\"\n",
    "area = 14.0\n",
    "\n",
    "# if-else construct for room\n",
    "if room == \"kit\" :\n",
    "    print(\"looking around in the kitchen.\")\n",
    "else :\n",
    "    print(\"looking around elsewhere.\")\n",
    "\n",
    "# if-else construct for area\n",
    "if area > 15 :\n",
    "    print(\"big place!\")\n",
    "else :\n",
    "    print(\"pretty small.\")"
   ]
  },
  {
   "cell_type": "markdown",
   "metadata": {},
   "source": [
    "## Conditional Statements - elif\n",
    "\n",
    "Add an elif to the second control structure such that \"medium size, nice!\" is printed out if area is greater than 10."
   ]
  },
  {
   "cell_type": "code",
   "execution_count": 20,
   "metadata": {},
   "outputs": [
    {
     "name": "stdout",
     "output_type": "stream",
     "text": [
      "looking around in the bedroom.\n",
      "medium size, nice!\n"
     ]
    }
   ],
   "source": [
    "# Define variables\n",
    "room = \"bed\"\n",
    "area = 14.0\n",
    "\n",
    "# if-elif-else construct for room\n",
    "if room == \"kit\" :\n",
    "    print(\"looking around in the kitchen.\")\n",
    "elif room == \"bed\":\n",
    "    print(\"looking around in the bedroom.\")\n",
    "else :\n",
    "    print(\"looking around elsewhere.\")\n",
    "\n",
    "# if-elif-else construct for area\n",
    "if area > 15 :\n",
    "    print(\"big place!\")\n",
    "elif area > 10 :\n",
    "    print(\"medium size, nice!\")\n",
    "else :\n",
    "    print(\"pretty small.\")"
   ]
  },
  {
   "cell_type": "markdown",
   "metadata": {},
   "source": [
    "## Drive_right\n",
    "\n",
    "Extract the drives_right column as a Pandas Series and store it as dr.\n",
    "\n",
    "Use dr, a boolean Series, to subset the cars DataFrame. Store the resulting selection in sel.\n",
    "\n",
    "Print sel, and assert that drives_right is True for all observations."
   ]
  },
  {
   "cell_type": "code",
   "execution_count": 21,
   "metadata": {},
   "outputs": [
    {
     "name": "stdout",
     "output_type": "stream",
     "text": [
      "     cars_per_cap        country  drives_right\n",
      "US            809  United States          True\n",
      "RU            200         Russia          True\n",
      "MOR            70        Morocco          True\n",
      "EG             45          Egypt          True\n"
     ]
    }
   ],
   "source": [
    "# Import cars data\n",
    "import pandas as pd\n",
    "cars = pd.read_csv('cars.csv', index_col = 0)\n",
    "\n",
    "# Extract drives_right column as Series: dr\n",
    "dr = cars[\"drives_right\"]\n",
    "\n",
    "# Use dr to subset cars: sel\n",
    "sel = cars[dr]\n",
    "\n",
    "# Print sel\n",
    "print(sel)"
   ]
  },
  {
   "cell_type": "markdown",
   "metadata": {},
   "source": [
    "## Drive_right 2\n",
    "\n",
    " Convert the code to a one-liner that calculates the variable sel as before."
   ]
  },
  {
   "cell_type": "code",
   "execution_count": 25,
   "metadata": {},
   "outputs": [
    {
     "name": "stdout",
     "output_type": "stream",
     "text": [
      "     cars_per_cap        country  drives_right\n",
      "US            809  United States          True\n",
      "RU            200         Russia          True\n",
      "MOR            70        Morocco          True\n",
      "EG             45          Egypt          True\n"
     ]
    }
   ],
   "source": [
    "# Import cars data\n",
    "import pandas as pd\n",
    "cars = pd.read_csv('cars.csv', index_col = 0)\n",
    "\n",
    "# Convert code to a one-liner\n",
    "sel = cars[cars['drives_right']]\n",
    "\n",
    "# Print sel\n",
    "print(sel)"
   ]
  },
  {
   "cell_type": "markdown",
   "metadata": {},
   "source": [
    "## Cars per capita\n",
    "\n",
    "Select the cars_per_cap column from cars as a Pandas Series and store it as cpc.\n",
    "\n",
    "Use cpc in combination with a comparison operator and 500. You want to end up with a boolean Series that's True if the corresponding country has a cars_per_cap of more than 500 and False otherwise. Store this boolean Series as many_cars.\n",
    "\n",
    "Use many_cars to subset cars, similar to what you did before. Store the result as car_maniac.\n",
    "\n",
    "Print out car_maniac to see if you got it right."
   ]
  },
  {
   "cell_type": "code",
   "execution_count": 26,
   "metadata": {},
   "outputs": [
    {
     "name": "stdout",
     "output_type": "stream",
     "text": [
      "     cars_per_cap        country  drives_right\n",
      "US            809  United States          True\n",
      "AUS           731      Australia         False\n",
      "JAP           588          Japan         False\n"
     ]
    }
   ],
   "source": [
    "# Import cars data\n",
    "import pandas as pd\n",
    "cars = pd.read_csv('cars.csv', index_col = 0)\n",
    "\n",
    "# Create car_maniac: observations that have a cars_per_cap over 500\n",
    "cpc = cars[\"cars_per_cap\"] > 500\n",
    "car_maniac = cars[cpc]\n",
    "\n",
    "\n",
    "\n",
    "# Print car_maniac\n",
    "print(car_maniac)"
   ]
  },
  {
   "cell_type": "markdown",
   "metadata": {},
   "source": [
    "## Cars per capita 2\n",
    "\n",
    "Use the code sample provided to create a DataFrame medium, that includes all the observations of cars that have a cars_per_cap between 100 and 500.\n",
    "\n",
    "Print out medium."
   ]
  },
  {
   "cell_type": "code",
   "execution_count": 27,
   "metadata": {},
   "outputs": [
    {
     "name": "stdout",
     "output_type": "stream",
     "text": [
      "    cars_per_cap country  drives_right\n",
      "RU           200  Russia          True\n"
     ]
    }
   ],
   "source": [
    "# Import cars data\n",
    "import pandas as pd\n",
    "cars = pd.read_csv('cars.csv', index_col = 0)\n",
    "\n",
    "# Import numpy, you'll need this\n",
    "import numpy as np\n",
    "\n",
    "# Create medium: observations with cars_per_cap between 100 and 500\n",
    "cpc = cars['cars_per_cap']\n",
    "between = np.logical_and(cpc > 100, cpc < 500)\n",
    "medium = cars[between]\n",
    "\n",
    "\n",
    "\n",
    "# Print medium\n",
    "print(medium)"
   ]
  },
  {
   "cell_type": "markdown",
   "metadata": {},
   "source": []
  },
  {
   "cell_type": "code",
   "execution_count": 31,
   "metadata": {},
   "outputs": [
    {
     "data": {
      "text/plain": [
       "['a', 'v', 'k', 's']"
      ]
     },
     "execution_count": 31,
     "metadata": {},
     "output_type": "execute_result"
    }
   ],
   "source": [
    "p = ['a', 'r', 'y', 'v', 'k', 's']\n",
    "#['a', 'v', 'k', 's']\n",
    "\n",
    "del(p[1:3])\n",
    "p"
   ]
  },
  {
   "cell_type": "markdown",
   "metadata": {},
   "source": [
    "# Loops\n",
    "if-elif-else: Goes through construct only once\n",
    "while loop: repeated if statement\n",
    "\n",
    "while condition : \n",
    "    expression\n",
    "\n",
    "- numerically calculating model\n",
    "- repeating action until condition is met"
   ]
  },
  {
   "cell_type": "code",
   "execution_count": 1,
   "metadata": {},
   "outputs": [
    {
     "name": "stdout",
     "output_type": "stream",
     "text": [
      "12.5\n",
      "3.125\n",
      "0.78125\n"
     ]
    }
   ],
   "source": [
    "error = 50\n",
    "while error > 1 :\n",
    "    error = error / 4\n",
    "    print(error)"
   ]
  },
  {
   "cell_type": "markdown",
   "metadata": {},
   "source": [
    "## While Loops\n",
    "\n",
    "We're going to code a while loop that implements a very basic control system for an inverted pendulum. \n",
    "\n",
    "If there's an offset from standing perfectly straight, the while loop will incrementally fix this offset.\n",
    "\n",
    "Create the variable offset with an initial value of 8.\n",
    "\n",
    "Code a while loop that keeps running as long as offset is not equal to 0. Inside the while loop:\n",
    "\n",
    "Print out the sentence \"correcting...\".\n",
    "\n",
    "Next, decrease the value of offset by 1. You can do this with offset = offset - 1.\n",
    "\n",
    "Finally, still within your loop, print out offset so you can see how it changes"
   ]
  },
  {
   "cell_type": "code",
   "execution_count": 2,
   "metadata": {},
   "outputs": [
    {
     "name": "stdout",
     "output_type": "stream",
     "text": [
      "correcting...\n",
      "7\n",
      "correcting...\n",
      "6\n",
      "correcting...\n",
      "5\n",
      "correcting...\n",
      "4\n",
      "correcting...\n",
      "3\n",
      "correcting...\n",
      "2\n",
      "correcting...\n",
      "1\n",
      "correcting...\n",
      "0\n"
     ]
    }
   ],
   "source": [
    "# Initialize offset\n",
    "offset = 8\n",
    "\n",
    "# Code the while loop\n",
    "while offset != 0 :\n",
    "    print(\"correcting...\")\n",
    "    offset = offset - 1\n",
    "    print(offset)"
   ]
  },
  {
   "cell_type": "markdown",
   "metadata": {},
   "source": [
    "## Adding Conditionals\n",
    "\n",
    "he while loop that corrects the offset is a good start, but what if offset is negative? \n",
    "\n",
    "Inside the while loop, complete the if-else statement:\n",
    "\n",
    "If offset is greater than zero, you should decrease offset by 1.\n",
    "\n",
    "Else, you should increase offset by 1.\n",
    "\n",
    "If you've coded things correctly, hitting Submit Answer should work this time.\n",
    "\n",
    "If your code is still taking too long to run (or your session is expiring), you probably made a mistake. Check your code and make sure that the statement offset != 0 will eventually evaluate to FALSE!"
   ]
  },
  {
   "cell_type": "code",
   "execution_count": 3,
   "metadata": {},
   "outputs": [
    {
     "name": "stdout",
     "output_type": "stream",
     "text": [
      "correcting...\n",
      "-5\n",
      "correcting...\n",
      "-4\n",
      "correcting...\n",
      "-3\n",
      "correcting...\n",
      "-2\n",
      "correcting...\n",
      "-1\n",
      "correcting...\n",
      "0\n"
     ]
    }
   ],
   "source": [
    "# Initialize offset\n",
    "offset = -6\n",
    "\n",
    "# Code the while loop\n",
    "while offset != 0 :\n",
    "    print(\"correcting...\")\n",
    "    if offset > 0 :\n",
    "      offset = offset - 1\n",
    "    else : \n",
    "      offset = offset + 1    \n",
    "    print(offset)"
   ]
  },
  {
   "cell_type": "markdown",
   "metadata": {},
   "source": [
    "## For loops\n",
    "\n",
    "for var in seq :\n",
    "    expression\n",
    "\n",
    "Works with strings and numeric values"
   ]
  },
  {
   "cell_type": "code",
   "execution_count": 4,
   "metadata": {},
   "outputs": [
    {
     "name": "stdout",
     "output_type": "stream",
     "text": [
      "1.73\n",
      "1.68\n",
      "1.71\n",
      "1.89\n"
     ]
    }
   ],
   "source": [
    "fam = [1.73, 1.68, 1.71, 1.89]\n",
    "for height in fam :\n",
    "    print(height)"
   ]
  },
  {
   "cell_type": "code",
   "execution_count": 5,
   "metadata": {},
   "outputs": [
    {
     "name": "stdout",
     "output_type": "stream",
     "text": [
      "index 0: 1.73\n",
      "index 1: 1.68\n",
      "index 2: 1.71\n",
      "index 3: 1.89\n"
     ]
    }
   ],
   "source": [
    "fam = [1.73, 1.68, 1.71, 1.89]\n",
    "for index, height in enumerate(fam) :\n",
    "    print(\"index \" + str(index) + \": \" + str(height))"
   ]
  },
  {
   "cell_type": "markdown",
   "metadata": {},
   "source": [
    "## For Loop Over a List\n",
    "\n",
    "Write a for loop that iterates over all elements of the areas list and prints out every element separately."
   ]
  },
  {
   "cell_type": "code",
   "execution_count": 6,
   "metadata": {},
   "outputs": [
    {
     "name": "stdout",
     "output_type": "stream",
     "text": [
      "11.25\n",
      "18.0\n",
      "20.0\n",
      "10.75\n",
      "9.5\n"
     ]
    }
   ],
   "source": [
    "# areas list\n",
    "areas = [11.25, 18.0, 20.0, 10.75, 9.50]\n",
    "\n",
    "# Code the for loop\n",
    "for area in areas :\n",
    "    print(area)"
   ]
  },
  {
   "cell_type": "markdown",
   "metadata": {},
   "source": [
    "## Indexes and Values\n",
    "\n",
    "Using a for loop to iterate over a list only gives access to every list element in each run, one after the other. \n",
    "\n",
    "To access the index information, use enumerate().\n",
    "\n",
    "Adapt the for loop in the sample code to use enumerate() and use two iterator variables.\n",
    "\n",
    "Update the print() statement so that on each run, a line of the form \"room x: y\" should be printed, where x is the index of the list element and y is the actual list element, i.e. the area. Make sure to print out this exact string, with the correct spacing."
   ]
  },
  {
   "cell_type": "code",
   "execution_count": 7,
   "metadata": {},
   "outputs": [
    {
     "name": "stdout",
     "output_type": "stream",
     "text": [
      "room 0: 11.25\n",
      "room 1: 18.0\n",
      "room 2: 20.0\n",
      "room 3: 10.75\n",
      "room 4: 9.5\n"
     ]
    }
   ],
   "source": [
    "# areas list\n",
    "areas = [11.25, 18.0, 20.0, 10.75, 9.50]\n",
    "\n",
    "# Change for loop to use enumerate() and update print()\n",
    "for x, y in enumerate(areas) :\n",
    "    print(\"room \" + str(x) + \": \" + str(y))"
   ]
  },
  {
   "cell_type": "markdown",
   "metadata": {},
   "source": [
    "## Indexes and Values2\n",
    "\n",
    "Adapt the print() function in the for loop so that the first printout becomes \"room 1: 11.25\", the second one \"room 2: 18.0\" and so on."
   ]
  },
  {
   "cell_type": "code",
   "execution_count": 8,
   "metadata": {},
   "outputs": [
    {
     "name": "stdout",
     "output_type": "stream",
     "text": [
      "room 1: 11.25\n",
      "room 2: 18.0\n",
      "room 3: 20.0\n",
      "room 4: 10.75\n",
      "room 5: 9.5\n"
     ]
    }
   ],
   "source": [
    "# areas list\n",
    "areas = [11.25, 18.0, 20.0, 10.75, 9.50]\n",
    "\n",
    "# Code the for loop\n",
    "for index, area in enumerate(areas) :\n",
    "    print(\"room \" + str(index + 1) + \": \" + str(area))"
   ]
  },
  {
   "cell_type": "markdown",
   "metadata": {},
   "source": [
    "## Loop over Lists of Lists\n",
    "\n",
    "Write a for loop that goes through each sublist of house and prints out the x is y sqm, where x is the name of the room and y is the area of the room."
   ]
  },
  {
   "cell_type": "code",
   "execution_count": 17,
   "metadata": {},
   "outputs": [
    {
     "name": "stdout",
     "output_type": "stream",
     "text": [
      "the hallway is 11.25 sqm\n",
      "the kitchen is 18.0 sqm\n",
      "the living room is 20.0 sqm\n",
      "the bedroom is 10.75 sqm\n",
      "the bathroom is 9.5 sqm\n"
     ]
    }
   ],
   "source": [
    "# house list of lists\n",
    "house = [[\"hallway\", 11.25], \n",
    "         [\"kitchen\", 18.0], \n",
    "         [\"living room\", 20.0], \n",
    "         [\"bedroom\", 10.75], \n",
    "         [\"bathroom\", 9.50]]\n",
    "         \n",
    "# Build a for loop from scratch\n",
    "for room in house :\n",
    "    print(\"the \" + str(room[0])+ \" is \" + str(room[1]) + \" sqm\")"
   ]
  },
  {
   "cell_type": "markdown",
   "metadata": {},
   "source": [
    "## Loop Data Structures - Dictionaries\n",
    "Dictionary\n",
    "for key, val in my_dict.items() :\n",
    "Numpy array\n",
    "for val in np.nditer(my_array) :"
   ]
  },
  {
   "cell_type": "code",
   "execution_count": 19,
   "metadata": {},
   "outputs": [
    {
     "name": "stdout",
     "output_type": "stream",
     "text": [
      "afghanistan--30.55\n",
      "albania--2.77\n",
      "algeria--39.21\n"
     ]
    }
   ],
   "source": [
    "world = { \"afghanistan\":30.55,\n",
    "\"albania\":2.77,\n",
    "\"algeria\":39.21 }\n",
    "for key, value in world.items() :\n",
    "    print(key + \"--\" + str(value))\n"
   ]
  },
  {
   "cell_type": "markdown",
   "metadata": {},
   "source": [
    "## Loop Data Structures - Numpy Arrays"
   ]
  },
  {
   "cell_type": "code",
   "execution_count": 21,
   "metadata": {},
   "outputs": [
    {
     "name": "stdout",
     "output_type": "stream",
     "text": [
      "21.85171572722109\n",
      "20.97505668934241\n",
      "21.750282138093777\n",
      "24.74734749867025\n",
      "21.44127836209856\n"
     ]
    }
   ],
   "source": [
    "import numpy as np\n",
    "np_height = np.array([1.73, 1.68, 1.71, 1.89, 1.79])\n",
    "np_weight = np.array([65.4, 59.2, 63.6, 88.4, 68.7])\n",
    "bmi = np_weight / np_height ** 2\n",
    "for val in bmi :\n",
    "    print(val)"
   ]
  },
  {
   "cell_type": "markdown",
   "metadata": {},
   "source": [
    "## Loop Data Structures - 2D numpy array"
   ]
  },
  {
   "cell_type": "code",
   "execution_count": 22,
   "metadata": {},
   "outputs": [
    {
     "name": "stdout",
     "output_type": "stream",
     "text": [
      "[1.73 1.68 1.71 1.89 1.79]\n",
      "[65.4 59.2 63.6 88.4 68.7]\n"
     ]
    }
   ],
   "source": [
    "import numpy as np\n",
    "np_height = np.array([1.73, 1.68, 1.71, 1.89, 1.79])\n",
    "np_weight = np.array([65.4, 59.2, 63.6, 88.4, 68.7])\n",
    "meas = np.array([np_height, np_weight])\n",
    "for val in meas :\n",
    "    print(val)\n"
   ]
  },
  {
   "cell_type": "markdown",
   "metadata": {},
   "source": [
    "## use nditer"
   ]
  },
  {
   "cell_type": "code",
   "execution_count": 23,
   "metadata": {},
   "outputs": [
    {
     "name": "stdout",
     "output_type": "stream",
     "text": [
      "1.73\n",
      "1.68\n",
      "1.71\n",
      "1.89\n",
      "1.79\n",
      "65.4\n",
      "59.2\n",
      "63.6\n",
      "88.4\n",
      "68.7\n"
     ]
    }
   ],
   "source": [
    "import numpy as np\n",
    "np_height = np.array([1.73, 1.68, 1.71, 1.89, 1.79])\n",
    "np_weight = np.array([65.4, 59.2, 63.6, 88.4, 68.7])\n",
    "meas = np.array([np_height, np_weight])\n",
    "for val in np.nditer(meas) :\n",
    "    print(val)\n"
   ]
  },
  {
   "cell_type": "markdown",
   "metadata": {},
   "source": [
    "## Loop Over Dictionary\n",
    "\n",
    "Write a for loop that goes through each key:value pair of europe. On each iteration, \"the capital of x is y\" should be printed out, where x is the key and y is the value of the pair."
   ]
  },
  {
   "cell_type": "code",
   "execution_count": 24,
   "metadata": {},
   "outputs": [
    {
     "name": "stdout",
     "output_type": "stream",
     "text": [
      "the capital of spain is madrid\n",
      "the capital of france is paris\n",
      "the capital of germany is berlin\n",
      "the capital of norway is oslo\n",
      "the capital of italy is rome\n",
      "the capital of poland is warsaw\n",
      "the capital of austria is vienna\n"
     ]
    }
   ],
   "source": [
    "# Definition of dictionary\n",
    "europe = {'spain':'madrid', 'france':'paris', 'germany':'berlin',\n",
    "          'norway':'oslo', 'italy':'rome', 'poland':'warsaw', 'austria':'vienna' }\n",
    "          \n",
    "# Iterate over europe\n",
    "for country, capital in europe.items() :\n",
    "    print(\"the capital of \" + str(country) + \" is \" + str(capital))"
   ]
  },
  {
   "cell_type": "markdown",
   "metadata": {},
   "source": [
    "## Loop Over Numpy Arrays\n",
    "\n",
    "Loop over Numpy array\n",
    "If you're dealing with a 1D Numpy array, looping over all elements can be as simple as:\n",
    "\n",
    "for x in my_array :\n",
    "    ...\n",
    "If you're dealing with a 2D Numpy array, it's more complicated. A 2D array is built up of multiple 1D arrays. To explicitly iterate over all separate elements of a multi-dimensional array, you'll need this syntax:\n",
    "\n",
    "for x in np.nditer(my_array) :\n",
    "    ...\n",
    "\n",
    "Import the numpy package under the local alias np.\n",
    "\n",
    "Write a for loop that iterates over all elements in np_height and prints out \"x inches\" for each element, where x is the value in the array.\n",
    "\n",
    "Write a for loop that visits every element of the np_baseball array and prints it out."
   ]
  },
  {
   "cell_type": "code",
   "execution_count": 26,
   "metadata": {},
   "outputs": [
    {
     "name": "stdout",
     "output_type": "stream",
     "text": [
      "1.73 inches\n",
      "1.68 inches\n",
      "1.71 inches\n",
      "1.89 inches\n",
      "1.79 inches\n",
      "1.73\n",
      "1.68\n",
      "1.71\n",
      "1.89\n",
      "1.79\n",
      "65.4\n",
      "59.2\n",
      "63.6\n",
      "88.4\n",
      "68.7\n"
     ]
    }
   ],
   "source": [
    "# Import numpy as np\n",
    "import numpy as np\n",
    "\n",
    "np_height = np.array([1.73, 1.68, 1.71, 1.89, 1.79])\n",
    "np_weight = np.array([65.4, 59.2, 63.6, 88.4, 68.7])\n",
    "np_baseball = np.array([np_height, np_weight])\n",
    "\n",
    "# For loop over np_height\n",
    "for h in np.nditer(np_height) :\n",
    "    print(str(h) + \" inches\")\n",
    "\n",
    "# For loop over np_baseball\n",
    "for h in np.nditer(np_baseball) :\n",
    "    end = print(h)"
   ]
  },
  {
   "cell_type": "markdown",
   "metadata": {},
   "source": [
    "## Loop Data Structures 2 - Panda Data Frames"
   ]
  },
  {
   "cell_type": "code",
   "execution_count": 28,
   "metadata": {},
   "outputs": [
    {
     "name": "stdout",
     "output_type": "stream",
     "text": [
      "country\n",
      "capital\n",
      "area\n",
      "population\n"
     ]
    }
   ],
   "source": [
    "import pandas as pd\n",
    "brics = pd.read_csv(\"brics.csv\", index_col = 0)\n",
    "for val in brics :\n",
    "    print(val)\n",
    "\n",
    "#this just returns the column names"
   ]
  },
  {
   "cell_type": "markdown",
   "metadata": {},
   "source": [
    "### use iterows"
   ]
  },
  {
   "cell_type": "code",
   "execution_count": 30,
   "metadata": {},
   "outputs": [
    {
     "name": "stdout",
     "output_type": "stream",
     "text": [
      "BR\n",
      "country         Brazil\n",
      "capital       Brasilia\n",
      "area             8.516\n",
      "population       200.4\n",
      "Name: BR, dtype: object\n",
      "RU\n",
      "country       Russia\n",
      "capital       Moscow\n",
      "area            17.1\n",
      "population     143.5\n",
      "Name: RU, dtype: object\n",
      "IN\n",
      "country           India\n",
      "capital       New Delhi\n",
      "area              3.286\n",
      "population       1252.0\n",
      "Name: IN, dtype: object\n",
      "CH\n",
      "country         China\n",
      "capital       Beijing\n",
      "area            9.597\n",
      "population     1357.0\n",
      "Name: CH, dtype: object\n",
      "SA\n",
      "country       South Africa\n",
      "capital           Pretoria\n",
      "area                 1.221\n",
      "population           52.98\n",
      "Name: SA, dtype: object\n"
     ]
    }
   ],
   "source": [
    "import pandas as pd\n",
    "brics = pd.read_csv(\"brics.csv\", index_col = 0)\n",
    "for label, row in brics.iterrows():\n",
    "    print(label)\n",
    "    print(row)"
   ]
  },
  {
   "cell_type": "markdown",
   "metadata": {},
   "source": [
    "### selective print"
   ]
  },
  {
   "cell_type": "code",
   "execution_count": 32,
   "metadata": {},
   "outputs": [
    {
     "name": "stdout",
     "output_type": "stream",
     "text": [
      "BR: Brasilia\n",
      "RU: Moscow\n",
      "IN: New Delhi\n",
      "CH: Beijing\n",
      "SA: Pretoria\n"
     ]
    }
   ],
   "source": [
    "import pandas as pd\n",
    "brics = pd.read_csv(\"brics.csv\", index_col = 0)\n",
    "for label, row in brics.iterrows():\n",
    "    print(label + \": \" + row[\"capital\"])"
   ]
  },
  {
   "cell_type": "markdown",
   "metadata": {},
   "source": [
    "### add a column"
   ]
  },
  {
   "cell_type": "code",
   "execution_count": 34,
   "metadata": {},
   "outputs": [
    {
     "name": "stdout",
     "output_type": "stream",
     "text": [
      "         country    capital    area  population  name_length\n",
      "BR        Brazil   Brasilia   8.516      200.40          6.0\n",
      "RU        Russia     Moscow  17.100      143.50          6.0\n",
      "IN         India  New Delhi   3.286     1252.00          5.0\n",
      "CH         China    Beijing   9.597     1357.00          5.0\n",
      "SA  South Africa   Pretoria   1.221       52.98         12.0\n"
     ]
    }
   ],
   "source": [
    "import pandas as pd\n",
    "brics = pd.read_csv(\"brics.csv\", index_col = 0)\n",
    "for lab, row in brics.iterrows() :\n",
    "# - Creating Series on every iteration\n",
    "    brics.loc[lab,\"name_length\"] = len(row[\"country\"])\n",
    "print(brics)"
   ]
  },
  {
   "cell_type": "markdown",
   "metadata": {},
   "source": [
    "### apply\n",
    "the column method above creates a data list for each iteration\n",
    "\n",
    "the apply method is more efficient"
   ]
  },
  {
   "cell_type": "code",
   "execution_count": 35,
   "metadata": {},
   "outputs": [
    {
     "name": "stdout",
     "output_type": "stream",
     "text": [
      "         country    capital    area  population  name_length\n",
      "BR        Brazil   Brasilia   8.516      200.40            6\n",
      "RU        Russia     Moscow  17.100      143.50            6\n",
      "IN         India  New Delhi   3.286     1252.00            5\n",
      "CH         China    Beijing   9.597     1357.00            5\n",
      "SA  South Africa   Pretoria   1.221       52.98           12\n"
     ]
    }
   ],
   "source": [
    "import pandas as pd\n",
    "brics = pd.read_csv(\"brics.csv\", index_col = 0)\n",
    "brics[\"name_length\"] = brics[\"country\"].apply(len)\n",
    "print(brics)"
   ]
  },
  {
   "cell_type": "markdown",
   "metadata": {},
   "source": [
    "## Loop Over Data Frame\n",
    "\n",
    "Iterating over a Pandas DataFrame is typically done with the iterrows() method. Used in a for loop, every observation is iterated over and on every iteration the row label and actual row contents are available:\n",
    "\n",
    "for lab, row in brics.iterrows() :\n",
    "    ...\n",
    "\n",
    "Write a for loop that iterates over the rows of cars and on each iteration perform two print() calls: one to print out the row label and one to print out all of the rows contents."
   ]
  },
  {
   "cell_type": "code",
   "execution_count": 37,
   "metadata": {},
   "outputs": [
    {
     "name": "stdout",
     "output_type": "stream",
     "text": [
      "US\n",
      "cars_per_cap              809\n",
      "country         United States\n",
      "drives_right             True\n",
      "Name: US, dtype: object\n",
      "AUS\n",
      "cars_per_cap          731\n",
      "country         Australia\n",
      "drives_right        False\n",
      "Name: AUS, dtype: object\n",
      "JAP\n",
      "cars_per_cap      588\n",
      "country         Japan\n",
      "drives_right    False\n",
      "Name: JAP, dtype: object\n",
      "IN\n",
      "cars_per_cap       18\n",
      "country         India\n",
      "drives_right    False\n",
      "Name: IN, dtype: object\n",
      "RU\n",
      "cars_per_cap       200\n",
      "country         Russia\n",
      "drives_right      True\n",
      "Name: RU, dtype: object\n",
      "MOR\n",
      "cars_per_cap         70\n",
      "country         Morocco\n",
      "drives_right       True\n",
      "Name: MOR, dtype: object\n",
      "EG\n",
      "cars_per_cap       45\n",
      "country         Egypt\n",
      "drives_right     True\n",
      "Name: EG, dtype: object\n"
     ]
    }
   ],
   "source": [
    "# Import cars data\n",
    "import pandas as pd\n",
    "cars = pd.read_csv('cars.csv', index_col = 0)\n",
    "\n",
    "# Iterate over rows of cars\n",
    "for label, row in cars.iterrows() :\n",
    "    print(label)\n",
    "    print(row)"
   ]
  },
  {
   "cell_type": "markdown",
   "metadata": {},
   "source": [
    "## Loop Over Data Frame 2\n",
    "\n",
    "The row data that's generated by iterrows() on every run is a Pandas Series. \n",
    "\n",
    "This format is not very convenient to print out. \n",
    "\n",
    "Luckily, you can easily select variables from the Pandas Series using square brackets:\n",
    "\n",
    "for lab, row in brics.iterrows() :\n",
    "    print(row['country'])\n",
    "\n",
    "Using the iterators lab and row, adapt the code in the for loop such that the first iteration prints out \"US: 809\", the second iteration \"AUS: 731\", and so on.\n",
    "\n",
    "The output should be in the form \"country: cars_per_cap\". Make sure to print out this exact string (with the correct spacing).\n",
    "\n",
    "You can use str() to convert your integer data to a string so that you can print it in conjunction with the country label."
   ]
  },
  {
   "cell_type": "code",
   "execution_count": 40,
   "metadata": {},
   "outputs": [
    {
     "name": "stdout",
     "output_type": "stream",
     "text": [
      "US: 809\n",
      "AUS: 731\n",
      "JAP: 588\n",
      "IN: 18\n",
      "RU: 200\n",
      "MOR: 70\n",
      "EG: 45\n"
     ]
    }
   ],
   "source": [
    "# Import cars data\n",
    "import pandas as pd\n",
    "cars = pd.read_csv('cars.csv', index_col = 0)\n",
    "\n",
    "# Adapt for loop\n",
    "for lab, row in cars.iterrows() :\n",
    "    print(lab + \": \" + str(row[\"cars_per_cap\"]))"
   ]
  },
  {
   "cell_type": "markdown",
   "metadata": {},
   "source": [
    "## Add a column\n",
    "e.g.\n",
    "for lab, row in brics.iterrows() :\n",
    "    brics.loc[lab, \"name_length\"] = len(row[\"country\"])\n",
    "\n",
    "Use a for loop to add a new column, named COUNTRY, that contains a uppercase version of the country names in the \"country\" column. You can use the string method upper() for this.\n",
    "To see if your code worked, print out cars. Don't indent this code, so that it's not part of the for loop."
   ]
  },
  {
   "cell_type": "code",
   "execution_count": 50,
   "metadata": {},
   "outputs": [
    {
     "name": "stdout",
     "output_type": "stream",
     "text": [
      "     cars_per_cap        country  drives_right        COUNTRY\n",
      "US            809  United States          True  UNITED STATES\n",
      "AUS           731      Australia         False      AUSTRALIA\n",
      "JAP           588          Japan         False          JAPAN\n",
      "IN             18          India         False          INDIA\n",
      "RU            200         Russia          True         RUSSIA\n",
      "MOR            70        Morocco          True        MOROCCO\n",
      "EG             45          Egypt          True          EGYPT\n"
     ]
    }
   ],
   "source": [
    "# Import cars data\n",
    "import pandas as pd\n",
    "cars = pd.read_csv('cars.csv', index_col = 0)\n",
    "\n",
    "# Code for loop that adds COUNTRY column\n",
    "for lab, row in cars.iterrows() :\n",
    "    cars.loc[lab, \"COUNTRY\"] = row[\"country\"].upper()\n",
    "\n",
    "\n",
    "# Print cars\n",
    "print(cars)"
   ]
  },
  {
   "cell_type": "markdown",
   "metadata": {},
   "source": [
    "## Add a column 2\n",
    "Using iterrows() to iterate over every observation of a Pandas DataFrame is easy to understand, but not very efficient. On every iteration, you're creating a new Pandas Series.\n",
    "\n",
    "If you want to add a column to a DataFrame by calling a function on another column, the iterrows() method in combination with a for loop is not the preferred way to go. Instead, you'll want to use apply().\n",
    "\n",
    "Compare the iterrows() version with the apply() version to get the same result in the brics DataFrame:\n",
    "\n",
    "for lab, row in brics.iterrows() :\n",
    "    brics.loc[lab, \"name_length\"] = len(row[\"country\"])\n",
    "\n",
    "brics[\"name_length\"] = brics[\"country\"].apply(len)\n",
    "\n",
    "\n",
    "Replace the for loop with a one-liner that uses .apply(str.upper). The call should give the same result: a column COUNTRY should be added to cars, containing an uppercase version of the country names.\n",
    "As usual, print out cars to see the fruits of your hard labor\n"
   ]
  },
  {
   "cell_type": "code",
   "execution_count": 52,
   "metadata": {},
   "outputs": [
    {
     "name": "stdout",
     "output_type": "stream",
     "text": [
      "     cars_per_cap        country  drives_right        COUNTRY\n",
      "US            809  United States          True  UNITED STATES\n",
      "AUS           731      Australia         False      AUSTRALIA\n",
      "JAP           588          Japan         False          JAPAN\n",
      "IN             18          India         False          INDIA\n",
      "RU            200         Russia          True         RUSSIA\n",
      "MOR            70        Morocco          True        MOROCCO\n",
      "EG             45          Egypt          True          EGYPT\n"
     ]
    }
   ],
   "source": [
    "# Import cars data\n",
    "import pandas as pd\n",
    "cars = pd.read_csv('cars.csv', index_col = 0)\n",
    "\n",
    "# Use .apply(str.upper)\n",
    "cars[\"COUNTRY\"] = cars[\"country\"].apply(str.upper)\n",
    "\n",
    "print(cars)"
   ]
  },
  {
   "cell_type": "markdown",
   "metadata": {},
   "source": [
    "# Random Numbers\n",
    "\n",
    "Instead of solving directly with math, we will use random numbers to simulate an event to determine the likely outcome.\n",
    "\n"
   ]
  },
  {
   "cell_type": "code",
   "execution_count": 4,
   "metadata": {},
   "outputs": [
    {
     "name": "stdout",
     "output_type": "stream",
     "text": [
      "0.6964691855978616\n",
      "0.28613933495037946\n",
      "0.6964691855978616\n",
      "0.6964691855978616\n"
     ]
    }
   ],
   "source": [
    "import numpy as np\n",
    "\n",
    "np.random.seed(123)\n",
    "print(np.random.rand())\n",
    "print(np.random.rand())\n",
    "np.random.seed(123)\n",
    "print(np.random.rand())\n",
    "np.random.seed(123)\n",
    "print(np.random.rand())"
   ]
  },
  {
   "cell_type": "markdown",
   "metadata": {},
   "source": [
    "## Coin toss generator"
   ]
  },
  {
   "cell_type": "code",
   "execution_count": 34,
   "metadata": {},
   "outputs": [
    {
     "name": "stdout",
     "output_type": "stream",
     "text": [
      "0\n",
      "heads\n"
     ]
    }
   ],
   "source": [
    "import numpy as np\n",
    "\n",
    "#np.random.seed(123)\n",
    "coin = np.random.randint(0, 2)\n",
    "print(coin)\n",
    "if coin == 0 :\n",
    "    print(\"heads\")\n",
    "else :\n",
    "    print(\"tails\")"
   ]
  },
  {
   "cell_type": "markdown",
   "metadata": {},
   "source": [
    "## Random Float\n",
    "\n",
    "Randomness has many uses in science, art, statistics, cryptography, gaming, gambling, and other fields. You're going to use randomness to simulate a game.\n",
    "\n",
    "All the functionality you need is contained in the random package, a sub-package of numpy. In this exercise, you'll be using two functions from this package:\n",
    "\n",
    "seed(): sets the random seed, so that your results are reproducible between simulations. As an argument, it takes an integer of your choosing. If you call the function, no output will be generated.\n",
    "rand(): if you don't specify any arguments, it generates a random float between zero and one.\n",
    "\n",
    "Import numpy as np.\n",
    "\n",
    "Use seed() to set the seed; as an argument, pass 123.\n",
    "\n",
    "Generate your first random float with rand() and print it out."
   ]
  },
  {
   "cell_type": "code",
   "execution_count": 35,
   "metadata": {},
   "outputs": [
    {
     "name": "stdout",
     "output_type": "stream",
     "text": [
      "0.6964691855978616\n"
     ]
    }
   ],
   "source": [
    "# Import numpy as np\n",
    "import numpy as np\n",
    "\n",
    "# Set the seed\n",
    "np.random.seed(123)\n",
    "\n",
    "# Generate and print random float\n",
    "print(np.random.rand())"
   ]
  },
  {
   "cell_type": "markdown",
   "metadata": {},
   "source": [
    "## Roll the Dice\n",
    "\n",
    "In the previous exercise, you used rand(), that generates a random float between 0 and 1.\n",
    "\n",
    "As Hugo explained in the video you can just as well use randint(), also a function of the random package, to generate integers randomly. The following call generates the integer 4, 5, 6 or 7 randomly. 8 is not included.\n",
    "\n",
    "import numpy as np\n",
    "np.random.randint(4, 8)\n",
    "Numpy has already been imported as np and a seed has been set. Can you roll some dice?\n",
    "\n",
    "Use randint() with the appropriate arguments to randomly generate the integer 1, 2, 3, 4, 5 or 6. This simulates a dice. Print it out.\n",
    "\n",
    "Repeat the outcome to see if the second throw is different. Again, print out the result."
   ]
  },
  {
   "cell_type": "code",
   "execution_count": 38,
   "metadata": {},
   "outputs": [
    {
     "name": "stdout",
     "output_type": "stream",
     "text": [
      "6\n",
      "3\n"
     ]
    }
   ],
   "source": [
    "# Import numpy and set seed\n",
    "import numpy as np\n",
    "np.random.seed(123)\n",
    "\n",
    "# Use randint() to simulate a dice\n",
    "print(np.random.randint(1, 7))\n",
    "\n",
    "# Use randint() again\n",
    "print(np.random.randint(1, 7))"
   ]
  },
  {
   "cell_type": "markdown",
   "metadata": {},
   "source": [
    "## Determine the Next Move\n",
    "\n",
    "In the Empire State Building bet, your next move depends on the number of eyes you throw with the dice. We can perfectly code this with an if-elif-else construct!\n",
    "\n",
    "The sample code assumes that you're currently at step 50. Can you fill in the missing pieces to finish the script? numpy is already imported as np and the seed has been set to 123, so you don't have to worry about that anymore.\n",
    "\n",
    "Roll the dice. Use randint() to create the variable dice.\n",
    "\n",
    "Finish the if-elif-else construct by replacing ___:\n",
    "\n",
    "If dice is 1 or 2, you go one step down.\n",
    "\n",
    "if dice is 3, 4 or 5, you go one step up.\n",
    "\n",
    "Else, you throw the dice again. The number of eyes is the number of steps you go up.\n",
    "\n",
    "Print out dice and step. Given the value of dice, was step updated correctly?"
   ]
  },
  {
   "cell_type": "code",
   "execution_count": 42,
   "metadata": {},
   "outputs": [
    {
     "name": "stdout",
     "output_type": "stream",
     "text": [
      "6\n",
      "53\n"
     ]
    }
   ],
   "source": [
    "# Import numpy and set seed\n",
    "import numpy as np\n",
    "np.random.seed(123)\n",
    "# Numpy is imported, seed is set\n",
    "\n",
    "# Starting step\n",
    "step = 50\n",
    "\n",
    "# Roll the dice\n",
    "dice = np.random.randint(1, 7)\n",
    "\n",
    "# Finish the control construct\n",
    "if dice <= 2 :\n",
    "    step = step - 1\n",
    "elif dice >= 3 and dice <= 5:\n",
    "    step = step + 1\n",
    "else :\n",
    "    step = step + np.random.randint(1,7)\n",
    "\n",
    "# Print out dice and step\n",
    "print(dice)\n",
    "print(step)\n"
   ]
  },
  {
   "cell_type": "markdown",
   "metadata": {},
   "source": [
    "## Random Walk\n",
    "\n",
    "Random items in list where each outcome is based on the outcome of the previous iteration.\n",
    "Move from a random list of events to a list of outcomes that accumulates some event.\n",
    "\n",
    "Before, you have already written Python code that determines the next step based on the previous step. Now it's time to put this code inside a for loop so that we can simulate a random walk.\n",
    "\n",
    "Make a list random_walk that contains the first step, which is the integer 0.\n",
    "\n",
    "Finish the for loop:\n",
    "\n",
    "The loop should run 100 times.\n",
    "\n",
    "On each iteration, set step equal to the last element in the random_walk list. You can use the index -1 for this.\n",
    "\n",
    "Next, let the if-elif-else construct update step for you.\n",
    "\n",
    "The code that appends step to random_walk is already coded.\n",
    "\n",
    "Print out random_walk."
   ]
  },
  {
   "cell_type": "code",
   "execution_count": 44,
   "metadata": {},
   "outputs": [
    {
     "name": "stdout",
     "output_type": "stream",
     "text": [
      "[0, 1, 2, 1, 2, 3, 4, 3, 2, 1, 0, -1, -2, -3, -4, -3, 2, 1, 0, 1, 0, 1, 2, 3, 4, 5, 4, 5, 4, 5, 6, 7, 8, 7, 11, 12, 11, 12, 11, 12, 13, 14, 15, 16, 17, 18, 21, 22, 23, 24, 29, 30, 34, 35, 34, 35, 36, 35, 36, 37, 39, 40, 41, 40, 39, 40, 41, 40, 39, 40, 41, 43, 42, 41, 42, 41, 42, 43, 44, 46, 45, 46, 47, 48, 49, 50, 49, 48, 49, 48, 49, 50, 49, 52, 53, 54, 55, 54, 55, 56, 60]\n"
     ]
    }
   ],
   "source": [
    "# Numpy is imported, seed is set\n",
    "\n",
    "# Initialize random_walk\n",
    "random_walk = [0]\n",
    "\n",
    "# Complete the ___\n",
    "for x in range(100) :\n",
    "    # Set step: last element in random_walk\n",
    "    step = random_walk[-1]\n",
    "\n",
    "    # Roll the dice\n",
    "    dice = np.random.randint(1,7)\n",
    "\n",
    "    # Determine next step\n",
    "    if dice <= 2:\n",
    "        step = step - 1\n",
    "    elif dice <= 5:\n",
    "        step = step + 1\n",
    "    else:\n",
    "        step = step + np.random.randint(1,7)\n",
    "\n",
    "    # append next_step to random_walk\n",
    "    random_walk.append(step)\n",
    "\n",
    "# Print random_walk\n",
    "print(random_walk)"
   ]
  },
  {
   "cell_type": "markdown",
   "metadata": {},
   "source": [
    "## Random Walk Simulation\n",
    "\n",
    "Things are shaping up nicely! You already have code that calculates your location in the Empire State Building after 100 dice throws. However, there's something we haven't thought about - you can't go below 0!\n",
    "\n",
    "A typical way to solve problems like this is by using max(). If you pass max() two arguments, the biggest one gets returned. For example, to make sure that a variable x never goes below 10 when you decrease it, you can use: x = max(10, x - 1)\n",
    "\n",
    "Use max() in a similar way to make sure that step doesn't go below zero if dice <= 2.\n",
    "\n",
    "Hit Submit Answer and check the contents of random_walk."
   ]
  },
  {
   "cell_type": "code",
   "execution_count": 45,
   "metadata": {},
   "outputs": [
    {
     "name": "stdout",
     "output_type": "stream",
     "text": [
      "[0, 0, 0, 2, 1, 2, 4, 5, 6, 11, 10, 11, 12, 13, 14, 15, 14, 19, 20, 21, 22, 21, 20, 19, 18, 17, 18, 19, 20, 26, 25, 24, 23, 24, 25, 26, 25, 26, 27, 26, 31, 32, 31, 30, 29, 28, 29, 28, 27, 29, 30, 33, 34, 36, 37, 38, 39, 38, 37, 38, 39, 40, 41, 40, 41, 42, 43, 46, 47, 48, 47, 48, 47, 48, 49, 50, 54, 53, 52, 53, 54, 55, 54, 55, 54, 55, 57, 62, 61, 62, 63, 64, 65, 66, 67, 66, 67, 68, 69, 71, 73]\n"
     ]
    }
   ],
   "source": [
    "# Numpy is imported, seed is set\n",
    "\n",
    "# Initialize random_walk\n",
    "random_walk = [0]\n",
    "\n",
    "for x in range(100) :\n",
    "    step = random_walk[-1]\n",
    "    dice = np.random.randint(1,7)\n",
    "\n",
    "    if dice <= 2:\n",
    "        # Replace below: use max to make sure step can't go below 0\n",
    "        step = max(0, step - 1)\n",
    "    elif dice <= 5:\n",
    "        step = step + 1\n",
    "    else:\n",
    "        step = step + np.random.randint(1,7)\n",
    "\n",
    "    random_walk.append(step)\n",
    "\n",
    "print(random_walk)"
   ]
  },
  {
   "cell_type": "markdown",
   "metadata": {},
   "source": [
    "## Visualizing a Random Walk\n",
    "\n",
    "Let's visualize this random walk! Remember how you could use matplotlib to build a line plot?\n",
    "\n",
    "import matplotlib.pyplot as plt\n",
    "plt.plot(x, y)\n",
    "plt.show()\n",
    "The first list you pass is mapped onto the x axis and the second list is mapped onto the y axis.\n",
    "\n",
    "If you pass only one argument, Python will know what to do and will use the index of the list to map onto the x axis, and the values in the list onto the y axis.\n",
    "\n",
    "Add some lines of code after the for loop:\n",
    "\n",
    "Import matplotlib.pyplot as plt.\n",
    "\n",
    "Use plt.plot() to plot random_walk.\n",
    "\n",
    "Finish off with plt.show() to actually display the plot."
   ]
  },
  {
   "cell_type": "code",
   "execution_count": 48,
   "metadata": {},
   "outputs": [
    {
     "data": {
      "image/png": "[encoded data removed]",
      "text/plain": [
       "<Figure size 432x288 with 1 Axes>"
      ]
     },
     "metadata": {
      "needs_background": "light"
     },
     "output_type": "display_data"
    }
   ],
   "source": [
    "# Numpy is imported, seed is set\n",
    "\n",
    "# Initialization\n",
    "random_walk = [0]\n",
    "\n",
    "for x in range(100) :\n",
    "    step = random_walk[-1]\n",
    "    dice = np.random.randint(1,7)\n",
    "\n",
    "    if dice <= 2:\n",
    "        step = max(0, step - 1)\n",
    "    elif dice <= 5:\n",
    "        step = step + 1\n",
    "    else:\n",
    "        step = step + np.random.randint(1,7)\n",
    "\n",
    "    random_walk.append(step)\n",
    "\n",
    "# Import matplotlib.pyplot as plt\n",
    "import matplotlib.pyplot as plt\n",
    "\n",
    "# Plot random_walk\n",
    "plt.plot(random_walk)\n",
    "\n",
    "# Show the plot\n",
    "plt.show()"
   ]
  },
  {
   "cell_type": "markdown",
   "metadata": {},
   "source": [
    "# Distribution of Random Walks\n",
    "\n",
    "Run the random walk and map its distribution to determine the probability distribution of ending on any given step.\n",
    "\n",
    "More experiments will yield a result closer to the theoretical distribution."
   ]
  },
  {
   "cell_type": "code",
   "execution_count": 55,
   "metadata": {},
   "outputs": [
    {
     "data": {
      "image/png": "[encoded data removed]",
      "text/plain": [
       "<Figure size 432x288 with 1 Axes>"
      ]
     },
     "metadata": {
      "needs_background": "light"
     },
     "output_type": "display_data"
    }
   ],
   "source": [
    "import numpy as np\n",
    "import matplotlib.pyplot as plt\n",
    "np.random.seed(123)\n",
    "final_tails = []\n",
    "for x in range(10000) :\n",
    "    tails = [0]\n",
    "    for x in range(10) :\n",
    "        coin = np.random.randint(0,2)\n",
    "        tails.append(tails[x] + coin)\n",
    "    final_tails.append(tails[-1])\n",
    "plt.hist(final_tails, 10)\n",
    "plt.show()"
   ]
  },
  {
   "cell_type": "markdown",
   "metadata": {},
   "source": [
    "## Simulating Many Walks\n",
    "\n",
    "A single random walk is one thing, but that doesn't tell you if you have a good chance at winning the bet.\n",
    "\n",
    "To get an idea about how big your chances are of reaching 60 steps, you can repeatedly simulate the random walk and collect the results. That's exactly what you'll do in this exercise.\n",
    "\n",
    "The sample code already sets you off in the right direction. Another for loop is wrapped around the code you already wrote. It's up to you to add some bits and pieces to make sure all of the results are recorded correctly.\n",
    "\n",
    "Note: Don't change anything about the initialization of all_walks that is given. Setting any number inside the list will cause the exercise to crash!\n",
    "\n",
    "Fill in the specification of the for loop so that the random walk is simulated 10 times.\n",
    "\n",
    "After the random_walk array is entirely populated, append the array to the all_walks list.\n",
    "\n",
    "Finally, after the top-level for loop, print out all_walks."
   ]
  },
  {
   "cell_type": "code",
   "execution_count": 58,
   "metadata": {},
   "outputs": [
    {
     "name": "stdout",
     "output_type": "stream",
     "text": [
      "[[0, 5, 6, 5, 6, 7, 8, 9, 10, 9, 8, 7, 8, 9, 12, 13, 14, 13, 14, 17, 20, 21, 22, 23, 24, 23, 22, 27, 28, 29, 28, 29, 28, 29, 28, 29, 30, 31, 32, 31, 32, 33, 34, 33, 34, 33, 32, 33, 34, 38, 44, 45, 46, 47, 48, 49, 50, 51, 52, 53, 52, 51, 52, 53, 56, 57, 58, 59, 58, 59, 58, 59, 58, 59, 60, 59, 58, 57, 56, 55, 60, 61, 60, 59, 60, 59, 60, 61, 62, 61, 62, 61, 62, 64, 65, 66, 67, 68, 69, 70, 71], [0, 1, 2, 8, 9, 8, 9, 10, 11, 12, 13, 15, 16, 17, 18, 19, 20, 19, 20, 22, 24, 25, 30, 31, 32, 33, 34, 33, 34, 35, 34, 35, 36, 35, 37, 38, 40, 41, 42, 45, 46, 45, 46, 45, 46, 45, 44, 45, 50, 53, 52, 51, 50, 49, 50, 49, 50, 51, 50, 54, 55, 54, 55, 54, 53, 54, 55, 56, 57, 56, 55, 61, 62, 65, 66, 67, 66, 65, 70, 71, 70, 71, 70, 73, 74, 75, 76, 77, 78, 77, 78, 79, 78, 79, 80, 79, 78, 77, 78, 79, 80], [0, 0, 1, 3, 2, 3, 2, 3, 6, 7, 6, 7, 8, 7, 8, 7, 8, 7, 8, 9, 11, 16, 17, 22, 23, 22, 23, 24, 25, 31, 32, 37, 38, 39, 40, 41, 42, 44, 45, 46, 47, 46, 47, 51, 50, 49, 50, 51, 50, 51, 50, 53, 55, 56, 57, 58, 57, 58, 57, 58, 57, 59, 58, 57, 56, 55, 56, 57, 58, 59, 60, 66, 67, 66, 70, 71, 76, 77, 82, 83, 86, 85, 86, 87, 88, 87, 88, 89, 91, 90, 95, 96, 95, 96, 97, 96, 95, 94, 95, 96, 95], [0, 0, 3, 4, 6, 5, 6, 5, 11, 13, 19, 20, 21, 25, 26, 27, 26, 31, 30, 31, 32, 33, 34, 35, 34, 36, 39, 38, 39, 38, 39, 40, 41, 45, 44, 47, 48, 49, 48, 49, 52, 53, 54, 55, 56, 57, 56, 55, 54, 53, 52, 53, 54, 53, 54, 57, 60, 66, 65, 64, 63, 64, 63, 64, 65, 66, 68, 70, 71, 70, 71, 70, 76, 77, 78, 79, 80, 79, 82, 86, 87, 88, 89, 88, 89, 94, 93, 92, 93, 98, 99, 100, 99, 100, 101, 102, 103, 102, 103, 104, 105], [0, 1, 2, 1, 0, 1, 2, 3, 4, 5, 6, 7, 11, 10, 11, 10, 12, 11, 10, 9, 10, 11, 10, 11, 12, 11, 12, 11, 10, 9, 13, 12, 11, 12, 11, 10, 11, 10, 11, 10, 11, 12, 18, 17, 18, 19, 18, 19, 18, 19, 20, 21, 23, 22, 21, 20, 21, 22, 23, 24, 25, 24, 27, 28, 29, 31, 35, 36, 35, 36, 37, 36, 35, 34, 35, 36, 35, 36, 37, 38, 37, 36, 35, 36, 35, 34, 33, 32, 33, 34, 36, 37, 36, 35, 37, 38, 39, 41, 42, 43, 44], [0, 5, 6, 7, 6, 5, 4, 5, 4, 3, 2, 3, 4, 5, 6, 8, 13, 12, 18, 23, 24, 23, 22, 28, 29, 28, 27, 28, 32, 33, 34, 35, 34, 33, 32, 33, 32, 31, 32, 33, 36, 37, 38, 42, 43, 44, 47, 48, 49, 50, 49, 50, 49, 54, 53, 52, 51, 52, 51, 50, 49, 50, 51, 52, 53, 52, 51, 55, 61, 62, 61, 62, 63, 64, 65, 66, 72, 73, 78, 81, 85, 86, 87, 86, 90, 89, 90, 91, 92, 93, 94, 95, 94, 95, 96, 99, 100, 101, 100, 101, 102], [0, 6, 7, 8, 7, 6, 5, 6, 7, 6, 8, 9, 10, 15, 21, 20, 21, 22, 23, 25, 26, 27, 28, 27, 26, 25, 30, 31, 30, 31, 37, 38, 39, 38, 39, 38, 37, 36, 35, 36, 41, 42, 41, 40, 41, 42, 43, 44, 49, 50, 49, 50, 51, 57, 58, 59, 60, 59, 60, 61, 62, 61, 62, 63, 62, 63, 64, 65, 66, 65, 66, 65, 66, 67, 68, 69, 70, 69, 70, 69, 68, 69, 72, 71, 70, 72, 71, 72, 71, 70, 71, 72, 73, 77, 76, 75, 74, 75, 74, 75, 76], [0, 0, 0, 0, 1, 0, 1, 2, 3, 7, 6, 5, 4, 3, 6, 12, 11, 12, 13, 12, 13, 16, 17, 18, 22, 23, 24, 25, 24, 23, 24, 25, 26, 27, 28, 29, 28, 27, 26, 28, 29, 30, 31, 30, 31, 30, 31, 32, 33, 32, 31, 30, 31, 32, 34, 33, 34, 35, 36, 40, 41, 42, 43, 44, 43, 42, 48, 47, 48, 49, 50, 51, 52, 53, 54, 55, 56, 57, 58, 57, 58, 59, 58, 64, 63, 64, 63, 62, 61, 63, 64, 65, 64, 65, 66, 67, 68, 69, 70, 71, 72], [0, 0, 1, 0, 1, 2, 5, 4, 3, 6, 7, 6, 5, 6, 5, 10, 11, 16, 22, 21, 22, 23, 24, 25, 28, 27, 28, 27, 30, 31, 30, 33, 34, 35, 37, 36, 35, 34, 35, 34, 35, 36, 37, 38, 39, 38, 39, 44, 45, 46, 45, 44, 45, 44, 45, 46, 47, 48, 49, 50, 51, 52, 53, 54, 60, 59, 62, 68, 69, 70, 69, 70, 71, 75, 76, 75, 76, 75, 76, 75, 81, 82, 83, 86, 87, 86, 91, 92, 93, 94, 93, 94, 99, 100, 101, 102, 101, 102, 101, 100, 99], [0, 0, 2, 3, 4, 6, 5, 11, 12, 13, 18, 19, 20, 21, 22, 23, 22, 21, 22, 23, 24, 23, 24, 25, 26, 32, 36, 37, 36, 35, 34, 33, 32, 31, 32, 33, 35, 34, 33, 34, 35, 36, 37, 38, 37, 38, 44, 43, 49, 50, 51, 52, 56, 55, 54, 53, 55, 56, 57, 58, 57, 56, 57, 58, 59, 58, 59, 58, 59, 60, 61, 62, 61, 60, 59, 60, 59, 58, 57, 56, 57, 56, 55, 56, 55, 56, 57, 56, 57, 58, 59, 58, 59, 60, 59, 58, 59, 60, 59, 58, 59]]\n"
     ]
    }
   ],
   "source": [
    "# Numpy is imported; seed is set\n",
    "\n",
    "# Initialize all_walks (don't change this line)\n",
    "all_walks = []\n",
    "\n",
    "# Simulate random walk 10 times\n",
    "for i in range(10) :\n",
    "\n",
    "    # Code from before\n",
    "    random_walk = [0]\n",
    "    for x in range(100) :\n",
    "        step = random_walk[-1]\n",
    "        dice = np.random.randint(1,7)\n",
    "\n",
    "        if dice <= 2:\n",
    "            step = max(0, step - 1)\n",
    "        elif dice <= 5:\n",
    "            step = step + 1\n",
    "        else:\n",
    "            step = step + np.random.randint(1,7)\n",
    "        random_walk.append(step)\n",
    "\n",
    "    # Append random_walk to all_walks\n",
    "    all_walks.append(random_walk)\n",
    "\n",
    "# Print all_walks\n",
    "print(all_walks)"
   ]
  },
  {
   "cell_type": "markdown",
   "metadata": {},
   "source": [
    "## Visualize the Simulations\n",
    "\n",
    "all_walks is a list of lists: every sub-list represents a single random walk. If you convert this list of lists to a Numpy array, you can start making interesting plots! matplotlib.pyplot is already imported as plt.\n",
    "\n",
    "The nested for loop is already coded for you - don't worry about it. For now, focus on the code that comes after this for loop.\n",
    "\n",
    "Use np.array() to convert all_walks to a Numpy array, np_aw.\n",
    "\n",
    "Try to use plt.plot() on np_aw. Also include plt.show(). Does it work out of the box?\n",
    "\n",
    "Transpose np_aw by calling np.transpose() on np_aw. Call the result np_aw_t. Now every row in np_all_walks represents the position after 1 throw for the 10 random walks.\n",
    "\n",
    "Use plt.plot() to plot np_aw_t; also include a plt.show(). Does it look better this time?"
   ]
  },
  {
   "cell_type": "code",
   "execution_count": 59,
   "metadata": {},
   "outputs": [
    {
     "data": {
      "image/png": "[encoded data removed]",
      "text/plain": [
       "<Figure size 432x288 with 1 Axes>"
      ]
     },
     "metadata": {
      "needs_background": "light"
     },
     "output_type": "display_data"
    },
    {
     "data": {
      "image/png": "[encoded data removed]",
      "text/plain": [
       "<Figure size 432x288 with 1 Axes>"
      ]
     },
     "metadata": {
      "needs_background": "light"
     },
     "output_type": "display_data"
    }
   ],
   "source": [
    "# numpy and matplotlib imported, seed set.\n",
    "\n",
    "# initialize and populate all_walks\n",
    "all_walks = []\n",
    "for i in range(10) :\n",
    "    random_walk = [0]\n",
    "    for x in range(100) :\n",
    "        step = random_walk[-1]\n",
    "        dice = np.random.randint(1,7)\n",
    "        if dice <= 2:\n",
    "            step = max(0, step - 1)\n",
    "        elif dice <= 5:\n",
    "            step = step + 1\n",
    "        else:\n",
    "            step = step + np.random.randint(1,7)\n",
    "        random_walk.append(step)\n",
    "    all_walks.append(random_walk)\n",
    "\n",
    "# Convert all_walks to Numpy array: np_aw\n",
    "np_aw = np.array(all_walks)\n",
    "\n",
    "# Plot np_aw and show\n",
    "plt.plot(np_aw)\n",
    "plt.show()\n",
    "\n",
    "# Clear the figure\n",
    "plt.clf()\n",
    "\n",
    "# Transpose np_aw: np_aw_t\n",
    "np_aw_t = np.transpose(np_aw)\n",
    "\n",
    "# Plot np_aw_t and show\n",
    "plt.plot(np_aw_t)\n",
    "plt.show()"
   ]
  },
  {
   "cell_type": "markdown",
   "metadata": {},
   "source": [
    "##  Implementing Clumsiness\n",
    "\n",
    "With this neatly written code of yours, changing the number of times the random walk should be simulated is super-easy. You simply update the range() function in the top-level for loop.\n",
    "\n",
    "There's still something we forgot! You're a bit clumsy and you have a 0.1% chance of falling down. That calls for another random number generation. Basically, you can generate a random float between 0 and 1. If this value is less than or equal to 0.001, you should reset step to 0.\n",
    "\n",
    "Change the range() function so that the simulation is performed 250 times.\n",
    "Finish the if condition so that step is set to 0 if a random float is less or equal to 0.001. Use np.random.rand()."
   ]
  },
  {
   "cell_type": "code",
   "execution_count": 60,
   "metadata": {},
   "outputs": [
    {
     "data": {
      "image/png": "[encoded data removed]",
      "text/plain": [
       "<Figure size 432x288 with 1 Axes>"
      ]
     },
     "metadata": {
      "needs_background": "light"
     },
     "output_type": "display_data"
    }
   ],
   "source": [
    "# numpy and matplotlib imported, seed set\n",
    "\n",
    "# Simulate random walk 250 times\n",
    "all_walks = []\n",
    "for i in range(250) :\n",
    "    random_walk = [0]\n",
    "    for x in range(100) :\n",
    "        step = random_walk[-1]\n",
    "        dice = np.random.randint(1,7)\n",
    "        if dice <= 2:\n",
    "            step = max(0, step - 1)\n",
    "        elif dice <= 5:\n",
    "            step = step + 1\n",
    "        else:\n",
    "            step = step + np.random.randint(1,7)\n",
    "\n",
    "        # Implement clumsiness\n",
    "        if np.random.rand() <= 0.001 :\n",
    "            step = 0\n",
    "\n",
    "        random_walk.append(step)\n",
    "    all_walks.append(random_walk)\n",
    "\n",
    "# Create and plot np_aw_t\n",
    "np_aw_t = np.transpose(np.array(all_walks))\n",
    "plt.plot(np_aw_t)\n",
    "plt.show()"
   ]
  },
  {
   "cell_type": "markdown",
   "metadata": {},
   "source": [
    "## Plot the Distribution of the Simulations\n",
    "\n",
    "All these fancy visualizations have put us on a sidetrack. We still have to solve the million-dollar problem: What are the odds that you'll reach 60 steps high on the Empire State Building?\n",
    "\n",
    "Basically, you want to know about the end points of all the random walks you've simulated. These end points have a certain distribution that you can visualize with a histogram.\n",
    "\n",
    "Note that if your code is taking too long to run, you might be plotting a histogram of the wrong data!\n",
    "\n",
    "To make sure we've got enough simulations, go crazy. Simulate the random walk 500 times.\n",
    "\n",
    "From np_aw_t, select the last row. This contains the endpoint of all 500 random walks you've simulated. Store this Numpy array as ends.\n",
    "\n",
    "Use plt.hist() to build a histogram of ends. Don't forget plt.show() to display the plot."
   ]
  },
  {
   "cell_type": "code",
   "execution_count": 61,
   "metadata": {},
   "outputs": [
    {
     "data": {
      "image/png": "[encoded data removed]",
      "text/plain": [
       "<Figure size 432x288 with 1 Axes>"
      ]
     },
     "metadata": {
      "needs_background": "light"
     },
     "output_type": "display_data"
    }
   ],
   "source": [
    "# numpy and matplotlib imported, seed set\n",
    "\n",
    "# Simulate random walk 500 times\n",
    "all_walks = []\n",
    "for i in range(500) :\n",
    "    random_walk = [0]\n",
    "    for x in range(100) :\n",
    "        step = random_walk[-1]\n",
    "        dice = np.random.randint(1,7)\n",
    "        if dice <= 2:\n",
    "            step = max(0, step - 1)\n",
    "        elif dice <= 5:\n",
    "            step = step + 1\n",
    "        else:\n",
    "            step = step + np.random.randint(1,7)\n",
    "        if np.random.rand() <= 0.001 :\n",
    "            step = 0\n",
    "        random_walk.append(step)\n",
    "    all_walks.append(random_walk)\n",
    "\n",
    "# Create and plot np_aw_t\n",
    "np_aw_t = np.transpose(np.array(all_walks))\n",
    "\n",
    "# Select last row from np_aw_t: ends\n",
    "ends = np_aw_t[-1,:]\n",
    "\n",
    "# Plot histogram of ends, display plot\n",
    "plt.hist(ends)\n",
    "plt.show()"
   ]
  },
  {
   "cell_type": "markdown",
   "metadata": {},
   "source": [
    "## Calcualting the Odds from the Distribution\n",
    "\n",
    "The histogram of the previous exercise was created from a Numpy array ends, that contains 500 integers. Each integer represents the end point of a random walk. To calculate the chance that this end point is greater than or equal to 60, you can count the number of integers in ends that are greater than or equal to 60 and divide that number by 500, the total number of simulations.\n",
    "\n",
    "Well then, what's the estimated chance that you'll reach 60 steps high if you play this Empire State Building game? The ends array is everything you need; it's available in your Python session so you can make calculations in the IPython Shell.\n",
    "\n"
   ]
  },
  {
   "cell_type": "code",
   "execution_count": 66,
   "metadata": {},
   "outputs": [
    {
     "name": "stdout",
     "output_type": "stream",
     "text": [
      "85.0475056092629\n"
     ]
    }
   ],
   "source": [
    "\n",
    "print(sum(ends[ends >= 60])/(sum(ends)) * 100)"
   ]
  }
 ],
 "metadata": {
  "interpreter": {
   "hash": "31f2aee4e71d21fbe5cf8b01ff0e069b9275f58929596ceb00d14d90e3e16cd6"
  },
  "kernelspec": {
   "display_name": "Python 3.8.10 64-bit",
   "name": "python3"
  },
  "language_info": {
   "codemirror_mode": {
    "name": "ipython",
    "version": 3
   },
   "file_extension": ".py",
   "mimetype": "text/x-python",
   "name": "python",
   "nbconvert_exporter": "python",
   "pygments_lexer": "ipython3",
   "version": "3.8.10"
  },
  "orig_nbformat": 4
 },
 "nbformat": 4,
 "nbformat_minor": 2
}
